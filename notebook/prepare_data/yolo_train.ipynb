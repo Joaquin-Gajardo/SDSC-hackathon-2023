{
 "cells": [
  {
   "cell_type": "code",
   "execution_count": 1,
   "metadata": {},
   "outputs": [
    {
     "name": "stdout",
     "output_type": "stream",
     "text": [
      "Requirement already satisfied: ultralytics in /home/azureuser/miniconda3/envs/hackathon/lib/python3.11/site-packages (8.0.221)\n",
      "Requirement already satisfied: matplotlib>=3.3.0 in /home/azureuser/miniconda3/envs/hackathon/lib/python3.11/site-packages (from ultralytics) (3.8.2)\n",
      "Requirement already satisfied: numpy>=1.22.2 in /home/azureuser/miniconda3/envs/hackathon/lib/python3.11/site-packages (from ultralytics) (1.26.2)\n",
      "Requirement already satisfied: opencv-python>=4.6.0 in /home/azureuser/miniconda3/envs/hackathon/lib/python3.11/site-packages (from ultralytics) (4.8.1.78)\n",
      "Requirement already satisfied: pillow>=7.1.2 in /home/azureuser/miniconda3/envs/hackathon/lib/python3.11/site-packages (from ultralytics) (10.1.0)\n",
      "Requirement already satisfied: pyyaml>=5.3.1 in /home/azureuser/miniconda3/envs/hackathon/lib/python3.11/site-packages (from ultralytics) (6.0.1)\n",
      "Requirement already satisfied: requests>=2.23.0 in /home/azureuser/miniconda3/envs/hackathon/lib/python3.11/site-packages (from ultralytics) (2.31.0)\n",
      "Requirement already satisfied: scipy>=1.4.1 in /home/azureuser/miniconda3/envs/hackathon/lib/python3.11/site-packages (from ultralytics) (1.11.4)\n",
      "Requirement already satisfied: torch>=1.8.0 in /home/azureuser/miniconda3/envs/hackathon/lib/python3.11/site-packages (from ultralytics) (2.1.1)\n",
      "Requirement already satisfied: torchvision>=0.9.0 in /home/azureuser/miniconda3/envs/hackathon/lib/python3.11/site-packages (from ultralytics) (0.16.1)\n",
      "Requirement already satisfied: tqdm>=4.64.0 in /home/azureuser/miniconda3/envs/hackathon/lib/python3.11/site-packages (from ultralytics) (4.66.1)\n",
      "Requirement already satisfied: pandas>=1.1.4 in /home/azureuser/miniconda3/envs/hackathon/lib/python3.11/site-packages (from ultralytics) (2.1.3)\n",
      "Requirement already satisfied: seaborn>=0.11.0 in /home/azureuser/miniconda3/envs/hackathon/lib/python3.11/site-packages (from ultralytics) (0.13.0)\n",
      "Requirement already satisfied: psutil in /home/azureuser/miniconda3/envs/hackathon/lib/python3.11/site-packages (from ultralytics) (5.9.6)\n",
      "Requirement already satisfied: py-cpuinfo in /home/azureuser/miniconda3/envs/hackathon/lib/python3.11/site-packages (from ultralytics) (9.0.0)\n",
      "Requirement already satisfied: thop>=0.1.1 in /home/azureuser/miniconda3/envs/hackathon/lib/python3.11/site-packages (from ultralytics) (0.1.1.post2209072238)\n",
      "Requirement already satisfied: contourpy>=1.0.1 in /home/azureuser/miniconda3/envs/hackathon/lib/python3.11/site-packages (from matplotlib>=3.3.0->ultralytics) (1.2.0)\n",
      "Requirement already satisfied: cycler>=0.10 in /home/azureuser/miniconda3/envs/hackathon/lib/python3.11/site-packages (from matplotlib>=3.3.0->ultralytics) (0.12.1)\n",
      "Requirement already satisfied: fonttools>=4.22.0 in /home/azureuser/miniconda3/envs/hackathon/lib/python3.11/site-packages (from matplotlib>=3.3.0->ultralytics) (4.45.1)\n",
      "Requirement already satisfied: kiwisolver>=1.3.1 in /home/azureuser/miniconda3/envs/hackathon/lib/python3.11/site-packages (from matplotlib>=3.3.0->ultralytics) (1.4.5)\n",
      "Requirement already satisfied: packaging>=20.0 in /home/azureuser/miniconda3/envs/hackathon/lib/python3.11/site-packages (from matplotlib>=3.3.0->ultralytics) (23.2)\n",
      "Requirement already satisfied: pyparsing>=2.3.1 in /home/azureuser/miniconda3/envs/hackathon/lib/python3.11/site-packages (from matplotlib>=3.3.0->ultralytics) (3.1.1)\n",
      "Requirement already satisfied: python-dateutil>=2.7 in /home/azureuser/miniconda3/envs/hackathon/lib/python3.11/site-packages (from matplotlib>=3.3.0->ultralytics) (2.8.2)\n",
      "Requirement already satisfied: pytz>=2020.1 in /home/azureuser/miniconda3/envs/hackathon/lib/python3.11/site-packages (from pandas>=1.1.4->ultralytics) (2023.3.post1)\n",
      "Requirement already satisfied: tzdata>=2022.1 in /home/azureuser/miniconda3/envs/hackathon/lib/python3.11/site-packages (from pandas>=1.1.4->ultralytics) (2023.3)\n",
      "Requirement already satisfied: charset-normalizer<4,>=2 in /home/azureuser/miniconda3/envs/hackathon/lib/python3.11/site-packages (from requests>=2.23.0->ultralytics) (3.3.2)\n",
      "Requirement already satisfied: idna<4,>=2.5 in /home/azureuser/miniconda3/envs/hackathon/lib/python3.11/site-packages (from requests>=2.23.0->ultralytics) (3.6)\n",
      "Requirement already satisfied: urllib3<3,>=1.21.1 in /home/azureuser/miniconda3/envs/hackathon/lib/python3.11/site-packages (from requests>=2.23.0->ultralytics) (2.1.0)\n",
      "Requirement already satisfied: certifi>=2017.4.17 in /home/azureuser/miniconda3/envs/hackathon/lib/python3.11/site-packages (from requests>=2.23.0->ultralytics) (2023.11.17)\n",
      "Requirement already satisfied: filelock in /home/azureuser/miniconda3/envs/hackathon/lib/python3.11/site-packages (from torch>=1.8.0->ultralytics) (3.13.1)\n",
      "Requirement already satisfied: typing-extensions in /home/azureuser/miniconda3/envs/hackathon/lib/python3.11/site-packages (from torch>=1.8.0->ultralytics) (4.8.0)\n",
      "Requirement already satisfied: sympy in /home/azureuser/miniconda3/envs/hackathon/lib/python3.11/site-packages (from torch>=1.8.0->ultralytics) (1.12)\n",
      "Requirement already satisfied: networkx in /home/azureuser/miniconda3/envs/hackathon/lib/python3.11/site-packages (from torch>=1.8.0->ultralytics) (3.2.1)\n",
      "Requirement already satisfied: jinja2 in /home/azureuser/miniconda3/envs/hackathon/lib/python3.11/site-packages (from torch>=1.8.0->ultralytics) (3.1.2)\n",
      "Requirement already satisfied: fsspec in /home/azureuser/miniconda3/envs/hackathon/lib/python3.11/site-packages (from torch>=1.8.0->ultralytics) (2023.10.0)\n",
      "Requirement already satisfied: nvidia-cuda-nvrtc-cu12==12.1.105 in /home/azureuser/miniconda3/envs/hackathon/lib/python3.11/site-packages (from torch>=1.8.0->ultralytics) (12.1.105)\n",
      "Requirement already satisfied: nvidia-cuda-runtime-cu12==12.1.105 in /home/azureuser/miniconda3/envs/hackathon/lib/python3.11/site-packages (from torch>=1.8.0->ultralytics) (12.1.105)\n",
      "Requirement already satisfied: nvidia-cuda-cupti-cu12==12.1.105 in /home/azureuser/miniconda3/envs/hackathon/lib/python3.11/site-packages (from torch>=1.8.0->ultralytics) (12.1.105)\n",
      "Requirement already satisfied: nvidia-cudnn-cu12==8.9.2.26 in /home/azureuser/miniconda3/envs/hackathon/lib/python3.11/site-packages (from torch>=1.8.0->ultralytics) (8.9.2.26)\n",
      "Requirement already satisfied: nvidia-cublas-cu12==12.1.3.1 in /home/azureuser/miniconda3/envs/hackathon/lib/python3.11/site-packages (from torch>=1.8.0->ultralytics) (12.1.3.1)\n",
      "Requirement already satisfied: nvidia-cufft-cu12==11.0.2.54 in /home/azureuser/miniconda3/envs/hackathon/lib/python3.11/site-packages (from torch>=1.8.0->ultralytics) (11.0.2.54)\n",
      "Requirement already satisfied: nvidia-curand-cu12==10.3.2.106 in /home/azureuser/miniconda3/envs/hackathon/lib/python3.11/site-packages (from torch>=1.8.0->ultralytics) (10.3.2.106)\n",
      "Requirement already satisfied: nvidia-cusolver-cu12==11.4.5.107 in /home/azureuser/miniconda3/envs/hackathon/lib/python3.11/site-packages (from torch>=1.8.0->ultralytics) (11.4.5.107)\n",
      "Requirement already satisfied: nvidia-cusparse-cu12==12.1.0.106 in /home/azureuser/miniconda3/envs/hackathon/lib/python3.11/site-packages (from torch>=1.8.0->ultralytics) (12.1.0.106)\n",
      "Requirement already satisfied: nvidia-nccl-cu12==2.18.1 in /home/azureuser/miniconda3/envs/hackathon/lib/python3.11/site-packages (from torch>=1.8.0->ultralytics) (2.18.1)\n",
      "Requirement already satisfied: nvidia-nvtx-cu12==12.1.105 in /home/azureuser/miniconda3/envs/hackathon/lib/python3.11/site-packages (from torch>=1.8.0->ultralytics) (12.1.105)\n",
      "Requirement already satisfied: triton==2.1.0 in /home/azureuser/miniconda3/envs/hackathon/lib/python3.11/site-packages (from torch>=1.8.0->ultralytics) (2.1.0)\n",
      "Requirement already satisfied: nvidia-nvjitlink-cu12 in /home/azureuser/miniconda3/envs/hackathon/lib/python3.11/site-packages (from nvidia-cusolver-cu12==11.4.5.107->torch>=1.8.0->ultralytics) (12.3.101)\n",
      "Requirement already satisfied: six>=1.5 in /home/azureuser/miniconda3/envs/hackathon/lib/python3.11/site-packages (from python-dateutil>=2.7->matplotlib>=3.3.0->ultralytics) (1.16.0)\n",
      "Requirement already satisfied: MarkupSafe>=2.0 in /home/azureuser/miniconda3/envs/hackathon/lib/python3.11/site-packages (from jinja2->torch>=1.8.0->ultralytics) (2.1.3)\n",
      "Requirement already satisfied: mpmath>=0.19 in /home/azureuser/miniconda3/envs/hackathon/lib/python3.11/site-packages (from sympy->torch>=1.8.0->ultralytics) (1.3.0)\n"
     ]
    }
   ],
   "source": [
    "!pip install ultralytics"
   ]
  },
  {
   "cell_type": "code",
   "execution_count": 52,
   "metadata": {},
   "outputs": [
    {
     "name": "stdout",
     "output_type": "stream",
     "text": [
      "Requirement already satisfied: tqdm in /home/azureuser/miniconda3/envs/hackathon/lib/python3.11/site-packages (4.66.1)\n"
     ]
    }
   ],
   "source": [
    "## importing required libraries\n",
    "import os\n",
    "import cv2\n",
    "import random\n",
    "\n",
    "from PIL import Image, ImageFile\n",
    "import matplotlib.pyplot as plt\n",
    "import matplotlib.image as mpimg\n",
    "\n",
    "import shutil\n",
    "\n",
    "!pip install tqdm --upgrade\n",
    "from tqdm.notebook import tqdm\n",
    "\n",
    "%matplotlib inline"
   ]
  },
  {
   "cell_type": "code",
   "execution_count": 3,
   "metadata": {},
   "outputs": [
    {
     "name": "stdout",
     "output_type": "stream",
     "text": [
      "Ultralytics YOLOv8.0.221 🚀 Python-3.11.5 torch-2.1.1+cu121 CUDA:0 (Tesla T4, 15948MiB)\n",
      "Setup complete ✅ (8 CPUs, 54.9 GB RAM, 64.7/3968.6 GB disk)\n"
     ]
    }
   ],
   "source": [
    "import ultralytics\n",
    "ultralytics.checks()"
   ]
  },
  {
   "cell_type": "code",
   "execution_count": 63,
   "metadata": {},
   "outputs": [],
   "source": [
    "def plot_one_box(x, image, color=None, label=None, line_thickness=None):\n",
    "    # Plots one bounding box on image img\n",
    "    tl = line_thickness or round(\n",
    "        0.002 * (image.shape[0] + image.shape[1]) / 2) + 1  # line/font thickness\n",
    "    color = color or [random.randint(0, 255) for _ in range(3)]\n",
    "    c1, c2 = (int(x[0]), int(x[1])), (int(x[2]), int(x[3]))\n",
    "    cv2.rectangle(image, c1, c2, color, thickness=tl, lineType=cv2.LINE_AA)\n",
    "    if label:\n",
    "        tf = max(tl - 1, 1)  # font thickness\n",
    "        t_size = cv2.getTextSize(label, 0, fontScale=tl / 3, thickness=tf)[0]\n",
    "        c2 = c1[0] + t_size[0], c1[1] - t_size[1] - 3\n",
    "        cv2.rectangle(image, c1, c2, color, -1, cv2.LINE_AA)  # filled\n",
    "        cv2.putText(image, label, (c1[0], c1[1] - 2), 0, tl / 3,\n",
    "                    [225, 255, 255], thickness=tf, lineType=cv2.LINE_AA)\n",
    "\n",
    "def draw_box_on_image(image_name, classes, colors, LABEL_FOLDER, RAW_IMAGE_FOLDER, OUTPUT_IMAGE_FOLDER):\n",
    "    \"\"\"\n",
    "    This function will add rectangle boxes on the images.\n",
    "    \"\"\"\n",
    "    txt_path = os.path.join(LABEL_FOLDER, '%s.txt' %\n",
    "                            (image_name))  # 本次检测结果txt路径\n",
    "    print(image_name)\n",
    "    if image_name == '.DS_Store':\n",
    "        return 0\n",
    "    image_path = os.path.join(RAW_IMAGE_FOLDER, '%s.png' %  ##CPD\n",
    "                              (image_name))  # 本次原始图片jpg路径\n",
    "\n",
    "    save_file_path = os.path.join(\n",
    "        OUTPUT_IMAGE_FOLDER, '%s.jpg' % (image_name))  # 本次保存图片jpg路径\n",
    "\n",
    "    # flag_people_or_car_data = 0  #变量 代表类别\n",
    "    source_file = open(txt_path) if os.path.exists(txt_path) else []\n",
    "    image = cv2.imread(image_path)\n",
    "    try:\n",
    "        height, width, channels = image.shape\n",
    "    except:\n",
    "        print('no shape info.')\n",
    "        return 0\n",
    "\n",
    "    box_number = 0\n",
    "    for line in source_file:  # 例遍 txt文件得每一行\n",
    "        staff = line.split()  # 对每行内容 通过以空格为分隔符对字符串进行切片\n",
    "        class_idx = int(staff[0])\n",
    "\n",
    "        x_center, y_center, w, h = float(\n",
    "            staff[1])*width, float(staff[2])*height, float(staff[3])*width, float(staff[4])*height\n",
    "        x1 = round(x_center-w/2)\n",
    "        y1 = round(y_center-h/2)\n",
    "        x2 = round(x_center+w/2)\n",
    "        y2 = round(y_center+h/2)\n",
    "\n",
    "        plot_one_box([x1, y1, x2, y2], image, color=colors[class_idx],\n",
    "                     label=classes[class_idx], line_thickness=None)\n",
    "\n",
    "        cv2.imwrite(save_file_path, image)\n",
    "\n",
    "        box_number += 1\n",
    "    return box_number\n",
    "\n",
    "\n",
    "def make_name_list(RAW_IMAGE_FOLDER, IMAGE_NAME_LIST_PATH):\n",
    "    \"\"\"\n",
    "    This function will collect the image names without extension and save them in the name_list.txt. \n",
    "    \"\"\"\n",
    "    image_file_list = os.listdir(RAW_IMAGE_FOLDER)  # 得到该路径下所有文件名称带后缀\n",
    "\n",
    "    text_image_name_list_file = open(\n",
    "        IMAGE_NAME_LIST_PATH, 'w')  # 以写入的方式打开txt ，方便更新 不要用追加写\n",
    "\n",
    "    for image_file_name in image_file_list:  # 例遍写入\n",
    "        image_name, file_extend = os.path.splitext(image_file_name)  # 去掉扩展名\n",
    "        text_image_name_list_file.write(image_name+'\\n')  # 写入\n",
    "\n",
    "    text_image_name_list_file.close()\n"
   ]
  },
  {
   "cell_type": "code",
   "execution_count": 10,
   "metadata": {},
   "outputs": [
    {
     "name": "stdout",
     "output_type": "stream",
     "text": [
      "DJI_20210901144329_0195_02_02.png DJI_20210901144306_0177_02_02.txt\n"
     ]
    }
   ],
   "source": [
    "\n",
    "images_path='/home/azureuser/Alpine-Aster/data/raw/bildacher/images'\n",
    "annotations_path='/home/azureuser/Alpine-Aster/data/raw/bildacher/yolo'\n",
    "L=os.listdir(images_path)\n",
    "A=os.listdir(annotations_path)\n",
    "print (L[0], A[0])"
   ]
  },
  {
   "cell_type": "code",
   "execution_count": null,
   "metadata": {},
   "outputs": [],
   "source": []
  },
  {
   "cell_type": "code",
   "execution_count": 39,
   "metadata": {},
   "outputs": [
    {
     "data": {
      "image/png": "[encoded data removed]",
      "text/plain": [
       "<Figure size 640x480 with 1 Axes>"
      ]
     },
     "metadata": {},
     "output_type": "display_data"
    },
    {
     "name": "stdout",
     "output_type": "stream",
     "text": [
      "/home/azureuser/Alpine-Aster/data/raw/bildacher/yolo/DJI_20210901144329_0195_02_02.txt\n",
      "['0 0.971206 0.3290805 0.0577001 0.1007692', '0 0.9878283 0.1634615 0.0237963 0.0439194', '0 0.9640637 0.4564029 0.0417553 0.0766227']\n"
     ]
    }
   ],
   "source": [
    "def verify_annotations(image_path):\n",
    "    my_path='/'.join(image_path.split('/')[0:-2])\n",
    "    \n",
    "    image_file=image_path.split('/')\n",
    "    image_file=image_file[len(image_file)-1]\n",
    "    \n",
    "    annotation_file=image_file.split('.')[0] + '.txt'\n",
    "    annotation_path=my_path+'/yolo/'+annotation_file    \n",
    "\n",
    "    #image = Image.open(img_path)\n",
    "    img = mpimg.imread(image_path)\n",
    "    imgplot = plt.imshow(img)\n",
    "    plt.show()\n",
    "    \n",
    "    with open(annotation_path) as file:\n",
    "        print(annotation_path)\n",
    "        annotations = [line.rstrip() for line in file]\n",
    "        \n",
    "    print(annotations)\n",
    "    \n",
    "    \n",
    "myimage_path='/home/azureuser/Alpine-Aster/data/raw/bildacher/images/' + L[0]\n",
    "verify_annotations(myimage_path)"
   ]
  },
  {
   "cell_type": "code",
   "execution_count": 70,
   "metadata": {},
   "outputs": [
    {
     "data": {
      "text/plain": [
       "'/home/azureuser/Alpine-Aster/data/raw/bildacher/yolo_cpd_test/DJI_20210901144329_0195_02_02.txt'"
      ]
     },
     "execution_count": 70,
     "metadata": {},
     "output_type": "execute_result"
    }
   ],
   "source": [
    "file_to_copy = '/home/azureuser/Alpine-Aster/data/raw/bildacher/yolo/DJI_20210901144329_0195_02_02.txt'\n",
    "\n",
    "# Specify the path of the destination directory you want to copy to\n",
    "destination_directory = '/home/azureuser/Alpine-Aster/data/raw/bildacher/yolo_cpd_test'\n",
    "\n",
    "# Use the shutil.copy() method to copy the file to the destination directory\n",
    "shutil.copy(file_to_copy, destination_directory)"
   ]
  },
  {
   "cell_type": "code",
   "execution_count": null,
   "metadata": {},
   "outputs": [],
   "source": [
    "def draw_bounding_boxes():\n",
    "    "
   ]
  },
  {
   "cell_type": "code",
   "execution_count": 72,
   "metadata": {},
   "outputs": [
    {
     "name": "stdout",
     "output_type": "stream",
     "text": [
      "DJI_20210901144329_0195_02_02\n",
      "Box number: 3 Image number: 1\n",
      "DJI_20210901143300_0698_01_01\n",
      "Box number: 5 Image number: 2\n",
      "DJI_20210901143828_0957_01_01\n",
      "Box number: 6 Image number: 3\n",
      "DJI_20210901143757_0933_02_02\n",
      "Box number: 13 Image number: 4\n",
      "DJI_20210901144052_0072_02_02\n",
      "Box number: 16 Image number: 5\n",
      "DJI_20210901143801_0936_01_01\n",
      "Box number: 18 Image number: 6\n",
      "DJI_20210901144029_0054_02_01\n",
      "Box number: 21 Image number: 7\n",
      "DJI_20210901144247_0162_01_01\n",
      "Box number: 30 Image number: 8\n",
      "DJI_20210901143754_0930_01_02\n",
      "Box number: 35 Image number: 9\n",
      "DJI_20210901144317_0186_02_01\n",
      "Box number: 45 Image number: 10\n",
      "DJI_20210901143315_0710_01_02\n",
      "Box number: 46 Image number: 11\n",
      "DJI_20210901144014_0042_01_02\n",
      "Box number: 49 Image number: 12\n",
      "DJI_20210901144104_0081_02_01\n",
      "Box number: 51 Image number: 13\n",
      "DJI_20210901143554_0836_02_02\n",
      "Box number: 53 Image number: 14\n",
      "DJI_20210901143550_0833_01_02\n",
      "Box number: 54 Image number: 15\n",
      "DJI_20210901143233_0677_02_02\n",
      "Box number: 55 Image number: 16\n",
      "DJI_20210901143311_0707_02_02\n",
      "Box number: 56 Image number: 17\n",
      "DJI_20210901142941_0542_02_01\n",
      "Box number: 57 Image number: 18\n",
      "DJI_20210901144048_0069_01_02\n",
      "Box number: 59 Image number: 19\n",
      "DJI_20210901142128_0155_02_02\n",
      "Box number: 60 Image number: 20\n",
      "DJI_20210901143221_0668_02_01\n",
      "Box number: 61 Image number: 21\n",
      "DJI_20210901143543_0827_02_02\n",
      "Box number: 62 Image number: 22\n",
      "DJI_20210901144247_0162_02_01\n",
      "Box number: 67 Image number: 23\n",
      "DJI_20210901143319_0713_02_02\n",
      "Box number: 68 Image number: 24\n",
      "DJI_20210901144052_0072_01_01\n",
      "Box number: 71 Image number: 25\n",
      "DJI_20210901143229_0674_01_01\n",
      "Box number: 72 Image number: 26\n",
      "DJI_20210901144033_0057_02_02\n",
      "Box number: 78 Image number: 27\n",
      "DJI_20210901142707_0421_01_01\n",
      "Box number: 79 Image number: 28\n",
      "DJI_20210901143805_0939_02_02\n",
      "Box number: 82 Image number: 29\n",
      "DJI_20210901143805_0939_02_01\n",
      "Box number: 83 Image number: 30\n",
      "DJI_20210901143617_0854_01_02\n",
      "Box number: 84 Image number: 31\n",
      "DJI_20210901142330_0251_02_01\n",
      "Box number: 85 Image number: 32\n",
      "DJI_20210901143754_0930_02_02\n",
      "Box number: 87 Image number: 33\n",
      "DJI_20210901144243_0159_01_02\n",
      "Box number: 89 Image number: 34\n",
      "DJI_20210901144045_0066_02_02\n",
      "Box number: 92 Image number: 35\n",
      "DJI_20210901144235_0153_01_02\n",
      "Box number: 93 Image number: 36\n",
      "DJI_20210901144333_0198_01_02\n",
      "Box number: 94 Image number: 37\n",
      "DJI_20210901143610_0848_02_01\n",
      "Box number: 95 Image number: 38\n",
      "DJI_20210901143621_0857_02_02\n",
      "Box number: 97 Image number: 39\n",
      "DJI_20210901143558_0839_02_02\n",
      "Box number: 102 Image number: 40\n",
      "DJI_20210901144025_0051_01_02\n",
      "Box number: 103 Image number: 41\n",
      "DJI_20210901142711_0424_02_02\n",
      "Box number: 106 Image number: 42\n",
      "DJI_20210901144321_0189_02_01\n",
      "Box number: 107 Image number: 43\n",
      "DJI_20210901143218_0665_01_02\n",
      "Box number: 108 Image number: 44\n",
      "DJI_20210901143746_0924_01_02\n",
      "Box number: 109 Image number: 45\n",
      "DJI_20210901144254_0168_02_02\n",
      "Box number: 110 Image number: 46\n",
      "DJI_20210901143750_0927_01_02\n",
      "Box number: 113 Image number: 47\n",
      "DJI_20210901143801_0936_02_02\n",
      "Box number: 118 Image number: 48\n",
      "DJI_20210901143757_0933_01_01\n",
      "Box number: 125 Image number: 49\n",
      "DJI_20210901143535_0821_02_02\n",
      "Box number: 127 Image number: 50\n",
      "DJI_20210901143256_0695_01_02\n",
      "Box number: 129 Image number: 51\n",
      "DJI_20210901143821_0951_02_01\n",
      "Box number: 132 Image number: 52\n",
      "DJI_20210901144018_0045_01_02\n",
      "Box number: 139 Image number: 53\n",
      "DJI_20210901143315_0710_02_01\n",
      "Box number: 140 Image number: 54\n",
      "DJI_20210901143621_0857_02_01\n",
      "Box number: 141 Image number: 55\n",
      "DJI_20210901144235_0153_01_01\n",
      "Box number: 142 Image number: 56\n",
      "DJI_20210901143824_0954_01_01\n",
      "Box number: 143 Image number: 57\n",
      "DJI_20210901143844_0969_02_02\n",
      "Box number: 144 Image number: 58\n",
      "DJI_20210901144239_0156_02_02\n",
      "Box number: 146 Image number: 59\n",
      "DJI_20210901144041_0063_02_01\n",
      "Box number: 148 Image number: 60\n",
      "DJI_20210901144314_0183_02_01\n",
      "Box number: 150 Image number: 61\n",
      "DJI_20210901142707_0421_01_02\n",
      "Box number: 151 Image number: 62\n",
      "DJI_20210901143836_0963_01_01\n",
      "Box number: 153 Image number: 63\n",
      "DJI_20210901144018_0045_01_01\n",
      "Box number: 156 Image number: 64\n",
      "DJI_20210901143840_0966_02_01\n",
      "Box number: 157 Image number: 65\n",
      "DJI_20210901143809_0942_01_01\n",
      "Box number: 158 Image number: 66\n",
      "DJI_20210901144018_0045_02_02\n",
      "Box number: 161 Image number: 67\n",
      "DJI_20210901144045_0066_01_02\n",
      "Box number: 167 Image number: 68\n",
      "DJI_20210901143311_0707_02_01\n",
      "Box number: 168 Image number: 69\n",
      "DJI_20210901143813_0945_01_02\n",
      "Box number: 170 Image number: 70\n",
      "DJI_20210901144056_0075_02_01\n",
      "Box number: 173 Image number: 71\n",
      "DJI_20210901143558_0839_02_01\n",
      "Box number: 174 Image number: 72\n",
      "DJI_20210901144310_0180_01_01\n",
      "Box number: 175 Image number: 73\n",
      "DJI_20210901144045_0066_01_01\n",
      "Box number: 176 Image number: 74\n",
      "DJI_20210901142941_0542_01_01\n",
      "Box number: 177 Image number: 75\n",
      "DJI_20210901144006_0036_02_01\n",
      "Box number: 178 Image number: 76\n",
      "DJI_20210901144037_0060_02_01\n",
      "Box number: 179 Image number: 77\n",
      "DJI_20210901144243_0159_01_01\n",
      "Box number: 182 Image number: 78\n",
      "DJI_20210901142318_0242_01_02\n",
      "Box number: 184 Image number: 79\n",
      "DJI_20210901143832_0960_02_02\n",
      "Box number: 186 Image number: 80\n",
      "DJI_20210901143617_0854_02_01\n",
      "Box number: 187 Image number: 81\n",
      "DJI_20210901144310_0180_02_01\n",
      "Box number: 188 Image number: 82\n",
      "DJI_20210901143221_0668_01_02\n",
      "Box number: 189 Image number: 83\n",
      "DJI_20210901143517_0806_01_02\n",
      "Box number: 190 Image number: 84\n",
      "DJI_20210901142949_0548_01_02\n",
      "Box number: 191 Image number: 85\n",
      "DJI_20210901144247_0162_02_02\n",
      "Box number: 197 Image number: 86\n",
      "DJI_20210901144314_0183_01_01\n",
      "Box number: 204 Image number: 87\n",
      "DJI_20210901144025_0051_02_01\n",
      "Box number: 211 Image number: 88\n",
      "DJI_20210901143307_0704_02_02\n",
      "Box number: 212 Image number: 89\n",
      "DJI_20210901143613_0851_02_02\n",
      "Box number: 213 Image number: 90\n",
      "DJI_20210901143613_0851_01_01\n",
      "Box number: 215 Image number: 91\n",
      "DJI_20210901142109_0140_02_02\n",
      "Box number: 216 Image number: 92\n",
      "DJI_20210901144029_0054_01_02\n",
      "Box number: 221 Image number: 93\n",
      "DJI_20210901143809_0942_02_01\n",
      "Box number: 223 Image number: 94\n",
      "DJI_20210901144048_0069_02_02\n",
      "Box number: 234 Image number: 95\n",
      "DJI_20210901143031_0581_02_02\n",
      "Box number: 235 Image number: 96\n",
      "DJI_20210901143323_0716_01_02\n",
      "Box number: 238 Image number: 97\n",
      "DJI_20210901143558_0839_01_02\n",
      "Box number: 244 Image number: 98\n",
      "DJI_20210901143241_0683_01_01\n",
      "Box number: 245 Image number: 99\n",
      "DJI_20210901144243_0159_02_02\n",
      "Box number: 247 Image number: 100\n",
      "DJI_20210901144022_0048_01_01\n",
      "Box number: 250 Image number: 101\n",
      "DJI_20210901143805_0939_01_02\n",
      "Box number: 253 Image number: 102\n",
      "DJI_20210901143813_0945_02_01\n",
      "Box number: 254 Image number: 103\n",
      "DJI_20210901143610_0848_01_02\n",
      "Box number: 255 Image number: 104\n",
      "DJI_20210901144251_0165_02_02\n",
      "Box number: 259 Image number: 105\n",
      "DJI_20210901144100_0078_01_02\n",
      "Box number: 261 Image number: 106\n",
      "DJI_20210901144022_0048_02_02\n",
      "Box number: 265 Image number: 107\n",
      "DJI_20210901143610_0848_02_02\n",
      "Box number: 266 Image number: 108\n",
      "DJI_20210901143319_0713_01_02\n",
      "Box number: 268 Image number: 109\n",
      "DJI_20210901142632_0394_01_01\n",
      "Box number: 271 Image number: 110\n",
      "DJI_20210901144302_0174_02_02\n",
      "Box number: 283 Image number: 111\n",
      "DJI_20210901143524_0812_01_01\n",
      "Box number: 284 Image number: 112\n",
      "DJI_20210901143311_0707_01_01\n",
      "Box number: 285 Image number: 113\n",
      "DJI_20210901144251_0165_01_01\n",
      "Box number: 287 Image number: 114\n",
      "DJI_20210901144025_0051_02_02\n",
      "Box number: 288 Image number: 115\n",
      "DJI_20210901143256_0695_02_02\n",
      "Box number: 290 Image number: 116\n",
      "DJI_20210901143754_0930_01_01\n",
      "Box number: 291 Image number: 117\n",
      "DJI_20210901144100_0078_02_02\n",
      "Box number: 292 Image number: 118\n",
      "DJI_20210901143327_0719_02_02\n",
      "Box number: 294 Image number: 119\n",
      "DJI_20210901143008_0563_01_02\n",
      "Box number: 295 Image number: 120\n",
      "DJI_20210901142937_0539_01_01\n",
      "Box number: 296 Image number: 121\n",
      "DJI_20210901143757_0933_02_01\n",
      "Box number: 297 Image number: 122\n",
      "DJI_20210901143547_0830_02_02\n",
      "Box number: 300 Image number: 123\n",
      "DJI_20210901144022_0048_02_01\n",
      "Box number: 303 Image number: 124\n",
      "DJI_20210901144014_0042_02_02\n",
      "Box number: 304 Image number: 125\n",
      "DJI_20210901143547_0830_01_02\n",
      "Box number: 305 Image number: 126\n",
      "DJI_20210901143606_0845_02_02\n",
      "Box number: 310 Image number: 127\n",
      "DJI_20210901144306_0177_01_02\n",
      "Box number: 311 Image number: 128\n",
      "DJI_20210901144048_0069_02_01\n",
      "Box number: 314 Image number: 129\n",
      "DJI_20210901144243_0159_02_01\n",
      "Box number: 316 Image number: 130\n",
      "DJI_20210901143606_0845_01_02\n",
      "Box number: 318 Image number: 131\n",
      "DJI_20210901143832_0960_01_02\n",
      "Box number: 319 Image number: 132\n",
      "DJI_20210901143750_0927_02_01\n",
      "Box number: 320 Image number: 133\n",
      "DJI_20210901143817_0948_02_01\n",
      "Box number: 327 Image number: 134\n",
      "DJI_20210901144033_0057_01_01\n",
      "Box number: 328 Image number: 135\n",
      "DJI_20210901143602_0842_02_02\n",
      "Box number: 332 Image number: 136\n",
      "DJI_20210901144247_0162_01_02\n",
      "Box number: 338 Image number: 137\n",
      "DJI_20210901143606_0845_01_01\n",
      "Box number: 339 Image number: 138\n",
      "DJI_20210901143801_0936_01_02\n",
      "Box number: 343 Image number: 139\n",
      "DJI_20210901143824_0954_02_02\n",
      "Box number: 345 Image number: 140\n",
      "DJI_20210901143809_0942_01_02\n",
      "Box number: 348 Image number: 141\n",
      "DJI_20210901142322_0245_01_02\n",
      "Box number: 349 Image number: 142\n",
      "DJI_20210901141930_0062_01_02\n",
      "Box number: 350 Image number: 143\n",
      "DJI_20210901144045_0066_02_01\n",
      "Box number: 351 Image number: 144\n",
      "DJI_20210901143828_0957_01_02\n",
      "Box number: 352 Image number: 145\n",
      "DJI_20210901142314_0239_02_01\n",
      "Box number: 353 Image number: 146\n",
      "DJI_20210901144251_0165_01_02\n",
      "Box number: 354 Image number: 147\n",
      "DJI_20210901143817_0948_01_01\n",
      "Box number: 356 Image number: 148\n",
      "DJI_20210901142953_0551_02_02\n",
      "Box number: 357 Image number: 149\n",
      "DJI_20210901144056_0075_01_01\n",
      "Box number: 358 Image number: 150\n",
      "DJI_20210901144052_0072_01_02\n",
      "Box number: 359 Image number: 151\n",
      "DJI_20210901144239_0156_01_01\n",
      "Box number: 360 Image number: 152\n",
      "DJI_20210901142109_0140_02_01\n",
      "Box number: 362 Image number: 153\n",
      "DJI_20210901144325_0192_01_02\n",
      "Box number: 365 Image number: 154\n",
      "DJI_20210901143824_0954_02_01\n",
      "Box number: 367 Image number: 155\n",
      "DJI_20210901144258_0171_02_01\n",
      "Box number: 369 Image number: 156\n",
      "DJI_20210901144029_0054_01_01\n",
      "Box number: 372 Image number: 157\n",
      "DJI_20210901144239_0156_01_02\n",
      "Box number: 373 Image number: 158\n",
      "DJI_20210901143311_0707_01_02\n",
      "Box number: 375 Image number: 159\n",
      "DJI_20210901143821_0951_01_02\n",
      "Box number: 376 Image number: 160\n",
      "DJI_20210901143821_0951_01_01\n",
      "Box number: 379 Image number: 161\n",
      "DJI_20210901143513_0803_01_01\n",
      "Box number: 380 Image number: 162\n",
      "DJI_20210901143809_0942_02_02\n",
      "Box number: 383 Image number: 163\n",
      "DJI_20210901143757_0933_01_02\n",
      "Box number: 389 Image number: 164\n",
      "DJI_20210901143617_0854_02_02\n",
      "Box number: 390 Image number: 165\n",
      "DJI_20210901144251_0165_02_01\n",
      "Box number: 392 Image number: 166\n",
      "DJI_20210901143602_0842_01_02\n",
      "Box number: 397 Image number: 167\n",
      "DJI_20210901143229_0674_02_02\n",
      "Box number: 398 Image number: 168\n",
      "DJI_20210901143813_0945_02_02\n",
      "Box number: 401 Image number: 169\n",
      "DJI_20210901142636_0397_01_02\n",
      "Box number: 402 Image number: 170\n",
      "DJI_20210901143801_0936_02_01\n",
      "Box number: 411 Image number: 171\n",
      "DJI_20210901142136_0161_02_02\n",
      "Box number: 412 Image number: 172\n",
      "DJI_20210901143836_0963_02_01\n",
      "Box number: 413 Image number: 173\n",
      "DJI_20210901143539_0824_01_02\n",
      "Box number: 416 Image number: 174\n",
      "DJI_20210901144254_0168_01_02\n",
      "Box number: 423 Image number: 175\n",
      "DJI_20210901144258_0171_01_02\n",
      "Box number: 434 Image number: 176\n",
      "DJI_20210901144052_0072_02_01\n",
      "Box number: 438 Image number: 177\n",
      "DJI_20210901143836_0963_01_02\n",
      "Box number: 439 Image number: 178\n",
      "DJI_20210901143817_0948_01_02\n",
      "Box number: 440 Image number: 179\n",
      "DJI_20210901144033_0057_02_01\n",
      "Box number: 446 Image number: 180\n",
      "DJI_20210901143554_0836_01_02\n",
      "Box number: 451 Image number: 181\n",
      "DJI_20210901143828_0957_02_02\n",
      "Box number: 452 Image number: 182\n",
      "DJI_20210901144302_0174_01_02\n",
      "Box number: 457 Image number: 183\n",
      "DJI_20210901144258_0171_02_02\n",
      "Box number: 468 Image number: 184\n",
      "DJI_20210901143221_0668_02_02\n",
      "Box number: 469 Image number: 185\n",
      "DJI_20210901144258_0171_01_01\n",
      "Box number: 478 Image number: 186\n",
      "DJI_20210901142322_0245_02_02\n",
      "Box number: 479 Image number: 187\n",
      "DJI_20210901144010_0039_01_01\n",
      "Box number: 480 Image number: 188\n",
      "DJI_20210901144018_0045_02_01\n",
      "Box number: 481 Image number: 189\n",
      "DJI_20210901143613_0851_02_01\n",
      "Box number: 482 Image number: 190\n",
      "DJI_20210901141934_0065_02_02\n",
      "Box number: 483 Image number: 191\n",
      "DJI_20210901144302_0174_02_01\n",
      "Box number: 491 Image number: 192\n",
      "DJI_20210901143000_0557_01_02\n",
      "Box number: 492 Image number: 193\n",
      "DJI_20210901143517_0806_02_01\n",
      "Box number: 496 Image number: 194\n",
      "DJI_20210901144025_0051_01_01\n",
      "Box number: 499 Image number: 195\n",
      "DJI_20210901143805_0939_01_01\n",
      "Box number: 500 Image number: 196\n",
      "DJI_20210901144306_0177_02_02\n",
      "Box number: 506 Image number: 197\n",
      "DJI_20210901144317_0186_01_01\n",
      "Box number: 507 Image number: 198\n",
      "DJI_20210901143016_0569_02_01\n",
      "Box number: 508 Image number: 199\n",
      "DJI_20210901143543_0827_01_02\n",
      "Box number: 510 Image number: 200\n",
      "DJI_20210901144041_0063_01_02\n",
      "Box number: 511 Image number: 201\n",
      "DJI_20210901143323_0716_02_02\n",
      "Box number: 512 Image number: 202\n",
      "DJI_20210901142711_0424_02_01\n",
      "Box number: 513 Image number: 203\n",
      "DJI_20210901144104_0081_02_02\n",
      "Box number: 514 Image number: 204\n",
      "DJI_20210901143813_0945_01_01\n",
      "Box number: 523 Image number: 205\n",
      "DJI_20210901144029_0054_02_02\n",
      "Box number: 526 Image number: 206\n",
      "DJI_20210901143027_0578_02_02\n",
      "Box number: 527 Image number: 207\n",
      "DJI_20210901143554_0836_01_01\n",
      "Box number: 528 Image number: 208\n"
     ]
    }
   ],
   "source": [
    "# Config the global variables \n",
    "LABEL_FOLDER = '/home/azureuser/Alpine-Aster/data/raw/bildacher/yolo' #  yolo Put the label files in this folder labels\n",
    "RAW_IMAGE_FOLDER = '/home/azureuser/Alpine-Aster/data/raw/bildacher/images' # images  Put the original images without boxes in this folder. raw_images路径\n",
    "OUTPUT_IMAGE_FOLDER = '/home/azureuser/Alpine-Aster/data/raw/bildacher/images_with_bb_verify/'  # './save_image/'  The output images would be saved to this folder. 保存图片文件夹save_image路径\n",
    "IMAGE_NAME_LIST_PATH = '/home/azureuser/Alpine-Aster/data/raw/bildacher/images_with_bb_verify/name_list_cpd_test.txt'  # The file name of images will be saved into this text file. \n",
    "CLASS_PATH = '/home/azureuser/Alpine-Aster/data/raw/bildacher/classes_cpd_test.txt' # Put the class names in this text file.\n",
    "\n",
    "make_name_list(RAW_IMAGE_FOLDER, IMAGE_NAME_LIST_PATH) \n",
    "\n",
    "classes = image_names = open(CLASS_PATH).read().strip().split('\\n')\n",
    "random.seed(42)\n",
    "colors = [[random.randint(0, 255) for _ in range(3)]\n",
    "              for _ in range(len(classes))]\n",
    "\n",
    "image_names = open(IMAGE_NAME_LIST_PATH).read().strip().split()  \n",
    "\n",
    "box_total = 0\n",
    "image_total = 0\n",
    "for image_name in image_names:  \n",
    "    box_num = draw_box_on_image(\n",
    "            image_name, classes, colors, LABEL_FOLDER, RAW_IMAGE_FOLDER, OUTPUT_IMAGE_FOLDER) \n",
    "    box_total += box_num\n",
    "    image_total += 1\n",
    "    print('Box number:', box_total, 'Image number:', image_total)"
   ]
  },
  {
   "cell_type": "code",
   "execution_count": 87,
   "metadata": {},
   "outputs": [
    {
     "name": "stdout",
     "output_type": "stream",
     "text": [
      "20230615_SchildDotnachtZaelgli_S_20_F_60_H_12_O_krma_ID1_DJI_20230615145138_0160.0_0\n",
      "Box number: 1 Image number: 1\n",
      "20230425_SchneiderWallenwil_S_20_F_50_O_sama_ID1_DJI_20230425153327_0198.1_1\n",
      "Box number: 2 Image number: 2\n",
      "20230615_SchildDotnachtZaelgli_S_20_F_60_H_12_O_krma_ID1_DJI_20230615145414_0231.2_2\n",
      "Box number: 3 Image number: 3\n",
      "20230620_HerrenpuentSuedwestTestfield_S_25_F_70_H_12_O_sama_ID5_DJI_20230620173253_0071.0_2\n",
      "Box number: 4 Image number: 4\n",
      "20230425_SchneiderWallenwil_S_20_F_50_O_sama_ID2_DJI_20230425155357_0037.2_0\n",
      "Box number: 5 Image number: 5\n",
      "20230615_SchildDotnachtZaelgli_S_20_F_60_H_12_O_krma_ID1_DJI_20230615145905_0362.2_3\n",
      "Box number: 6 Image number: 6\n",
      "20230614_SchneiderWallenwilZisterwis_S_20_F_60_H_12_O_sama_ID1_DJI_20230614153909_0328.0_3\n",
      "Box number: 7 Image number: 7\n",
      "20230609_HerrenpuentSuedost_S_20_F_60_H_12_O_krma_ID1_DJI_20230609145502_0083.2_1\n",
      "Box number: 8 Image number: 8\n",
      "20230609_RuedimoosTaenikon_S_20_F_60_H_12_O_krma_ID1_DJI_20230609113024_0634.1_0\n",
      "Box number: 9 Image number: 9\n",
      "20230620_HerrenpuentSuedwestTestfield_S_25_F_70_H_12_O_sama_ID4_DJI_20230620171551_0033.3_2\n",
      "Box number: 10 Image number: 10\n",
      "20230606_HerrenpuentSuedwest_S_20_F_60_H_12_O_sama_ID2_DJI_20230606152303_0266.2_0\n",
      "Box number: 11 Image number: 11\n",
      "20221010_HaldenSued_S_25_F_60_O_sama_ID1_DJI_20221010141300_0137.2_0\n",
      "Box number: 12 Image number: 12\n",
      "20230615_SchildDotnachtZaelgli_S_20_F_60_H_12_O_krma_ID1_DJI_20230615145132_0157.1_0\n",
      "Box number: 13 Image number: 13\n",
      "20230614_SchneiderWallenwilSoor_S_20_F_60_H_12_O_krma_ID1_DJI_20230614141314_0318.0_2\n",
      "Box number: 14 Image number: 14\n",
      "20230620_HerrenpuentSuedwestStreifen_S_25_F_70_H_10_O_krma_ID1_DJI_20230620145010_0014.2_1\n",
      "Box number: 15 Image number: 15\n",
      "20230615_SchildDotnachtZaelgli_S_20_F_60_H_12_O_krma_ID1_DJI_20230615145905_0362.0_1\n",
      "Box number: 16 Image number: 16\n",
      "20230615_SchildOberhofenBuel4_S_20_F_60_H_12_O_krma_ID4_DJI_20230615125443_0136.0_0\n",
      "Box number: 17 Image number: 17\n",
      "20230609_HerrenpuentSuedost_S_20_F_60_H_12_O_krma_ID1_DJI_20230609151113_0028.0_3\n",
      "Box number: 18 Image number: 18\n",
      "20230616_HerrenpuentSuedwestTestfield_S_20_F_60_H_12_O_sama_ID1_DJI_20230616183116_0195.1_2\n",
      "Box number: 19 Image number: 19\n",
      "20230615_SchildDotnachtZaelgli_S_20_F_60_H_12_O_krma_ID1_DJI_20230615144808_0062.3_2\n",
      "Box number: 20 Image number: 20\n",
      "20230614_SchneiderWallenwilLangwisNord_S_20_F_60_H_12_O_krma_ID1_DJI_20230614100655_0388.1_0\n",
      "Box number: 21 Image number: 21\n",
      "20230426_SchneiderWallenwil_S_20_F_50_O_krma_ID1_DJI_20230426105659_0089.0_1\n",
      "Box number: 22 Image number: 22\n",
      "20230606_HerrenpuentSuedwest_S_20_F_60_H_12_O_sama_ID2_DJI_20230606151542_0071.3_2\n",
      "Box number: 23 Image number: 23\n",
      "20230615_SchildDotnachtZaelgli_S_20_F_60_H_12_O_krma_ID1_DJI_20230615144910_0091.2_2\n",
      "Box number: 24 Image number: 24\n",
      "20221010_HaldenNord_S_25_F_60_O_sama_ID1_DJI_20221010151446_0239.0_1\n",
      "Box number: 25 Image number: 25\n",
      "20230613_TestfieldHerrenpuentNoMarkers_S_00_F_00_H_12_O_sama_ID1_DJI_20230613151420_0059.3_2\n",
      "Box number: 26 Image number: 26\n",
      "20230609_HerrenpuentSuedost_S_20_F_60_H_12_O_krma_ID1_DJI_20230609151113_0028.1_3\n",
      "Box number: 27 Image number: 27\n",
      "20220830_HaldenSued_S_70_F_80_O_stra_ID1_DJI_20220830164629_0123.1_0\n",
      "Box number: 28 Image number: 28\n",
      "20230606_HerrenpuentSuedwest_S_20_F_60_H_12_O_sama_ID2_DJI_20230606153413_0561.2_0\n",
      "Box number: 29 Image number: 29\n",
      "20230426_SchneiderWallenwil_S_20_F_50_O_krma_ID1_DJI_20230426110011_0202.1_2\n",
      "Box number: 30 Image number: 30\n",
      "20230426_SchneiderWallenwil_S_20_F_50_O_krma_ID1_DJI_20230426110218_0277.3_3\n",
      "Box number: 31 Image number: 31\n",
      "20230620_HerrenpuentSuedwestStreifen_S_00_F_00_H_12_O_krma_ID1_DJI_20230620150055_0025.2_0\n",
      "Box number: 32 Image number: 32\n",
      "20230609_HerrenpuentSuedwest_S_20_F_60_H_12_O_krma_ID1_DJI_20230609120533_0497.0_3\n",
      "Box number: 33 Image number: 33\n",
      "20230425_SchneiderWallenwil_S_20_F_50_O_sama_ID2_DJI_20230425155358_0038.2_1\n",
      "Box number: 34 Image number: 34\n",
      "20230615_SchildDotnachtZaelgli_S_20_F_60_H_12_O_krma_ID1_DJI_20230615145452_0248.0_1\n",
      "Box number: 35 Image number: 35\n",
      "20230614_SchneiderWallenwilLangwisSued_S_20_F_60_H_12_O_krma_ID1_DJI_20230614163538_0014.2_3\n",
      "Box number: 36 Image number: 36\n",
      "20221010_HaldenSued_S_25_F_60_O_sama_ID1_DJI_20221010141535_0290.1_3\n",
      "Box number: 37 Image number: 37\n",
      "20230606_HerrenpuentSuedwest_S_20_F_60_H_12_O_sama_ID2_DJI_20230606151432_0039.2_2\n",
      "Box number: 38 Image number: 38\n",
      "20221010_HaldenSued_S_25_F_60_O_sama_ID1_DJI_20221010142928_0116.3_3\n",
      "Box number: 39 Image number: 39\n",
      "20230426_SchneiderWallenwil_S_20_F_50_O_krma_ID1_DJI_20230426111811_0067.0_3\n",
      "Box number: 40 Image number: 40\n",
      "20230614_SchneiderWallenwilLangwisSued_S_20_F_60_H_12_O_krma_ID1_DJI_20230614163528_0010.2_3\n",
      "Box number: 41 Image number: 41\n",
      "20221010_HaldenSued_S_25_F_60_O_sama_ID1_DJI_20221010143035_0183.2_1\n",
      "Box number: 42 Image number: 42\n",
      "20230606_HerrenpuentSuedwest_S_20_F_60_H_12_O_sama_ID2_DJI_20230606152832_0411.0_2\n",
      "Box number: 43 Image number: 43\n",
      "20230620_HerrenpuentSuedwestTestfield_S_25_F_70_H_12_O_sama_ID4_DJI_20230620171703_0074.1_2\n",
      "Box number: 44 Image number: 44\n",
      "20230614_SchneiderWallenwilLangwisNord_S_20_F_60_H_12_O_krma_ID1_DJI_20230614095523_0096.1_1\n",
      "Box number: 45 Image number: 45\n",
      "20230425_SchneiderWallenwil_S_20_F_50_O_sama_ID2_DJI_20230425155326_0019.2_1\n",
      "Box number: 46 Image number: 46\n",
      "20230620_HerrenpuentSuedwestTestfield_S_25_F_70_H_10_O_krma_ID2_DJI_20230620152254_0154.2_2\n",
      "Box number: 47 Image number: 47\n",
      "20230425_SchneiderWallenwil_S_20_F_50_O_sama_ID2_DJI_20230425155426_0054.0_3\n",
      "Box number: 48 Image number: 48\n",
      "20230615_SchildDotnachtZaelgli_S_20_F_60_H_12_O_krma_ID1_DJI_20230615144606_0008.0_1\n",
      "Box number: 49 Image number: 49\n",
      "20230615_SchildDotnachtZaelgli_S_20_F_60_H_12_O_krma_ID1_DJI_20230615144601_0006.0_3\n",
      "Box number: 50 Image number: 50\n",
      "20220823_HaldenSued_S_10_F_50_O_stra_ID1_DJI_20220823161017_0178.3_1\n",
      "Box number: 51 Image number: 51\n",
      "20220901_HaldenNord_S_10_F_50_O_sama_ID1_DJI_20220901115349_0479.2_1\n",
      "Box number: 52 Image number: 52\n",
      "20230614_SchneiderWallenwilStuckli_S_20_F_60_H_12_O_krma_ID1_DJI_20230614114417_0436.2_2\n",
      "Box number: 53 Image number: 53\n",
      "20230615_SchildOberhofenBuel1_S_20_F_60_H_12_O_krma_ID1_DJI_20230615090612_0248.0_1\n",
      "Box number: 54 Image number: 54\n",
      "20220816_TaenikonWiese_S_xx_F_xx_O_sama_ID2_DJI_20220816121514_0132.0_2\n",
      "Box number: 55 Image number: 55\n",
      "20230426_SchneiderWallenwil_S_20_F_50_O_krma_ID1_DJI_20230426110713_0022.1_2\n",
      "Box number: 56 Image number: 56\n",
      "20230609_HerrenpuentSuedost_S_20_F_60_H_12_O_krma_ID1_DJI_20230609144925_0017.3_0\n",
      "Box number: 57 Image number: 57\n",
      "20230606_HerrenpuentSuedwest_S_20_F_60_H_12_O_sama_ID2_DJI_20230606152251_0261.0_0\n",
      "Box number: 58 Image number: 58\n",
      "20230615_SchildDotnachtZaelgli_S_20_F_60_H_12_O_krma_ID1_DJI_20230615144606_0008.2_3\n",
      "Box number: 59 Image number: 59\n",
      "20230620_HerrenpuentSuedwestTestfield_S_25_F_70_H_12_O_sama_ID5_DJI_20230620173451_0138.2_1\n",
      "Box number: 60 Image number: 60\n",
      "20230620_HerrenpuentSuedwestStreifen_S_25_F_70_H_10_O_krma_ID1_DJI_20230620144956_0004.3_1\n",
      "Box number: 61 Image number: 61\n",
      "20230615_SchildOberhofenBuel4_S_20_F_60_H_12_O_krma_ID4_DJI_20230615125452_0142.1_3\n",
      "Box number: 62 Image number: 62\n",
      "20230606_HerrenpuentSuedwest_S_20_F_60_H_12_O_sama_ID2_DJI_20230606151432_0039.0_2\n",
      "Box number: 63 Image number: 63\n",
      "20230621_HerrenpuentSuedwestStreifen_S_00_F_00_H_12_O_sama_ID2_DJI_20230621115545_0017.0_0\n",
      "Box number: 64 Image number: 64\n",
      "20230615_SchildDotnachtZaelgli_S_20_F_60_H_12_O_krma_ID1_DJI_20230615144557_0004.2_3\n",
      "Box number: 65 Image number: 65\n",
      "20230614_SchneiderWallenwilSoor_S_20_F_60_H_12_O_krma_ID1_DJI_20230614141727_0435.0_3\n",
      "Box number: 66 Image number: 66\n",
      "20230614_SchneiderWallenwilLangwisSued_S_20_F_60_H_12_O_krma_ID1_DJI_20230614163536_0013.1_3\n",
      "Box number: 67 Image number: 67\n",
      "20230615_SchildDotnachtZaelgli_S_20_F_60_H_12_O_krma_ID1_DJI_20230615145132_0157.1_1\n",
      "Box number: 68 Image number: 68\n",
      "20230426_SchneiderWallenwil_S_20_F_50_O_krma_ID1_DJI_20230426111056_0153.3_1\n",
      "Box number: 69 Image number: 69\n",
      "20230609_HerrenpuentSuedwest_S_20_F_60_H_12_O_krma_ID1_DJI_20230609120319_0438.1_0\n",
      "Box number: 70 Image number: 70\n",
      "20221010_HaldenSued_S_25_F_60_O_sama_ID1_DJI_20221010141301_0138.3_0\n",
      "Box number: 71 Image number: 71\n",
      "20230616_HerrenpuentSuedwestTestfield_S_00_F_00_H_12_O_sama_ID2_DJI_20230616182133_0068.3_1\n",
      "Box number: 72 Image number: 72\n",
      "20230609_RuedimoosTaenikon_S_20_F_60_H_12_O_krma_ID1_DJI_20230609113021_0633.1_0\n",
      "Box number: 73 Image number: 73\n",
      "20230615_SchildDotnachtZaelgli_S_20_F_60_H_12_O_krma_ID1_DJI_20230615145240_0188.0_3\n",
      "Box number: 74 Image number: 74\n",
      "20230426_SchneiderWallenwil_S_20_F_50_O_krma_ID1_DJI_20230426110921_0096.1_2\n",
      "Box number: 75 Image number: 75\n",
      "20230620_HerrenpuentSuedwestStreifen_S_25_F_70_H_10_O_krma_ID1_DJI_20230620144955_0003.2_1\n",
      "Box number: 76 Image number: 76\n",
      "20230426_SchneiderWallenwil_S_20_F_50_O_krma_ID1_DJI_20230426110040_0219.1_0\n",
      "Box number: 77 Image number: 77\n",
      "20230609_RuedimoosTaenikon_S_20_F_60_H_12_O_krma_ID1_DJI_20230609110508_0094.2_1\n",
      "Box number: 78 Image number: 78\n",
      "20221010_HaldenSued_S_25_F_60_O_sama_ID1_DJI_20221010143151_0259.3_0\n",
      "Box number: 79 Image number: 79\n",
      "20230620_HerrenpuentSuedwestStreifen_S_25_F_70_H_12_O_krma_ID1_DJI_20230620144315_0083.2_1\n",
      "Box number: 80 Image number: 80\n",
      "20230615_SchildDotnachtZaelgli_S_20_F_60_H_12_O_krma_ID1_DJI_20230615145127_0155.2_2\n",
      "Box number: 81 Image number: 81\n",
      "20221010_HaldenSued_S_25_F_60_O_sama_ID1_DJI_20221010143154_0262.1_2\n",
      "Box number: 82 Image number: 82\n",
      "20230615_SchildOberhofenBuel4_S_20_F_60_H_12_O_krma_ID4_DJI_20230615125501_0148.0_3\n",
      "Box number: 83 Image number: 83\n",
      "20230620_HerrenpuentSuedwestStreifen_S_25_F_70_H_10_O_krma_ID1_DJI_20230620144957_0005.2_1\n",
      "Box number: 84 Image number: 84\n",
      "20230615_SchildDotnachtZaelgli_S_20_F_60_H_12_O_krma_ID1_DJI_20230615145902_0361.2_3\n",
      "Box number: 85 Image number: 85\n",
      "20230606_HerrenpuentSuedwest_S_20_F_60_H_12_O_sama_ID2_DJI_20230606151411_0030.0_2\n",
      "Box number: 86 Image number: 86\n",
      "20221010_HaldenSued_S_25_F_60_O_sama_ID1_DJI_20221010142136_0645.0_0\n",
      "Box number: 87 Image number: 87\n",
      "20221010_HaldenSued_S_25_F_60_O_sama_ID1_DJI_20221010141237_0114.3_2\n",
      "Box number: 88 Image number: 88\n",
      "20230329_Herrenpuent_Suedost_S_70_F_80_O_sama_ID1_DJI_20230329153713_0095.0_2\n",
      "Box number: 89 Image number: 89\n",
      "20230620_HerrenpuentSuedwestStreifen_S_00_F_00_H_12_O_krma_ID1_DJI_20230620150055_0025.1_2\n",
      "Box number: 90 Image number: 90\n",
      "20230615_SchildDotnachtZaelgli_S_20_F_60_H_12_O_krma_ID1_DJI_20230615145726_0316.3_3\n",
      "Box number: 91 Image number: 91\n",
      "20230426_SchneiderWallenwil_S_20_F_50_O_krma_ID1_DJI_20230426112001_0131.3_0\n",
      "Box number: 92 Image number: 92\n",
      "20230620_HerrenpuentSuedwestTestfield_S_25_F_70_H_12_O_sama_ID4_DJI_20230620171537_0025.2_2\n",
      "Box number: 93 Image number: 93\n",
      "20230620_HerrenpuentSuedwestTestfield_S_25_F_70_H_12_O_sama_ID4_DJI_20230620171857_0136.0_0\n",
      "Box number: 94 Image number: 94\n",
      "20230615_SchildDotnachtZaelgli_S_20_F_60_H_12_O_krma_ID1_DJI_20230615145252_0193.1_3\n",
      "Box number: 95 Image number: 95\n",
      "20230616_HerrenpuentSuedwestTestfield_S_20_F_60_H_12_O_sama_ID1_DJI_20230616183116_0195.0_2\n",
      "Box number: 96 Image number: 96\n",
      "20230620_HerrenpuentSuedwestStreifen_S_25_F_70_H_10_O_krma_ID1_DJI_20230620145021_0021.0_1\n",
      "Box number: 97 Image number: 97\n",
      "20230615_SchildOberhofenBuel4_S_20_F_60_H_12_O_krma_ID4_DJI_20230615125309_0079.3_3\n",
      "Box number: 98 Image number: 98\n",
      "20230615_SchildDotnachtZaelgli_S_20_F_60_H_12_O_krma_ID1_DJI_20230615144609_0009.2_3\n",
      "Box number: 99 Image number: 99\n",
      "20230615_SchildOberhofenBuel3_S_20_F_60_H_12_O_krma_ID3_DJI_20230615121056_0438.1_1\n",
      "Box number: 100 Image number: 100\n",
      "20230425_SchneiderWallenwil_S_20_F_50_O_sama_ID2_DJI_20230425155348_0032.2_1\n",
      "Box number: 101 Image number: 101\n",
      "20230615_SchildDotnachtZaelgli_S_20_F_60_H_12_O_krma_ID1_DJI_20230615145129_0156.1_1\n",
      "Box number: 102 Image number: 102\n",
      "20230609_HerrenpuentSuedwest_S_20_F_60_H_12_O_krma_ID1_DJI_20230609120319_0438.0_0\n",
      "Box number: 103 Image number: 103\n",
      "20230426_SchneiderWallenwil_S_20_F_50_O_krma_ID1_DJI_20230426110056_0228.3_1\n",
      "Box number: 104 Image number: 104\n",
      "20230614_SchneiderWallenwilSoor_S_20_F_60_H_12_O_krma_ID1_DJI_20230614140341_0074.1_0\n",
      "Box number: 105 Image number: 105\n",
      "20221010_HaldenNord_S_25_F_60_O_sama_ID1_DJI_20221010151301_0136.1_2\n",
      "Box number: 106 Image number: 106\n",
      "20221010_HaldenNord_S_25_F_60_O_sama_ID1_DJI_20221010151449_0242.0_0\n",
      "Box number: 107 Image number: 107\n",
      "20230616_HerrenpuentSuedwestTestfield_S_00_F_00_H_12_O_sama_ID2_DJI_20230616182247_0083.2_2\n",
      "Box number: 108 Image number: 108\n",
      "20230616_TestHerrenpuentSuedwestStreifen2_S_00_F_00_H_12_O_sama_ID2_DJI_20230616181646_0035.3_0\n",
      "Box number: 109 Image number: 109\n",
      "20221010_HaldenSued_S_25_F_60_O_sama_ID1_DJI_20221010141103_0024.0_1\n",
      "Box number: 110 Image number: 110\n",
      "20230615_SchildOberhofenBuel4_S_20_F_60_H_12_O_krma_ID4_DJI_20230615125449_0140.1_1\n",
      "Box number: 111 Image number: 111\n",
      "20230615_SchildDotnachtZaelgli_S_20_F_60_H_12_O_krma_ID1_DJI_20230615145909_0364.0_3\n",
      "Box number: 112 Image number: 112\n",
      "20230426_SchneiderWallenwil_S_20_F_50_O_krma_ID1_DJI_20230426105038_0033.3_1\n",
      "Box number: 113 Image number: 113\n",
      "20230615_SchildDotnachtZaelgli_S_20_F_60_H_12_O_krma_ID1_DJI_20230615144922_0097.2_1\n",
      "Box number: 114 Image number: 114\n",
      "20230426_SchneiderWallenwil_S_20_F_50_O_krma_ID1_DJI_20230426110211_0273.0_3\n",
      "Box number: 115 Image number: 115\n",
      "20230614_SchneiderWallenwilStuckli_S_20_F_60_H_12_O_krma_ID1_DJI_20230614113934_0305.1_3\n",
      "Box number: 116 Image number: 116\n",
      "20230614_SchneiderWallenwilLangwisSued_S_20_F_60_H_12_O_krma_ID1_DJI_20230614163531_0011.3_3\n",
      "Box number: 117 Image number: 117\n",
      "20230606_HerrenpuentSuedwest_S_20_F_60_H_12_O_sama_ID2_DJI_20230606152247_0259.1_3\n",
      "Box number: 118 Image number: 118\n",
      "20230606_HerrenpuentSuedwest_S_20_F_60_H_12_O_sama_ID2_DJI_20230606153134_0491.3_0\n",
      "Box number: 119 Image number: 119\n",
      "20230426_SchneiderWallenwil_S_20_F_50_O_krma_ID1_DJI_20230426110207_0271.3_1\n",
      "Box number: 120 Image number: 120\n",
      "20220823_HaldenSued_S_10_F_50_O_stra_ID1_DJI_20220823144059_0003.1_3\n",
      "Box number: 121 Image number: 121\n",
      "20230615_SchildDotnachtZaelgli_S_20_F_60_H_12_O_krma_ID1_DJI_20230615145145_0164.0_0\n",
      "Box number: 122 Image number: 122\n",
      "20230609_HerrenpuentSuedost_S_20_F_60_H_12_O_krma_ID1_DJI_20230609145019_0027.3_3\n",
      "Box number: 123 Image number: 123\n",
      "20230615_SchildDotnachtZaelgli_S_20_F_60_H_12_O_krma_ID1_DJI_20230615145132_0157.2_0\n",
      "Box number: 124 Image number: 124\n",
      "20230620_HerrenpuentSuedwestTestfield_S_25_F_70_H_12_O_krma_ID3_DJI_20230620143040_0072.0_2\n",
      "Box number: 125 Image number: 125\n",
      "20230425_SchneiderWallenwil_S_20_F_50_O_sama_ID2_DJI_20230425155346_0031.1_1\n",
      "Box number: 126 Image number: 126\n",
      "20230606_HerrenpuentSuedwest_S_20_F_60_H_12_O_sama_ID2_DJI_20230606152943_0442.1_2\n",
      "Box number: 127 Image number: 127\n",
      "20230615_SchildDotnachtZaelgli_S_20_F_60_H_12_O_krma_ID1_DJI_20230615145608_0282.1_1\n",
      "Box number: 128 Image number: 128\n",
      "20230606_HerrenpuentSuedwest_S_20_F_60_H_12_O_sama_ID2_DJI_20230606153003_0451.1_1\n",
      "Box number: 129 Image number: 129\n",
      "20230620_HerrenpuentSuedwestTestfield_S_25_F_70_H_12_O_sama_ID4_DJI_20230620171533_0023.0_2\n",
      "Box number: 130 Image number: 130\n",
      "20230426_SchneiderWallenwil_S_20_F_50_O_krma_ID1_DJI_20230426110919_0095.0_2\n",
      "Box number: 131 Image number: 131\n",
      "20230613_TestfieldNoMarkers_S_05_F_05_H_12_O_sama_ID2_DJI_20230613153144_0213.3_3\n",
      "Box number: 132 Image number: 132\n",
      "20230620_HerrenpuentSuedwestStreifen_S_00_F_00_H_12_O_krma_ID1_DJI_20230620145844_0002.2_2\n",
      "Box number: 133 Image number: 133\n",
      "20230425_SchneiderWallenwil_S_20_F_50_O_sama_ID2_DJI_20230425155446_0066.2_0\n",
      "Box number: 134 Image number: 134\n",
      "20230609_HerrenpuentSuedost_S_20_F_60_H_12_O_krma_ID1_DJI_20230609151117_0029.3_3\n",
      "Box number: 135 Image number: 135\n",
      "20230615_SchildDotnachtZaelgli_S_20_F_60_H_12_O_krma_ID1_DJI_20230615145902_0361.0_2\n",
      "Box number: 136 Image number: 136\n",
      "20230616_TestHerrenpuentSuedwestStreifen2_S_00_F_00_H_12_O_sama_ID2_DJI_20230616181747_0045.1_2\n",
      "Box number: 137 Image number: 137\n",
      "20230426_SchneiderWallenwil_S_20_F_50_O_krma_ID1_DJI_20230426110827_0065.2_1\n",
      "Box number: 138 Image number: 138\n",
      "20221010_HaldenNord_S_25_F_60_O_sama_ID1_DJI_20221010151844_0475.1_0\n",
      "Box number: 139 Image number: 139\n",
      "20230606_HerrenpuentSuedwest_S_20_F_60_H_12_O_sama_ID2_DJI_20230606152830_0410.2_3\n",
      "Box number: 140 Image number: 140\n",
      "20230609_HerrenpuentSuedwest_S_20_F_60_H_12_O_krma_ID1_DJI_20230609120319_0439.0_0\n",
      "Box number: 141 Image number: 141\n",
      "20230615_SchildOberhofenBuel4_S_20_F_60_H_12_O_krma_ID4_DJI_20230615125302_0075.0_0\n",
      "Box number: 142 Image number: 142\n",
      "20230614_SchneiderWallenwilLangwisSued_S_20_F_60_H_12_O_krma_ID1_DJI_20230614164309_0175.0_1\n",
      "Box number: 143 Image number: 143\n",
      "20230426_SchneiderWallenwil_S_20_F_50_O_krma_ID1_DJI_20230426112356_0269.0_3\n",
      "Box number: 144 Image number: 144\n",
      "20230609_HerrenpuentSuedost_S_20_F_60_H_12_O_krma_ID1_DJI_20230609145025_0028.1_3\n",
      "Box number: 145 Image number: 145\n",
      "20230614_SchneiderWallenwilStuckli_S_20_F_60_H_12_O_krma_ID1_DJI_20230614114946_0587.2_1\n",
      "Box number: 146 Image number: 146\n",
      "20230621_HerrenpuentSuedwestStreifen_S_00_F_00_H_12_O_sama_ID1_DJI_20230621113244_0015.0_2\n",
      "Box number: 147 Image number: 147\n",
      "20230609_HerrenpuentSuedost_S_20_F_60_H_12_O_krma_ID1_DJI_20230609144941_0020.3_3\n",
      "Box number: 148 Image number: 148\n",
      "20220901_HaldenNord_S_10_F_50_O_sama_ID1_DJI_20220901114001_0162.2_3\n",
      "Box number: 149 Image number: 149\n",
      "20230615_SchildDotnachtZaelgli_S_20_F_60_H_12_O_krma_ID1_DJI_20230615145909_0364.1_3\n",
      "Box number: 150 Image number: 150\n",
      "20230615_SchildDotnachtZaelgli_S_20_F_60_H_12_O_krma_ID1_DJI_20230615145136_0159.3_0\n",
      "Box number: 151 Image number: 151\n",
      "20230614_SchneiderWallenwilLangwisSued_S_20_F_60_H_12_O_krma_ID1_DJI_20230614164036_0111.0_2\n",
      "Box number: 152 Image number: 152\n",
      "20221010_HaldenNord_S_25_F_60_O_sama_ID1_DJI_20221010151107_0024.3_1\n",
      "Box number: 153 Image number: 153\n",
      "20230621_HerrenpuentSuedwestStreifen_S_00_F_00_H_12_O_sama_ID1_DJI_20230621113347_0028.2_1\n",
      "Box number: 154 Image number: 154\n",
      "20230614_SchneiderWallenwilStuckli_S_20_F_60_H_12_O_krma_ID1_DJI_20230614113358_0148.3_1\n",
      "Box number: 155 Image number: 155\n",
      "20230615_SchildDotnachtZaelgli_S_20_F_60_H_12_O_krma_ID1_DJI_20230615144557_0004.3_3\n",
      "Box number: 156 Image number: 156\n",
      "20230426_SchneiderWallenwil_S_20_F_50_O_krma_ID1_DJI_20230426110910_0090.3_0\n",
      "Box number: 157 Image number: 157\n",
      "20230614_SchneiderWallenwilSoor_S_20_F_60_H_12_O_krma_ID1_DJI_20230614141605_0396.2_0\n",
      "Box number: 158 Image number: 158\n",
      "20220823_HaldenSued_S_10_F_50_O_stra_ID1_DJI_20220823145830_0319.3_2\n",
      "Box number: 159 Image number: 159\n",
      "20230620_HerrenpuentSuedwestTestfield_S_25_F_70_H_12_O_sama_ID5_DJI_20230620173455_0140.3_0\n",
      "Box number: 160 Image number: 160\n",
      "20230504_HoratRitaUnterviertrlNord_S_20_F_50_O_sama_ID3_DJI_20230504165029_0138.0_0\n",
      "Box number: 161 Image number: 161\n",
      "20230614_SchneiderWallenwilLangwisSued_S_20_F_60_H_12_O_krma_ID1_DJI_20230614164340_0188.0_1\n",
      "Box number: 162 Image number: 162\n",
      "20230609_HerrenpuentSuedost_S_20_F_60_H_12_O_krma_ID1_DJI_20230609145529_0088.1_1\n",
      "Box number: 163 Image number: 163\n",
      "20230615_SchildOberhofenBuel4_S_20_F_60_H_12_O_krma_ID4_DJI_20230615125458_0146.0_3\n",
      "Box number: 164 Image number: 164\n",
      "20230615_SchildDotnachtZaelgli_S_20_F_60_H_12_O_krma_ID1_DJI_20230615144604_0007.0_2\n",
      "Box number: 165 Image number: 165\n",
      "20230621_HerrenpuentSuedwestStreifen_S_00_F_00_H_12_O_sama_ID2_DJI_20230621115801_0042.1_1\n",
      "Box number: 166 Image number: 166\n",
      "20230620_HerrenpuentSuedwestTestfield_S_25_F_70_H_10_O_krma_ID2_DJI_20230620152252_0153.1_2\n",
      "Box number: 167 Image number: 167\n",
      "20230615_SchildDotnachtZaelgli_S_20_F_60_H_12_O_krma_ID1_DJI_20230615145821_0342.3_2\n",
      "Box number: 168 Image number: 168\n",
      "20230620_HerrenpuentSuedwestStreifen_S_25_F_70_H_10_O_krma_ID1_DJI_20230620145010_0014.0_1\n",
      "Box number: 169 Image number: 169\n",
      "20230614_SchneiderWallenwilSoor_S_20_F_60_H_12_O_krma_ID1_DJI_20230614140302_0055.1_0\n",
      "Box number: 170 Image number: 170\n",
      "20230425_SchneiderWallenwil_S_20_F_50_O_sama_ID1_DJI_20230425152843_0093.2_3\n",
      "Box number: 171 Image number: 171\n",
      "20230614_SchneiderWallenwilSoor_S_20_F_60_H_12_O_krma_ID1_DJI_20230614140544_0130.3_2\n",
      "Box number: 172 Image number: 172\n",
      "20230621_HerrenpuentSuedwestStreifen_S_00_F_00_H_12_O_sama_ID2_DJI_20230621115515_0012.0_2\n",
      "Box number: 173 Image number: 173\n",
      "20230615_SchildDotnachtZaelgli_S_20_F_60_H_12_O_krma_ID1_DJI_20230615145909_0364.3_3\n",
      "Box number: 174 Image number: 174\n",
      "20220816_TaenikonWiese_S_xx_F_xx_O_sama_ID3_DJI_20220817090524_0070.1_0\n",
      "Box number: 175 Image number: 175\n",
      "20230426_SchneiderWallenwil_S_20_F_50_O_krma_ID1_DJI_20230426111221_0202.1_2\n",
      "Box number: 176 Image number: 176\n"
     ]
    }
   ],
   "source": [
    "# Config the global variables \n",
    "LABEL_FOLDER = '/home/azureuser/Alpine-Aster/data/postprocessed2/train/labels' #  yolo Put the label files in this folder labels\n",
    "RAW_IMAGE_FOLDER = '/home/azureuser/Alpine-Aster/data/postprocessed2/train/images' # images  Put the original images without boxes in this folder. raw_images路径\n",
    "OUTPUT_IMAGE_FOLDER = '/home/azureuser/Alpine-Aster/data/postprocessed2/train/images_verify_bb/'  # './save_image/'  The output images would be saved to this folder. 保存图片文件夹save_image路径\n",
    "IMAGE_NAME_LIST_PATH = '/home/azureuser/Alpine-Aster/data/postprocessed2/train/images_verify_bb/name_list_cpd_test.txt'  # The file name of images will be saved into this text file. \n",
    "CLASS_PATH = '/home/azureuser/Alpine-Aster/data/raw/bildacher/classes_cpd_test.txt' # Put the class names in this text file.\n",
    "\n",
    "make_name_list(RAW_IMAGE_FOLDER, IMAGE_NAME_LIST_PATH) \n",
    "\n",
    "classes = image_names = open(CLASS_PATH).read().strip().split('\\n')\n",
    "random.seed(42)\n",
    "colors = [[random.randint(0, 255) for _ in range(3)]\n",
    "              for _ in range(len(classes))]\n",
    "\n",
    "image_names = open(IMAGE_NAME_LIST_PATH).read().strip().split()  \n",
    "\n",
    "box_total = 0\n",
    "image_total = 0\n",
    "for image_name in image_names:  \n",
    "    box_num = draw_box_on_image(\n",
    "            image_name, classes, colors, LABEL_FOLDER, RAW_IMAGE_FOLDER, OUTPUT_IMAGE_FOLDER) \n",
    "    box_total += box_num\n",
    "    image_total += 1\n",
    "    print('Box number:', box_total, 'Image number:', image_total)"
   ]
  },
  {
   "cell_type": "code",
   "execution_count": null,
   "metadata": {},
   "outputs": [],
   "source": []
  },
  {
   "cell_type": "code",
   "execution_count": 11,
   "metadata": {},
   "outputs": [
    {
     "name": "stdout",
     "output_type": "stream",
     "text": [
      "DJI_20210901144329_0195_02_02.png\n",
      "DJI_20210901144306_0177_02_02.txt\n"
     ]
    }
   ],
   "source": [
    "print (L[0])\n",
    "print (A[0])"
   ]
  },
  {
   "cell_type": "code",
   "execution_count": 5,
   "metadata": {},
   "outputs": [
    {
     "name": "stdout",
     "output_type": "stream",
     "text": [
      "\n",
      "                   from  n    params  module                                       arguments                     \n",
      "  0                  -1  1       464  ultralytics.nn.modules.conv.Conv             [3, 16, 3, 2]                 \n",
      "  1                  -1  1      4672  ultralytics.nn.modules.conv.Conv             [16, 32, 3, 2]                \n",
      "  2                  -1  1      7360  ultralytics.nn.modules.block.C2f             [32, 32, 1, True]             \n",
      "  3                  -1  1     18560  ultralytics.nn.modules.conv.Conv             [32, 64, 3, 2]                \n",
      "  4                  -1  2     49664  ultralytics.nn.modules.block.C2f             [64, 64, 2, True]             \n",
      "  5                  -1  1     73984  ultralytics.nn.modules.conv.Conv             [64, 128, 3, 2]               \n",
      "  6                  -1  2    197632  ultralytics.nn.modules.block.C2f             [128, 128, 2, True]           \n",
      "  7                  -1  1    295424  ultralytics.nn.modules.conv.Conv             [128, 256, 3, 2]              \n",
      "  8                  -1  1    460288  ultralytics.nn.modules.block.C2f             [256, 256, 1, True]           \n",
      "  9                  -1  1    164608  ultralytics.nn.modules.block.SPPF            [256, 256, 5]                 \n",
      " 10                  -1  1         0  torch.nn.modules.upsampling.Upsample         [None, 2, 'nearest']          \n",
      " 11             [-1, 6]  1         0  ultralytics.nn.modules.conv.Concat           [1]                           \n",
      " 12                  -1  1    148224  ultralytics.nn.modules.block.C2f             [384, 128, 1]                 \n",
      " 13                  -1  1         0  torch.nn.modules.upsampling.Upsample         [None, 2, 'nearest']          \n",
      " 14             [-1, 4]  1         0  ultralytics.nn.modules.conv.Concat           [1]                           \n",
      " 15                  -1  1     37248  ultralytics.nn.modules.block.C2f             [192, 64, 1]                  \n",
      " 16                  -1  1     36992  ultralytics.nn.modules.conv.Conv             [64, 64, 3, 2]                \n",
      " 17            [-1, 12]  1         0  ultralytics.nn.modules.conv.Concat           [1]                           \n",
      " 18                  -1  1    123648  ultralytics.nn.modules.block.C2f             [192, 128, 1]                 \n",
      " 19                  -1  1    147712  ultralytics.nn.modules.conv.Conv             [128, 128, 3, 2]              \n",
      " 20             [-1, 9]  1         0  ultralytics.nn.modules.conv.Concat           [1]                           \n",
      " 21                  -1  1    493056  ultralytics.nn.modules.block.C2f             [384, 256, 1]                 \n",
      " 22        [15, 18, 21]  1    897664  ultralytics.nn.modules.head.Detect           [80, [64, 128, 256]]          \n",
      "YOLOv8n summary: 225 layers, 3157200 parameters, 3157184 gradients, 8.9 GFLOPs\n",
      "\n",
      "\n",
      "                   from  n    params  module                                       arguments                     \n",
      "  0                  -1  1       464  ultralytics.nn.modules.conv.Conv             [3, 16, 3, 2]                 \n",
      "  1                  -1  1      4672  ultralytics.nn.modules.conv.Conv             [16, 32, 3, 2]                \n",
      "  2                  -1  1      7360  ultralytics.nn.modules.block.C2f             [32, 32, 1, True]             \n",
      "  3                  -1  1     18560  ultralytics.nn.modules.conv.Conv             [32, 64, 3, 2]                \n",
      "  4                  -1  2     49664  ultralytics.nn.modules.block.C2f             [64, 64, 2, True]             \n",
      "  5                  -1  1     73984  ultralytics.nn.modules.conv.Conv             [64, 128, 3, 2]               \n",
      "  6                  -1  2    197632  ultralytics.nn.modules.block.C2f             [128, 128, 2, True]           \n",
      "  7                  -1  1    295424  ultralytics.nn.modules.conv.Conv             [128, 256, 3, 2]              \n",
      "  8                  -1  1    460288  ultralytics.nn.modules.block.C2f             [256, 256, 1, True]           \n",
      "  9                  -1  1    164608  ultralytics.nn.modules.block.SPPF            [256, 256, 5]                 \n",
      " 10                  -1  1         0  torch.nn.modules.upsampling.Upsample         [None, 2, 'nearest']          \n",
      " 11             [-1, 6]  1         0  ultralytics.nn.modules.conv.Concat           [1]                           \n",
      " 12                  -1  1    148224  ultralytics.nn.modules.block.C2f             [384, 128, 1]                 \n",
      " 13                  -1  1         0  torch.nn.modules.upsampling.Upsample         [None, 2, 'nearest']          \n",
      " 14             [-1, 4]  1         0  ultralytics.nn.modules.conv.Concat           [1]                           \n",
      " 15                  -1  1     37248  ultralytics.nn.modules.block.C2f             [192, 64, 1]                  \n",
      " 16                  -1  1     36992  ultralytics.nn.modules.conv.Conv             [64, 64, 3, 2]                \n",
      " 17            [-1, 12]  1         0  ultralytics.nn.modules.conv.Concat           [1]                           \n",
      " 18                  -1  1    123648  ultralytics.nn.modules.block.C2f             [192, 128, 1]                 \n",
      " 19                  -1  1    147712  ultralytics.nn.modules.conv.Conv             [128, 128, 3, 2]              \n",
      " 20             [-1, 9]  1         0  ultralytics.nn.modules.conv.Concat           [1]                           \n",
      " 21                  -1  1    493056  ultralytics.nn.modules.block.C2f             [384, 256, 1]                 \n",
      " 22        [15, 18, 21]  1    897664  ultralytics.nn.modules.head.Detect           [80, [64, 128, 256]]          \n",
      "YOLOv8n summary: 225 layers, 3157200 parameters, 3157184 gradients, 8.9 GFLOPs\n",
      "\n",
      "Transferred 355/355 items from pretrained weights\n"
     ]
    }
   ],
   "source": [
    "from ultralytics import YOLO\n",
    "\n",
    "# Load a model\n",
    "model = YOLO('yolov8n.yaml')  # build a new model from YAML\n",
    "model = YOLO('yolov8n.pt')  # load a pretrained model (recommended for training)\n",
    "model = YOLO('yolov8n.yaml').load('yolov8n.pt')  # build from YAML and transfer weights\n",
    "\n",
    "# Train the model\n",
    "# results = model.train(data='coco128.yaml', epochs=100, imgsz=640)"
   ]
  },
  {
   "cell_type": "code",
   "execution_count": 76,
   "metadata": {},
   "outputs": [
    {
     "data": {
      "text/plain": [
       "(4096, 2730)"
      ]
     },
     "execution_count": 76,
     "metadata": {},
     "output_type": "execute_result"
    }
   ],
   "source": [
    "# Image\n",
    "img_path = '/home/azureuser/Alpine-Aster/data/raw/bildacher/images/DJI_20210901141930_0062_01_02.png'\n",
    "image = Image.open(img_path)\n",
    "image.size"
   ]
  },
  {
   "cell_type": "code",
   "execution_count": 77,
   "metadata": {},
   "outputs": [
    {
     "name": "stdout",
     "output_type": "stream",
     "text": [
      "Ultralytics YOLOv8.0.221 🚀 Python-3.11.5 torch-2.1.1+cu121 CUDA:0 (Tesla T4, 15948MiB)\n"
     ]
    },
    {
     "name": "stdout",
     "output_type": "stream",
     "text": [
      "\u001b[34m\u001b[1mengine/trainer: \u001b[0mtask=detect, mode=train, model=yolov8n.yaml, data=/home/azureuser/Alpine-Aster/notebook/prepare_data/yolo_data.yaml, epochs=100, patience=50, batch=16, imgsz=1280, save=True, save_period=-1, cache=False, device=None, workers=8, project=None, name=train32333, exist_ok=False, pretrained=True, optimizer=auto, verbose=True, seed=0, deterministic=True, single_cls=False, rect=True, cos_lr=False, close_mosaic=10, resume=False, amp=True, fraction=1.0, profile=False, freeze=None, overlap_mask=True, mask_ratio=4, dropout=0.0, val=True, split=val, save_json=False, save_hybrid=False, conf=None, iou=0.7, max_det=300, half=False, dnn=False, plots=True, source=None, vid_stride=1, stream_buffer=False, visualize=False, augment=False, agnostic_nms=False, classes=None, retina_masks=False, show=False, save_frames=False, save_txt=False, save_conf=False, save_crop=False, show_labels=True, show_conf=True, show_boxes=True, line_width=None, format=torchscript, keras=False, optimize=False, int8=False, dynamic=False, simplify=False, opset=None, workspace=4, nms=False, lr0=0.01, lrf=0.01, momentum=0.937, weight_decay=0.0005, warmup_epochs=3.0, warmup_momentum=0.8, warmup_bias_lr=0.0, box=7.5, cls=0.5, dfl=1.5, pose=12.0, kobj=1.0, label_smoothing=0.0, nbs=64, hsv_h=0.015, hsv_s=0.7, hsv_v=0.4, degrees=0.0, translate=0.1, scale=0.5, shear=0.0, perspective=0.0, flipud=0.0, fliplr=0.5, mosaic=0.0, mixup=0.0, copy_paste=0.0, cfg=None, tracker=botsort.yaml, save_dir=runs/detect/train32333\n",
      "\n",
      "                   from  n    params  module                                       arguments                     \n",
      "  0                  -1  1       464  ultralytics.nn.modules.conv.Conv             [3, 16, 3, 2]                 \n",
      "  1                  -1  1      4672  ultralytics.nn.modules.conv.Conv             [16, 32, 3, 2]                \n",
      "  2                  -1  1      7360  ultralytics.nn.modules.block.C2f             [32, 32, 1, True]             \n",
      "  3                  -1  1     18560  ultralytics.nn.modules.conv.Conv             [32, 64, 3, 2]                \n",
      "  4                  -1  2     49664  ultralytics.nn.modules.block.C2f             [64, 64, 2, True]             \n",
      "  5                  -1  1     73984  ultralytics.nn.modules.conv.Conv             [64, 128, 3, 2]               \n",
      "  6                  -1  2    197632  ultralytics.nn.modules.block.C2f             [128, 128, 2, True]           \n",
      "  7                  -1  1    295424  ultralytics.nn.modules.conv.Conv             [128, 256, 3, 2]              \n",
      "  8                  -1  1    460288  ultralytics.nn.modules.block.C2f             [256, 256, 1, True]           \n",
      "  9                  -1  1    164608  ultralytics.nn.modules.block.SPPF            [256, 256, 5]                 \n",
      " 10                  -1  1         0  torch.nn.modules.upsampling.Upsample         [None, 2, 'nearest']          \n",
      " 11             [-1, 6]  1         0  ultralytics.nn.modules.conv.Concat           [1]                           \n",
      " 12                  -1  1    148224  ultralytics.nn.modules.block.C2f             [384, 128, 1]                 \n",
      " 13                  -1  1         0  torch.nn.modules.upsampling.Upsample         [None, 2, 'nearest']          \n",
      " 14             [-1, 4]  1         0  ultralytics.nn.modules.conv.Concat           [1]                           \n",
      " 15                  -1  1     37248  ultralytics.nn.modules.block.C2f             [192, 64, 1]                  \n",
      " 16                  -1  1     36992  ultralytics.nn.modules.conv.Conv             [64, 64, 3, 2]                \n",
      " 17            [-1, 12]  1         0  ultralytics.nn.modules.conv.Concat           [1]                           \n",
      " 18                  -1  1    123648  ultralytics.nn.modules.block.C2f             [192, 128, 1]                 \n",
      " 19                  -1  1    147712  ultralytics.nn.modules.conv.Conv             [128, 128, 3, 2]              \n",
      " 20             [-1, 9]  1         0  ultralytics.nn.modules.conv.Concat           [1]                           \n",
      " 21                  -1  1    493056  ultralytics.nn.modules.block.C2f             [384, 256, 1]                 \n",
      " 22        [15, 18, 21]  1    751507  ultralytics.nn.modules.head.Detect           [1, [64, 128, 256]]           \n",
      "YOLOv8n summary: 225 layers, 3011043 parameters, 3011027 gradients, 8.2 GFLOPs\n",
      "\n",
      "Transferred 70/355 items from pretrained weights\n",
      "Freezing layer 'model.22.dfl.conv.weight'\n",
      "\u001b[34m\u001b[1mAMP: \u001b[0mrunning Automatic Mixed Precision (AMP) checks with YOLOv8n...\n",
      "\u001b[34m\u001b[1mAMP: \u001b[0mchecks passed ✅\n"
     ]
    },
    {
     "name": "stderr",
     "output_type": "stream",
     "text": [
      "\u001b[34m\u001b[1mtrain: \u001b[0mScanning /home/azureuser/Alpine-Aster/data/raw/bildacher/labels.cache... 0 images, 208 backgrounds, 0 corrupt: 100%|██████████| 208/208 [00:00<?, ?it/s]"
     ]
    },
    {
     "name": "stdout",
     "output_type": "stream",
     "text": [
      "WARNING ⚠️ No labels found in /home/azureuser/Alpine-Aster/data/raw/bildacher/labels.cache, training may not work correctly. See https://docs.ultralytics.com/datasets/detect for dataset formatting guidance.\n",
      "WARNING ⚠️ 'rect=True' is incompatible with DataLoader shuffle, setting shuffle=False\n"
     ]
    },
    {
     "name": "stderr",
     "output_type": "stream",
     "text": [
      "\n",
      "\u001b[34m\u001b[1mval: \u001b[0mScanning /home/azureuser/Alpine-Aster/data/raw/bildacher/labels.cache... 0 images, 208 backgrounds, 0 corrupt: 100%|██████████| 208/208 [00:00<?, ?it/s]"
     ]
    },
    {
     "name": "stdout",
     "output_type": "stream",
     "text": [
      "WARNING ⚠️ No labels found in /home/azureuser/Alpine-Aster/data/raw/bildacher/labels.cache, training may not work correctly. See https://docs.ultralytics.com/datasets/detect for dataset formatting guidance.\n"
     ]
    },
    {
     "name": "stderr",
     "output_type": "stream",
     "text": [
      "\n"
     ]
    },
    {
     "name": "stdout",
     "output_type": "stream",
     "text": [
      "Plotting labels to runs/detect/train32333/labels.jpg... \n",
      "zero-size array to reduction operation maximum which has no identity\n",
      "\u001b[34m\u001b[1moptimizer:\u001b[0m 'optimizer=auto' found, ignoring 'lr0=0.01' and 'momentum=0.937' and determining best 'optimizer', 'lr0' and 'momentum' automatically... \n",
      "\u001b[34m\u001b[1moptimizer:\u001b[0m AdamW(lr=0.002, momentum=0.9) with parameter groups 57 weight(decay=0.0), 64 weight(decay=0.0005), 63 bias(decay=0.0)\n",
      "Image sizes 1280 train, 1280 val\n",
      "Using 8 dataloader workers\n",
      "Logging results to \u001b[1mruns/detect/train32333\u001b[0m\n",
      "Starting training for 100 epochs...\n",
      "\n",
      "      Epoch    GPU_mem   box_loss   cls_loss   dfl_loss  Instances       Size\n"
     ]
    },
    {
     "name": "stderr",
     "output_type": "stream",
     "text": [
      "      1/100      5.63G          0      216.4          0          0       1280: 100%|██████████| 13/13 [00:48<00:00,  3.72s/it]\n",
      "                 Class     Images  Instances      Box(P          R      mAP50  mAP50-95):   0%|          | 0/7 [00:00<?, ?it/s]"
     ]
    },
    {
     "name": "stdout",
     "output_type": "stream",
     "text": [
      "WARNING ⚠️ NMS time limit 2.100s exceeded\n"
     ]
    },
    {
     "name": "stderr",
     "output_type": "stream",
     "text": [
      "                 Class     Images  Instances      Box(P          R      mAP50  mAP50-95): 100%|██████████| 7/7 [00:13<00:00,  1.98s/it]"
     ]
    },
    {
     "name": "stdout",
     "output_type": "stream",
     "text": [
      "                   all        208          0          0          0          0          0\n",
      "WARNING ⚠️ no labels found in detect set, can not compute metrics without labels\n"
     ]
    },
    {
     "name": "stderr",
     "output_type": "stream",
     "text": [
      "\n"
     ]
    },
    {
     "name": "stdout",
     "output_type": "stream",
     "text": [
      "\n",
      "      Epoch    GPU_mem   box_loss   cls_loss   dfl_loss  Instances       Size\n"
     ]
    },
    {
     "name": "stderr",
     "output_type": "stream",
     "text": [
      "      2/100      5.69G          0      197.7          0          0       1280: 100%|██████████| 13/13 [01:27<00:00,  6.70s/it]\n",
      "                 Class     Images  Instances      Box(P          R      mAP50  mAP50-95): 100%|██████████| 7/7 [01:07<00:00,  9.71s/it]"
     ]
    },
    {
     "name": "stdout",
     "output_type": "stream",
     "text": [
      "                   all        208          0          0          0          0          0\n",
      "WARNING ⚠️ no labels found in detect set, can not compute metrics without labels\n"
     ]
    },
    {
     "name": "stderr",
     "output_type": "stream",
     "text": [
      "\n"
     ]
    },
    {
     "name": "stdout",
     "output_type": "stream",
     "text": [
      "\n",
      "      Epoch    GPU_mem   box_loss   cls_loss   dfl_loss  Instances       Size\n"
     ]
    },
    {
     "name": "stderr",
     "output_type": "stream",
     "text": [
      "      3/100      5.69G          0      181.8          0          0       1280: 100%|██████████| 13/13 [01:52<00:00,  8.68s/it]\n",
      "                 Class     Images  Instances      Box(P          R      mAP50  mAP50-95): 100%|██████████| 7/7 [01:45<00:00, 15.12s/it]"
     ]
    },
    {
     "name": "stdout",
     "output_type": "stream",
     "text": [
      "                   all        208          0          0          0          0          0\n",
      "WARNING ⚠️ no labels found in detect set, can not compute metrics without labels\n"
     ]
    },
    {
     "name": "stderr",
     "output_type": "stream",
     "text": [
      "\n"
     ]
    },
    {
     "name": "stdout",
     "output_type": "stream",
     "text": [
      "\n",
      "      Epoch    GPU_mem   box_loss   cls_loss   dfl_loss  Instances       Size\n"
     ]
    },
    {
     "name": "stderr",
     "output_type": "stream",
     "text": [
      "      4/100       5.6G          0      166.9          0          0       1280: 100%|██████████| 13/13 [00:03<00:00,  3.80it/s]\n",
      "                 Class     Images  Instances      Box(P          R      mAP50  mAP50-95): 100%|██████████| 7/7 [00:10<00:00,  1.46s/it]"
     ]
    },
    {
     "name": "stdout",
     "output_type": "stream",
     "text": [
      "                   all        208          0          0          0          0          0\n",
      "WARNING ⚠️ no labels found in detect set, can not compute metrics without labels\n"
     ]
    },
    {
     "name": "stderr",
     "output_type": "stream",
     "text": [
      "\n"
     ]
    },
    {
     "name": "stdout",
     "output_type": "stream",
     "text": [
      "\n",
      "      Epoch    GPU_mem   box_loss   cls_loss   dfl_loss  Instances       Size\n"
     ]
    },
    {
     "name": "stderr",
     "output_type": "stream",
     "text": [
      "      5/100       5.6G          0      154.7          0          0       1280: 100%|██████████| 13/13 [00:08<00:00,  1.58it/s]\n",
      "                 Class     Images  Instances      Box(P          R      mAP50  mAP50-95): 100%|██████████| 7/7 [00:10<00:00,  1.56s/it]"
     ]
    },
    {
     "name": "stdout",
     "output_type": "stream",
     "text": [
      "                   all        208          0          0          0          0          0\n",
      "WARNING ⚠️ no labels found in detect set, can not compute metrics without labels\n"
     ]
    },
    {
     "name": "stderr",
     "output_type": "stream",
     "text": [
      "\n"
     ]
    },
    {
     "name": "stdout",
     "output_type": "stream",
     "text": [
      "\n",
      "      Epoch    GPU_mem   box_loss   cls_loss   dfl_loss  Instances       Size\n"
     ]
    },
    {
     "name": "stderr",
     "output_type": "stream",
     "text": [
      "      6/100       5.6G          0      141.4          0          0       1280: 100%|██████████| 13/13 [00:07<00:00,  1.63it/s]\n",
      "                 Class     Images  Instances      Box(P          R      mAP50  mAP50-95): 100%|██████████| 7/7 [00:11<00:00,  1.57s/it]"
     ]
    },
    {
     "name": "stdout",
     "output_type": "stream",
     "text": [
      "                   all        208          0          0          0          0          0\n",
      "WARNING ⚠️ no labels found in detect set, can not compute metrics without labels\n"
     ]
    },
    {
     "name": "stderr",
     "output_type": "stream",
     "text": [
      "\n"
     ]
    },
    {
     "name": "stdout",
     "output_type": "stream",
     "text": [
      "\n",
      "      Epoch    GPU_mem   box_loss   cls_loss   dfl_loss  Instances       Size\n"
     ]
    },
    {
     "name": "stderr",
     "output_type": "stream",
     "text": [
      "      7/100       5.6G          0      127.9          0          0       1280: 100%|██████████| 13/13 [00:14<00:00,  1.08s/it]\n",
      "                 Class     Images  Instances      Box(P          R      mAP50  mAP50-95): 100%|██████████| 7/7 [00:10<00:00,  1.57s/it]"
     ]
    },
    {
     "name": "stdout",
     "output_type": "stream",
     "text": [
      "                   all        208          0          0          0          0          0\n",
      "WARNING ⚠️ no labels found in detect set, can not compute metrics without labels\n"
     ]
    },
    {
     "name": "stderr",
     "output_type": "stream",
     "text": [
      "\n"
     ]
    },
    {
     "name": "stdout",
     "output_type": "stream",
     "text": [
      "\n",
      "      Epoch    GPU_mem   box_loss   cls_loss   dfl_loss  Instances       Size\n"
     ]
    },
    {
     "name": "stderr",
     "output_type": "stream",
     "text": [
      "      8/100       5.6G          0      116.7          0          0       1280: 100%|██████████| 13/13 [00:10<00:00,  1.29it/s]\n",
      "                 Class     Images  Instances      Box(P          R      mAP50  mAP50-95): 100%|██████████| 7/7 [00:11<00:00,  1.62s/it]"
     ]
    },
    {
     "name": "stdout",
     "output_type": "stream",
     "text": [
      "                   all        208          0          0          0          0          0\n",
      "WARNING ⚠️ no labels found in detect set, can not compute metrics without labels\n"
     ]
    },
    {
     "name": "stderr",
     "output_type": "stream",
     "text": [
      "\n"
     ]
    },
    {
     "name": "stdout",
     "output_type": "stream",
     "text": [
      "\n",
      "      Epoch    GPU_mem   box_loss   cls_loss   dfl_loss  Instances       Size\n"
     ]
    },
    {
     "name": "stderr",
     "output_type": "stream",
     "text": [
      "      9/100       5.6G          0        107          0          0       1280: 100%|██████████| 13/13 [00:09<00:00,  1.36it/s]\n",
      "                 Class     Images  Instances      Box(P          R      mAP50  mAP50-95): 100%|██████████| 7/7 [00:11<00:00,  1.62s/it]"
     ]
    },
    {
     "name": "stdout",
     "output_type": "stream",
     "text": [
      "                   all        208          0          0          0          0          0\n",
      "WARNING ⚠️ no labels found in detect set, can not compute metrics without labels\n"
     ]
    },
    {
     "name": "stderr",
     "output_type": "stream",
     "text": [
      "\n"
     ]
    },
    {
     "name": "stdout",
     "output_type": "stream",
     "text": [
      "\n",
      "      Epoch    GPU_mem   box_loss   cls_loss   dfl_loss  Instances       Size\n"
     ]
    },
    {
     "name": "stderr",
     "output_type": "stream",
     "text": [
      "     10/100       5.6G          0      98.35          0          0       1280: 100%|██████████| 13/13 [00:16<00:00,  1.27s/it]\n",
      "                 Class     Images  Instances      Box(P          R      mAP50  mAP50-95): 100%|██████████| 7/7 [00:05<00:00,  1.22it/s]"
     ]
    },
    {
     "name": "stdout",
     "output_type": "stream",
     "text": [
      "                   all        208          0          0          0          0          0\n",
      "WARNING ⚠️ no labels found in detect set, can not compute metrics without labels\n"
     ]
    },
    {
     "name": "stderr",
     "output_type": "stream",
     "text": [
      "\n"
     ]
    },
    {
     "name": "stdout",
     "output_type": "stream",
     "text": [
      "\n",
      "      Epoch    GPU_mem   box_loss   cls_loss   dfl_loss  Instances       Size\n"
     ]
    },
    {
     "name": "stderr",
     "output_type": "stream",
     "text": [
      "     11/100       5.6G          0      87.61          0          0       1280: 100%|██████████| 13/13 [00:09<00:00,  1.36it/s]\n",
      "                 Class     Images  Instances      Box(P          R      mAP50  mAP50-95): 100%|██████████| 7/7 [00:01<00:00,  3.60it/s]\n"
     ]
    },
    {
     "name": "stdout",
     "output_type": "stream",
     "text": [
      "                   all        208          0          0          0          0          0\n",
      "WARNING ⚠️ no labels found in detect set, can not compute metrics without labels\n",
      "\n",
      "      Epoch    GPU_mem   box_loss   cls_loss   dfl_loss  Instances       Size\n"
     ]
    },
    {
     "name": "stderr",
     "output_type": "stream",
     "text": [
      "     12/100       5.6G          0         78          0          0       1280: 100%|██████████| 13/13 [00:19<00:00,  1.53s/it]\n",
      "                 Class     Images  Instances      Box(P          R      mAP50  mAP50-95): 100%|██████████| 7/7 [00:01<00:00,  3.54it/s]\n"
     ]
    },
    {
     "name": "stdout",
     "output_type": "stream",
     "text": [
      "                   all        208          0          0          0          0          0\n",
      "WARNING ⚠️ no labels found in detect set, can not compute metrics without labels\n",
      "\n",
      "      Epoch    GPU_mem   box_loss   cls_loss   dfl_loss  Instances       Size\n"
     ]
    },
    {
     "name": "stderr",
     "output_type": "stream",
     "text": [
      "     13/100       5.6G          0      69.16          0          0       1280: 100%|██████████| 13/13 [00:17<00:00,  1.37s/it]\n",
      "                 Class     Images  Instances      Box(P          R      mAP50  mAP50-95): 100%|██████████| 7/7 [00:02<00:00,  3.30it/s]\n"
     ]
    },
    {
     "name": "stdout",
     "output_type": "stream",
     "text": [
      "                   all        208          0          0          0          0          0\n",
      "WARNING ⚠️ no labels found in detect set, can not compute metrics without labels\n",
      "\n",
      "      Epoch    GPU_mem   box_loss   cls_loss   dfl_loss  Instances       Size\n"
     ]
    },
    {
     "name": "stderr",
     "output_type": "stream",
     "text": [
      "     14/100       5.6G          0      61.33          0          0       1280: 100%|██████████| 13/13 [00:13<00:00,  1.05s/it]\n",
      "                 Class     Images  Instances      Box(P          R      mAP50  mAP50-95): 100%|██████████| 7/7 [00:02<00:00,  3.45it/s]"
     ]
    },
    {
     "name": "stdout",
     "output_type": "stream",
     "text": [
      "                   all        208          0          0          0          0          0\n",
      "WARNING ⚠️ no labels found in detect set, can not compute metrics without labels\n"
     ]
    },
    {
     "name": "stderr",
     "output_type": "stream",
     "text": [
      "\n"
     ]
    },
    {
     "name": "stdout",
     "output_type": "stream",
     "text": [
      "\n",
      "      Epoch    GPU_mem   box_loss   cls_loss   dfl_loss  Instances       Size\n"
     ]
    },
    {
     "name": "stderr",
     "output_type": "stream",
     "text": [
      "     15/100       5.6G          0      54.14          0          0       1280: 100%|██████████| 13/13 [00:22<00:00,  1.72s/it]\n",
      "                 Class     Images  Instances      Box(P          R      mAP50  mAP50-95): 100%|██████████| 7/7 [00:01<00:00,  3.51it/s]\n"
     ]
    },
    {
     "name": "stdout",
     "output_type": "stream",
     "text": [
      "                   all        208          0          0          0          0          0\n",
      "WARNING ⚠️ no labels found in detect set, can not compute metrics without labels\n",
      "\n",
      "      Epoch    GPU_mem   box_loss   cls_loss   dfl_loss  Instances       Size\n"
     ]
    },
    {
     "name": "stderr",
     "output_type": "stream",
     "text": [
      "     16/100       5.6G          0      47.76          0          0       1280: 100%|██████████| 13/13 [00:14<00:00,  1.14s/it]\n",
      "                 Class     Images  Instances      Box(P          R      mAP50  mAP50-95): 100%|██████████| 7/7 [00:02<00:00,  3.38it/s]\n"
     ]
    },
    {
     "name": "stdout",
     "output_type": "stream",
     "text": [
      "                   all        208          0          0          0          0          0\n",
      "WARNING ⚠️ no labels found in detect set, can not compute metrics without labels\n",
      "\n",
      "      Epoch    GPU_mem   box_loss   cls_loss   dfl_loss  Instances       Size\n"
     ]
    },
    {
     "name": "stderr",
     "output_type": "stream",
     "text": [
      "     17/100       5.6G          0      41.65          0          0       1280: 100%|██████████| 13/13 [00:17<00:00,  1.37s/it]\n",
      "                 Class     Images  Instances      Box(P          R      mAP50  mAP50-95): 100%|██████████| 7/7 [00:01<00:00,  3.58it/s]\n"
     ]
    },
    {
     "name": "stdout",
     "output_type": "stream",
     "text": [
      "                   all        208          0          0          0          0          0\n",
      "WARNING ⚠️ no labels found in detect set, can not compute metrics without labels\n",
      "\n",
      "      Epoch    GPU_mem   box_loss   cls_loss   dfl_loss  Instances       Size\n"
     ]
    },
    {
     "name": "stderr",
     "output_type": "stream",
     "text": [
      "     18/100       5.6G          0      36.49          0          0       1280: 100%|██████████| 13/13 [00:19<00:00,  1.52s/it]\n",
      "                 Class     Images  Instances      Box(P          R      mAP50  mAP50-95): 100%|██████████| 7/7 [00:02<00:00,  3.27it/s]\n"
     ]
    },
    {
     "name": "stdout",
     "output_type": "stream",
     "text": [
      "                   all        208          0          0          0          0          0\n",
      "WARNING ⚠️ no labels found in detect set, can not compute metrics without labels\n",
      "\n",
      "      Epoch    GPU_mem   box_loss   cls_loss   dfl_loss  Instances       Size\n"
     ]
    },
    {
     "name": "stderr",
     "output_type": "stream",
     "text": [
      "     19/100       5.6G          0       31.9          0          0       1280: 100%|██████████| 13/13 [00:13<00:00,  1.03s/it]\n",
      "                 Class     Images  Instances      Box(P          R      mAP50  mAP50-95): 100%|██████████| 7/7 [00:02<00:00,  3.19it/s]\n"
     ]
    },
    {
     "name": "stdout",
     "output_type": "stream",
     "text": [
      "                   all        208          0          0          0          0          0\n",
      "WARNING ⚠️ no labels found in detect set, can not compute metrics without labels\n",
      "\n",
      "      Epoch    GPU_mem   box_loss   cls_loss   dfl_loss  Instances       Size\n"
     ]
    },
    {
     "name": "stderr",
     "output_type": "stream",
     "text": [
      "     20/100       5.6G          0      27.91          0          0       1280: 100%|██████████| 13/13 [00:21<00:00,  1.68s/it]\n",
      "                 Class     Images  Instances      Box(P          R      mAP50  mAP50-95): 100%|██████████| 7/7 [00:01<00:00,  3.68it/s]"
     ]
    },
    {
     "name": "stdout",
     "output_type": "stream",
     "text": [
      "                   all        208          0          0          0          0          0\n",
      "WARNING ⚠️ no labels found in detect set, can not compute metrics without labels\n"
     ]
    },
    {
     "name": "stderr",
     "output_type": "stream",
     "text": [
      "\n"
     ]
    },
    {
     "name": "stdout",
     "output_type": "stream",
     "text": [
      "\n",
      "      Epoch    GPU_mem   box_loss   cls_loss   dfl_loss  Instances       Size\n"
     ]
    },
    {
     "name": "stderr",
     "output_type": "stream",
     "text": [
      "     21/100       5.6G          0      23.94          0          0       1280: 100%|██████████| 13/13 [00:16<00:00,  1.24s/it]\n",
      "                 Class     Images  Instances      Box(P          R      mAP50  mAP50-95): 100%|██████████| 7/7 [00:01<00:00,  3.54it/s]\n"
     ]
    },
    {
     "name": "stdout",
     "output_type": "stream",
     "text": [
      "                   all        208          0          0          0          0          0\n",
      "WARNING ⚠️ no labels found in detect set, can not compute metrics without labels\n",
      "\n",
      "      Epoch    GPU_mem   box_loss   cls_loss   dfl_loss  Instances       Size\n"
     ]
    },
    {
     "name": "stderr",
     "output_type": "stream",
     "text": [
      "     22/100       5.6G          0      20.76          0          0       1280: 100%|██████████| 13/13 [00:15<00:00,  1.22s/it]\n",
      "                 Class     Images  Instances      Box(P          R      mAP50  mAP50-95): 100%|██████████| 7/7 [00:01<00:00,  4.22it/s]"
     ]
    },
    {
     "name": "stdout",
     "output_type": "stream",
     "text": [
      "                   all        208          0          0          0          0          0\n",
      "WARNING ⚠️ no labels found in detect set, can not compute metrics without labels\n"
     ]
    },
    {
     "name": "stderr",
     "output_type": "stream",
     "text": [
      "\n"
     ]
    },
    {
     "name": "stdout",
     "output_type": "stream",
     "text": [
      "\n",
      "      Epoch    GPU_mem   box_loss   cls_loss   dfl_loss  Instances       Size\n"
     ]
    },
    {
     "name": "stderr",
     "output_type": "stream",
     "text": [
      "     23/100       5.6G          0      17.87          0          0       1280: 100%|██████████| 13/13 [00:21<00:00,  1.67s/it]\n",
      "                 Class     Images  Instances      Box(P          R      mAP50  mAP50-95): 100%|██████████| 7/7 [00:01<00:00,  4.42it/s]"
     ]
    },
    {
     "name": "stdout",
     "output_type": "stream",
     "text": [
      "                   all        208          0          0          0          0          0\n",
      "WARNING ⚠️ no labels found in detect set, can not compute metrics without labels\n"
     ]
    },
    {
     "name": "stderr",
     "output_type": "stream",
     "text": [
      "\n"
     ]
    },
    {
     "name": "stdout",
     "output_type": "stream",
     "text": [
      "\n",
      "      Epoch    GPU_mem   box_loss   cls_loss   dfl_loss  Instances       Size\n"
     ]
    },
    {
     "name": "stderr",
     "output_type": "stream",
     "text": [
      "     24/100       5.6G          0       15.4          0          0       1280: 100%|██████████| 13/13 [00:13<00:00,  1.04s/it]\n",
      "                 Class     Images  Instances      Box(P          R      mAP50  mAP50-95): 100%|██████████| 7/7 [00:01<00:00,  3.86it/s]"
     ]
    },
    {
     "name": "stdout",
     "output_type": "stream",
     "text": [
      "                   all        208          0          0          0          0          0\n",
      "WARNING ⚠️ no labels found in detect set, can not compute metrics without labels\n"
     ]
    },
    {
     "name": "stderr",
     "output_type": "stream",
     "text": [
      "\n"
     ]
    },
    {
     "name": "stdout",
     "output_type": "stream",
     "text": [
      "\n",
      "      Epoch    GPU_mem   box_loss   cls_loss   dfl_loss  Instances       Size\n"
     ]
    },
    {
     "name": "stderr",
     "output_type": "stream",
     "text": [
      "     25/100       5.6G          0      13.29          0          0       1280: 100%|██████████| 13/13 [00:19<00:00,  1.51s/it]\n",
      "                 Class     Images  Instances      Box(P          R      mAP50  mAP50-95): 100%|██████████| 7/7 [00:01<00:00,  5.11it/s]\n"
     ]
    },
    {
     "ename": "IndexError",
     "evalue": "list index out of range",
     "output_type": "error",
     "traceback": [
      "\u001b[0;31m---------------------------------------------------------------------------\u001b[0m",
      "\u001b[0;31mIndexError\u001b[0m                                Traceback (most recent call last)",
      "\u001b[1;32m/home/azureuser/Alpine-Aster/notebook/prepare_data/yolo_train.ipynb Cell 16\u001b[0m line \u001b[0;36m5\n\u001b[1;32m      <a href='vscode-notebook-cell://ssh-remote%2B20.234.237.142/home/azureuser/Alpine-Aster/notebook/prepare_data/yolo_train.ipynb#W4sdnNjb2RlLXJlbW90ZQ%3D%3D?line=1'>2</a>\u001b[0m mydata\u001b[39m=\u001b[39m\u001b[39m'\u001b[39m\u001b[39m/home/azureuser/Alpine-Aster/notebook/prepare_data/yolo_data.yaml\u001b[39m\u001b[39m'\u001b[39m\n\u001b[1;32m      <a href='vscode-notebook-cell://ssh-remote%2B20.234.237.142/home/azureuser/Alpine-Aster/notebook/prepare_data/yolo_train.ipynb#W4sdnNjb2RlLXJlbW90ZQ%3D%3D?line=3'>4</a>\u001b[0m \u001b[39m# Train the model using the 'coco128.yaml' dataset for 3 epochs\u001b[39;00m\n\u001b[0;32m----> <a href='vscode-notebook-cell://ssh-remote%2B20.234.237.142/home/azureuser/Alpine-Aster/notebook/prepare_data/yolo_train.ipynb#W4sdnNjb2RlLXJlbW90ZQ%3D%3D?line=4'>5</a>\u001b[0m results \u001b[39m=\u001b[39m model\u001b[39m.\u001b[39;49mtrain(data\u001b[39m=\u001b[39;49mmydata, epochs\u001b[39m=\u001b[39;49m\u001b[39m100\u001b[39;49m, rect \u001b[39m=\u001b[39;49m \u001b[39mTrue\u001b[39;49;00m)\n",
      "File \u001b[0;32m~/miniconda3/envs/hackathon/lib/python3.11/site-packages/ultralytics/engine/model.py:338\u001b[0m, in \u001b[0;36mModel.train\u001b[0;34m(self, trainer, **kwargs)\u001b[0m\n\u001b[1;32m    336\u001b[0m     \u001b[39mself\u001b[39m\u001b[39m.\u001b[39mmodel \u001b[39m=\u001b[39m \u001b[39mself\u001b[39m\u001b[39m.\u001b[39mtrainer\u001b[39m.\u001b[39mmodel\n\u001b[1;32m    337\u001b[0m \u001b[39mself\u001b[39m\u001b[39m.\u001b[39mtrainer\u001b[39m.\u001b[39mhub_session \u001b[39m=\u001b[39m \u001b[39mself\u001b[39m\u001b[39m.\u001b[39msession  \u001b[39m# attach optional HUB session\u001b[39;00m\n\u001b[0;32m--> 338\u001b[0m \u001b[39mself\u001b[39;49m\u001b[39m.\u001b[39;49mtrainer\u001b[39m.\u001b[39;49mtrain()\n\u001b[1;32m    339\u001b[0m \u001b[39m# Update model and cfg after training\u001b[39;00m\n\u001b[1;32m    340\u001b[0m \u001b[39mif\u001b[39;00m RANK \u001b[39min\u001b[39;00m (\u001b[39m-\u001b[39m\u001b[39m1\u001b[39m, \u001b[39m0\u001b[39m):\n",
      "File \u001b[0;32m~/miniconda3/envs/hackathon/lib/python3.11/site-packages/ultralytics/engine/trainer.py:190\u001b[0m, in \u001b[0;36mBaseTrainer.train\u001b[0;34m(self)\u001b[0m\n\u001b[1;32m    187\u001b[0m         ddp_cleanup(\u001b[39mself\u001b[39m, \u001b[39mstr\u001b[39m(file))\n\u001b[1;32m    189\u001b[0m \u001b[39melse\u001b[39;00m:\n\u001b[0;32m--> 190\u001b[0m     \u001b[39mself\u001b[39;49m\u001b[39m.\u001b[39;49m_do_train(world_size)\n",
      "File \u001b[0;32m~/miniconda3/envs/hackathon/lib/python3.11/site-packages/ultralytics/engine/trainer.py:379\u001b[0m, in \u001b[0;36mBaseTrainer._do_train\u001b[0;34m(self, world_size)\u001b[0m\n\u001b[1;32m    376\u001b[0m final_epoch \u001b[39m=\u001b[39m (epoch \u001b[39m+\u001b[39m \u001b[39m1\u001b[39m \u001b[39m==\u001b[39m \u001b[39mself\u001b[39m\u001b[39m.\u001b[39mepochs) \u001b[39mor\u001b[39;00m \u001b[39mself\u001b[39m\u001b[39m.\u001b[39mstopper\u001b[39m.\u001b[39mpossible_stop\n\u001b[1;32m    378\u001b[0m \u001b[39mif\u001b[39;00m \u001b[39mself\u001b[39m\u001b[39m.\u001b[39margs\u001b[39m.\u001b[39mval \u001b[39mor\u001b[39;00m final_epoch:\n\u001b[0;32m--> 379\u001b[0m     \u001b[39mself\u001b[39m\u001b[39m.\u001b[39mmetrics, \u001b[39mself\u001b[39m\u001b[39m.\u001b[39mfitness \u001b[39m=\u001b[39m \u001b[39mself\u001b[39;49m\u001b[39m.\u001b[39;49mvalidate()\n\u001b[1;32m    380\u001b[0m \u001b[39mself\u001b[39m\u001b[39m.\u001b[39msave_metrics(metrics\u001b[39m=\u001b[39m{\u001b[39m*\u001b[39m\u001b[39m*\u001b[39m\u001b[39mself\u001b[39m\u001b[39m.\u001b[39mlabel_loss_items(\u001b[39mself\u001b[39m\u001b[39m.\u001b[39mtloss), \u001b[39m*\u001b[39m\u001b[39m*\u001b[39m\u001b[39mself\u001b[39m\u001b[39m.\u001b[39mmetrics, \u001b[39m*\u001b[39m\u001b[39m*\u001b[39m\u001b[39mself\u001b[39m\u001b[39m.\u001b[39mlr})\n\u001b[1;32m    381\u001b[0m \u001b[39mself\u001b[39m\u001b[39m.\u001b[39mstop \u001b[39m=\u001b[39m \u001b[39mself\u001b[39m\u001b[39m.\u001b[39mstopper(epoch \u001b[39m+\u001b[39m \u001b[39m1\u001b[39m, \u001b[39mself\u001b[39m\u001b[39m.\u001b[39mfitness)\n",
      "File \u001b[0;32m~/miniconda3/envs/hackathon/lib/python3.11/site-packages/ultralytics/engine/trainer.py:483\u001b[0m, in \u001b[0;36mBaseTrainer.validate\u001b[0;34m(self)\u001b[0m\n\u001b[1;32m    477\u001b[0m \u001b[39mdef\u001b[39;00m \u001b[39mvalidate\u001b[39m(\u001b[39mself\u001b[39m):\n\u001b[1;32m    478\u001b[0m \u001b[39m    \u001b[39m\u001b[39m\"\"\"\u001b[39;00m\n\u001b[1;32m    479\u001b[0m \u001b[39m    Runs validation on test set using self.validator.\u001b[39;00m\n\u001b[1;32m    480\u001b[0m \n\u001b[1;32m    481\u001b[0m \u001b[39m    The returned dict is expected to contain \"fitness\" key.\u001b[39;00m\n\u001b[1;32m    482\u001b[0m \u001b[39m    \"\"\"\u001b[39;00m\n\u001b[0;32m--> 483\u001b[0m     metrics \u001b[39m=\u001b[39m \u001b[39mself\u001b[39;49m\u001b[39m.\u001b[39;49mvalidator(\u001b[39mself\u001b[39;49m)\n\u001b[1;32m    484\u001b[0m     fitness \u001b[39m=\u001b[39m metrics\u001b[39m.\u001b[39mpop(\u001b[39m'\u001b[39m\u001b[39mfitness\u001b[39m\u001b[39m'\u001b[39m, \u001b[39m-\u001b[39m\u001b[39mself\u001b[39m\u001b[39m.\u001b[39mloss\u001b[39m.\u001b[39mdetach()\u001b[39m.\u001b[39mcpu()\u001b[39m.\u001b[39mnumpy())  \u001b[39m# use loss as fitness measure if not found\u001b[39;00m\n\u001b[1;32m    485\u001b[0m     \u001b[39mif\u001b[39;00m \u001b[39mnot\u001b[39;00m \u001b[39mself\u001b[39m\u001b[39m.\u001b[39mbest_fitness \u001b[39mor\u001b[39;00m \u001b[39mself\u001b[39m\u001b[39m.\u001b[39mbest_fitness \u001b[39m<\u001b[39m fitness:\n",
      "File \u001b[0;32m~/miniconda3/envs/hackathon/lib/python3.11/site-packages/torch/utils/_contextlib.py:115\u001b[0m, in \u001b[0;36mcontext_decorator.<locals>.decorate_context\u001b[0;34m(*args, **kwargs)\u001b[0m\n\u001b[1;32m    112\u001b[0m \u001b[39m@functools\u001b[39m\u001b[39m.\u001b[39mwraps(func)\n\u001b[1;32m    113\u001b[0m \u001b[39mdef\u001b[39;00m \u001b[39mdecorate_context\u001b[39m(\u001b[39m*\u001b[39margs, \u001b[39m*\u001b[39m\u001b[39m*\u001b[39mkwargs):\n\u001b[1;32m    114\u001b[0m     \u001b[39mwith\u001b[39;00m ctx_factory():\n\u001b[0;32m--> 115\u001b[0m         \u001b[39mreturn\u001b[39;00m func(\u001b[39m*\u001b[39;49margs, \u001b[39m*\u001b[39;49m\u001b[39m*\u001b[39;49mkwargs)\n",
      "File \u001b[0;32m~/miniconda3/envs/hackathon/lib/python3.11/site-packages/ultralytics/engine/validator.py:186\u001b[0m, in \u001b[0;36mBaseValidator.__call__\u001b[0;34m(self, trainer, model)\u001b[0m\n\u001b[1;32m    183\u001b[0m         \u001b[39mself\u001b[39m\u001b[39m.\u001b[39mplot_predictions(batch, preds, batch_i)\n\u001b[1;32m    185\u001b[0m     \u001b[39mself\u001b[39m\u001b[39m.\u001b[39mrun_callbacks(\u001b[39m'\u001b[39m\u001b[39mon_val_batch_end\u001b[39m\u001b[39m'\u001b[39m)\n\u001b[0;32m--> 186\u001b[0m stats \u001b[39m=\u001b[39m \u001b[39mself\u001b[39;49m\u001b[39m.\u001b[39;49mget_stats()\n\u001b[1;32m    187\u001b[0m \u001b[39mself\u001b[39m\u001b[39m.\u001b[39mcheck_stats(stats)\n\u001b[1;32m    188\u001b[0m \u001b[39mself\u001b[39m\u001b[39m.\u001b[39mspeed \u001b[39m=\u001b[39m \u001b[39mdict\u001b[39m(\u001b[39mzip\u001b[39m(\u001b[39mself\u001b[39m\u001b[39m.\u001b[39mspeed\u001b[39m.\u001b[39mkeys(), (x\u001b[39m.\u001b[39mt \u001b[39m/\u001b[39m \u001b[39mlen\u001b[39m(\u001b[39mself\u001b[39m\u001b[39m.\u001b[39mdataloader\u001b[39m.\u001b[39mdataset) \u001b[39m*\u001b[39m \u001b[39m1E3\u001b[39m \u001b[39mfor\u001b[39;00m x \u001b[39min\u001b[39;00m dt)))\n",
      "File \u001b[0;32m~/miniconda3/envs/hackathon/lib/python3.11/site-packages/ultralytics/models/yolo/detect/val.py:145\u001b[0m, in \u001b[0;36mDetectionValidator.get_stats\u001b[0;34m(self)\u001b[0m\n\u001b[1;32m    143\u001b[0m \u001b[39mif\u001b[39;00m \u001b[39mlen\u001b[39m(stats) \u001b[39mand\u001b[39;00m stats[\u001b[39m0\u001b[39m]\u001b[39m.\u001b[39many():\n\u001b[1;32m    144\u001b[0m     \u001b[39mself\u001b[39m\u001b[39m.\u001b[39mmetrics\u001b[39m.\u001b[39mprocess(\u001b[39m*\u001b[39mstats)\n\u001b[0;32m--> 145\u001b[0m \u001b[39mself\u001b[39m\u001b[39m.\u001b[39mnt_per_class \u001b[39m=\u001b[39m np\u001b[39m.\u001b[39mbincount(stats[\u001b[39m-\u001b[39;49m\u001b[39m1\u001b[39;49m]\u001b[39m.\u001b[39mastype(\u001b[39mint\u001b[39m), minlength\u001b[39m=\u001b[39m\u001b[39mself\u001b[39m\u001b[39m.\u001b[39mnc)  \u001b[39m# number of targets per class\u001b[39;00m\n\u001b[1;32m    146\u001b[0m \u001b[39mreturn\u001b[39;00m \u001b[39mself\u001b[39m\u001b[39m.\u001b[39mmetrics\u001b[39m.\u001b[39mresults_dict\n",
      "\u001b[0;31mIndexError\u001b[0m: list index out of range"
     ]
    }
   ],
   "source": [
    "#mydata='/home/azureuser/Alpine-Aster/notebook/prepare_data/yolo_data.yaml'\n",
    "mydata='/home/azureuser/Alpine-Aster/notebook/prepare_data/yolo_data.yaml'\n",
    "\n",
    "# Train the model using the 'coco128.yaml' dataset for 3 epochs\n",
    "results = model.train(data=mydata, epochs=100, rect = True)"
   ]
  },
  {
   "cell_type": "code",
   "execution_count": null,
   "metadata": {},
   "outputs": [],
   "source": [
    "# Evaluate the model's performance on the validation set\n",
    "results = model.val()"
   ]
  },
  {
   "cell_type": "code",
   "execution_count": 88,
   "metadata": {},
   "outputs": [
    {
     "name": "stdout",
     "output_type": "stream",
     "text": [
      "Ultralytics YOLOv8.0.221 🚀 Python-3.11.5 torch-2.1.1+cu121 CUDA:0 (Tesla T4, 15948MiB)\n",
      "\u001b[34m\u001b[1mengine/trainer: \u001b[0mtask=detect, mode=train, model=yolov8n.yaml, data=/home/azureuser/Alpine-Aster/data/postprocessed2/yolo_data.yaml, epochs=100, patience=50, batch=16, imgsz=1280, save=True, save_period=-1, cache=False, device=None, workers=8, project=None, name=train32334, exist_ok=False, pretrained=True, optimizer=auto, verbose=True, seed=0, deterministic=True, single_cls=False, rect=True, cos_lr=False, close_mosaic=10, resume=False, amp=True, fraction=1.0, profile=False, freeze=None, overlap_mask=True, mask_ratio=4, dropout=0.0, val=True, split=val, save_json=False, save_hybrid=False, conf=None, iou=0.7, max_det=300, half=False, dnn=False, plots=True, source=None, vid_stride=1, stream_buffer=False, visualize=False, augment=False, agnostic_nms=False, classes=None, retina_masks=False, show=False, save_frames=False, save_txt=False, save_conf=False, save_crop=False, show_labels=True, show_conf=True, show_boxes=True, line_width=None, format=torchscript, keras=False, optimize=False, int8=False, dynamic=False, simplify=False, opset=None, workspace=4, nms=False, lr0=0.01, lrf=0.01, momentum=0.937, weight_decay=0.0005, warmup_epochs=3.0, warmup_momentum=0.8, warmup_bias_lr=0.0, box=7.5, cls=0.5, dfl=1.5, pose=12.0, kobj=1.0, label_smoothing=0.0, nbs=64, hsv_h=0.015, hsv_s=0.7, hsv_v=0.4, degrees=0.0, translate=0.1, scale=0.5, shear=0.0, perspective=0.0, flipud=0.0, fliplr=0.5, mosaic=0.0, mixup=0.0, copy_paste=0.0, cfg=None, tracker=botsort.yaml, save_dir=runs/detect/train32334\n",
      "\n",
      "                   from  n    params  module                                       arguments                     \n",
      "  0                  -1  1       464  ultralytics.nn.modules.conv.Conv             [3, 16, 3, 2]                 \n",
      "  1                  -1  1      4672  ultralytics.nn.modules.conv.Conv             [16, 32, 3, 2]                \n",
      "  2                  -1  1      7360  ultralytics.nn.modules.block.C2f             [32, 32, 1, True]             \n",
      "  3                  -1  1     18560  ultralytics.nn.modules.conv.Conv             [32, 64, 3, 2]                \n",
      "  4                  -1  2     49664  ultralytics.nn.modules.block.C2f             [64, 64, 2, True]             \n",
      "  5                  -1  1     73984  ultralytics.nn.modules.conv.Conv             [64, 128, 3, 2]               \n",
      "  6                  -1  2    197632  ultralytics.nn.modules.block.C2f             [128, 128, 2, True]           \n",
      "  7                  -1  1    295424  ultralytics.nn.modules.conv.Conv             [128, 256, 3, 2]              \n",
      "  8                  -1  1    460288  ultralytics.nn.modules.block.C2f             [256, 256, 1, True]           \n",
      "  9                  -1  1    164608  ultralytics.nn.modules.block.SPPF            [256, 256, 5]                 \n",
      " 10                  -1  1         0  torch.nn.modules.upsampling.Upsample         [None, 2, 'nearest']          \n",
      " 11             [-1, 6]  1         0  ultralytics.nn.modules.conv.Concat           [1]                           \n",
      " 12                  -1  1    148224  ultralytics.nn.modules.block.C2f             [384, 128, 1]                 \n",
      " 13                  -1  1         0  torch.nn.modules.upsampling.Upsample         [None, 2, 'nearest']          \n",
      " 14             [-1, 4]  1         0  ultralytics.nn.modules.conv.Concat           [1]                           \n",
      " 15                  -1  1     37248  ultralytics.nn.modules.block.C2f             [192, 64, 1]                  \n",
      " 16                  -1  1     36992  ultralytics.nn.modules.conv.Conv             [64, 64, 3, 2]                \n",
      " 17            [-1, 12]  1         0  ultralytics.nn.modules.conv.Concat           [1]                           \n",
      " 18                  -1  1    123648  ultralytics.nn.modules.block.C2f             [192, 128, 1]                 \n",
      " 19                  -1  1    147712  ultralytics.nn.modules.conv.Conv             [128, 128, 3, 2]              \n",
      " 20             [-1, 9]  1         0  ultralytics.nn.modules.conv.Concat           [1]                           \n",
      " 21                  -1  1    493056  ultralytics.nn.modules.block.C2f             [384, 256, 1]                 \n",
      " 22        [15, 18, 21]  1    751507  ultralytics.nn.modules.head.Detect           [1, [64, 128, 256]]           \n",
      "YOLOv8n summary: 225 layers, 3011043 parameters, 3011027 gradients, 8.2 GFLOPs\n",
      "\n",
      "Transferred 355/355 items from pretrained weights\n",
      "Freezing layer 'model.22.dfl.conv.weight'\n",
      "\u001b[34m\u001b[1mAMP: \u001b[0mrunning Automatic Mixed Precision (AMP) checks with YOLOv8n...\n",
      "\u001b[34m\u001b[1mAMP: \u001b[0mchecks passed ✅\n"
     ]
    },
    {
     "name": "stderr",
     "output_type": "stream",
     "text": [
      "\u001b[34m\u001b[1mtrain: \u001b[0mScanning /home/azureuser/Alpine-Aster/data/postprocessed2/train/labels... 176 images, 0 backgrounds, 0 corrupt: 100%|██████████| 176/176 [00:00<00:00, 291.28it/s]"
     ]
    },
    {
     "name": "stdout",
     "output_type": "stream",
     "text": [
      "\u001b[34m\u001b[1mtrain: \u001b[0mNew cache created: /home/azureuser/Alpine-Aster/data/postprocessed2/train/labels.cache\n",
      "WARNING ⚠️ 'rect=True' is incompatible with DataLoader shuffle, setting shuffle=False\n"
     ]
    },
    {
     "name": "stderr",
     "output_type": "stream",
     "text": [
      "\n",
      "\u001b[34m\u001b[1mval: \u001b[0mScanning /home/azureuser/Alpine-Aster/data/postprocessed2/val/labels... 45 images, 0 backgrounds, 0 corrupt: 100%|██████████| 45/45 [00:00<00:00, 272.00it/s]"
     ]
    },
    {
     "name": "stdout",
     "output_type": "stream",
     "text": [
      "\u001b[34m\u001b[1mval: \u001b[0mNew cache created: /home/azureuser/Alpine-Aster/data/postprocessed2/val/labels.cache\n"
     ]
    },
    {
     "name": "stderr",
     "output_type": "stream",
     "text": [
      "\n"
     ]
    },
    {
     "name": "stdout",
     "output_type": "stream",
     "text": [
      "Plotting labels to runs/detect/train32334/labels.jpg... \n",
      "\u001b[34m\u001b[1moptimizer:\u001b[0m 'optimizer=auto' found, ignoring 'lr0=0.01' and 'momentum=0.937' and determining best 'optimizer', 'lr0' and 'momentum' automatically... \n",
      "\u001b[34m\u001b[1moptimizer:\u001b[0m AdamW(lr=0.002, momentum=0.9) with parameter groups 57 weight(decay=0.0), 64 weight(decay=0.0005), 63 bias(decay=0.0)\n",
      "Image sizes 1280 train, 1280 val\n",
      "Using 8 dataloader workers\n",
      "Logging results to \u001b[1mruns/detect/train32334\u001b[0m\n",
      "Starting training for 100 epochs...\n",
      "\n",
      "      Epoch    GPU_mem   box_loss   cls_loss   dfl_loss  Instances       Size\n"
     ]
    },
    {
     "name": "stderr",
     "output_type": "stream",
     "text": [
      "      1/100      10.2G      3.387      4.596      3.295         16       1280: 100%|██████████| 11/11 [00:05<00:00,  2.13it/s]\n",
      "                 Class     Images  Instances      Box(P          R      mAP50  mAP50-95): 100%|██████████| 2/2 [00:00<00:00,  4.86it/s]"
     ]
    },
    {
     "name": "stdout",
     "output_type": "stream",
     "text": [
      "                   all         45         45          0          0          0          0\n"
     ]
    },
    {
     "name": "stderr",
     "output_type": "stream",
     "text": [
      "\n"
     ]
    },
    {
     "name": "stdout",
     "output_type": "stream",
     "text": [
      "\n",
      "      Epoch    GPU_mem   box_loss   cls_loss   dfl_loss  Instances       Size\n"
     ]
    },
    {
     "name": "stderr",
     "output_type": "stream",
     "text": [
      "      2/100      8.84G      3.306      4.478      3.265         15       1280: 100%|██████████| 11/11 [00:04<00:00,  2.44it/s]\n",
      "                 Class     Images  Instances      Box(P          R      mAP50  mAP50-95): 100%|██████████| 2/2 [00:00<00:00,  2.37it/s]"
     ]
    },
    {
     "name": "stdout",
     "output_type": "stream",
     "text": [
      "                   all         45         45    0.00164      0.222    0.00148    0.00028\n"
     ]
    },
    {
     "name": "stderr",
     "output_type": "stream",
     "text": [
      "\n"
     ]
    },
    {
     "name": "stdout",
     "output_type": "stream",
     "text": [
      "\n",
      "      Epoch    GPU_mem   box_loss   cls_loss   dfl_loss  Instances       Size\n"
     ]
    },
    {
     "name": "stderr",
     "output_type": "stream",
     "text": [
      "      3/100      8.84G      3.241      4.439      3.197         16       1280: 100%|██████████| 11/11 [00:04<00:00,  2.46it/s]\n",
      "                 Class     Images  Instances      Box(P          R      mAP50  mAP50-95): 100%|██████████| 2/2 [00:00<00:00,  2.15it/s]"
     ]
    },
    {
     "name": "stdout",
     "output_type": "stream",
     "text": [
      "                   all         45         45    0.00177      0.489    0.00327   0.000897\n"
     ]
    },
    {
     "name": "stderr",
     "output_type": "stream",
     "text": [
      "\n"
     ]
    },
    {
     "name": "stdout",
     "output_type": "stream",
     "text": [
      "\n",
      "      Epoch    GPU_mem   box_loss   cls_loss   dfl_loss  Instances       Size\n"
     ]
    },
    {
     "name": "stderr",
     "output_type": "stream",
     "text": [
      "      4/100      8.84G      3.205      4.403      3.179         16       1280: 100%|██████████| 11/11 [00:04<00:00,  2.21it/s]\n",
      "                 Class     Images  Instances      Box(P          R      mAP50  mAP50-95): 100%|██████████| 2/2 [00:01<00:00,  1.09it/s]"
     ]
    },
    {
     "name": "stdout",
     "output_type": "stream",
     "text": [
      "                   all         45         45    0.00167      0.489    0.00361    0.00138\n"
     ]
    },
    {
     "name": "stderr",
     "output_type": "stream",
     "text": [
      "\n"
     ]
    },
    {
     "name": "stdout",
     "output_type": "stream",
     "text": [
      "\n",
      "      Epoch    GPU_mem   box_loss   cls_loss   dfl_loss  Instances       Size\n"
     ]
    },
    {
     "name": "stderr",
     "output_type": "stream",
     "text": [
      "      5/100      8.84G      3.092      4.429      3.128         15       1280: 100%|██████████| 11/11 [00:05<00:00,  1.94it/s]\n",
      "                 Class     Images  Instances      Box(P          R      mAP50  mAP50-95): 100%|██████████| 2/2 [00:01<00:00,  1.32it/s]"
     ]
    },
    {
     "name": "stdout",
     "output_type": "stream",
     "text": [
      "                   all         45         45    0.00193      0.467    0.00996    0.00232\n"
     ]
    },
    {
     "name": "stderr",
     "output_type": "stream",
     "text": [
      "\n"
     ]
    },
    {
     "name": "stdout",
     "output_type": "stream",
     "text": [
      "\n",
      "      Epoch    GPU_mem   box_loss   cls_loss   dfl_loss  Instances       Size\n"
     ]
    },
    {
     "name": "stderr",
     "output_type": "stream",
     "text": [
      "      6/100      8.84G      3.192      4.323       3.13         15       1280: 100%|██████████| 11/11 [00:05<00:00,  1.91it/s]\n",
      "                 Class     Images  Instances      Box(P          R      mAP50  mAP50-95): 100%|██████████| 2/2 [00:00<00:00,  2.76it/s]"
     ]
    },
    {
     "name": "stdout",
     "output_type": "stream",
     "text": [
      "                   all         45         45    0.00244      0.444     0.0133    0.00346\n"
     ]
    },
    {
     "name": "stderr",
     "output_type": "stream",
     "text": [
      "\n"
     ]
    },
    {
     "name": "stdout",
     "output_type": "stream",
     "text": [
      "\n",
      "      Epoch    GPU_mem   box_loss   cls_loss   dfl_loss  Instances       Size\n"
     ]
    },
    {
     "name": "stderr",
     "output_type": "stream",
     "text": [
      "      7/100      8.84G      3.021      4.246      3.038         16       1280: 100%|██████████| 11/11 [00:04<00:00,  2.41it/s]\n",
      "                 Class     Images  Instances      Box(P          R      mAP50  mAP50-95): 100%|██████████| 2/2 [00:01<00:00,  1.87it/s]"
     ]
    },
    {
     "name": "stdout",
     "output_type": "stream",
     "text": [
      "                   all         45         45     0.0116      0.267     0.0105    0.00393\n"
     ]
    },
    {
     "name": "stderr",
     "output_type": "stream",
     "text": [
      "\n"
     ]
    },
    {
     "name": "stdout",
     "output_type": "stream",
     "text": [
      "\n",
      "      Epoch    GPU_mem   box_loss   cls_loss   dfl_loss  Instances       Size\n"
     ]
    },
    {
     "name": "stderr",
     "output_type": "stream",
     "text": [
      "      8/100      8.84G      2.918      4.311      2.981         15       1280: 100%|██████████| 11/11 [00:04<00:00,  2.43it/s]\n",
      "                 Class     Images  Instances      Box(P          R      mAP50  mAP50-95): 100%|██████████| 2/2 [00:00<00:00,  2.18it/s]"
     ]
    },
    {
     "name": "stdout",
     "output_type": "stream",
     "text": [
      "                   all         45         45    0.00217        0.6     0.0182    0.00456\n"
     ]
    },
    {
     "name": "stderr",
     "output_type": "stream",
     "text": [
      "\n"
     ]
    },
    {
     "name": "stdout",
     "output_type": "stream",
     "text": [
      "\n",
      "      Epoch    GPU_mem   box_loss   cls_loss   dfl_loss  Instances       Size\n"
     ]
    },
    {
     "name": "stderr",
     "output_type": "stream",
     "text": [
      "      9/100      8.84G      2.897      4.234      2.949         15       1280: 100%|██████████| 11/11 [00:04<00:00,  2.43it/s]\n",
      "                 Class     Images  Instances      Box(P          R      mAP50  mAP50-95): 100%|██████████| 2/2 [00:01<00:00,  1.48it/s]"
     ]
    },
    {
     "name": "stdout",
     "output_type": "stream",
     "text": [
      "                   all         45         45      0.002      0.578     0.0101    0.00325\n"
     ]
    },
    {
     "name": "stderr",
     "output_type": "stream",
     "text": [
      "\n"
     ]
    },
    {
     "name": "stdout",
     "output_type": "stream",
     "text": [
      "\n",
      "      Epoch    GPU_mem   box_loss   cls_loss   dfl_loss  Instances       Size\n"
     ]
    },
    {
     "name": "stderr",
     "output_type": "stream",
     "text": [
      "     10/100      8.84G       2.84      4.132      3.009         16       1280: 100%|██████████| 11/11 [00:04<00:00,  2.41it/s]\n",
      "                 Class     Images  Instances      Box(P          R      mAP50  mAP50-95): 100%|██████████| 2/2 [00:01<00:00,  1.20it/s]"
     ]
    },
    {
     "name": "stdout",
     "output_type": "stream",
     "text": [
      "                   all         45         45    0.00191      0.556    0.00545    0.00124\n"
     ]
    },
    {
     "name": "stderr",
     "output_type": "stream",
     "text": [
      "\n"
     ]
    },
    {
     "name": "stdout",
     "output_type": "stream",
     "text": [
      "\n",
      "      Epoch    GPU_mem   box_loss   cls_loss   dfl_loss  Instances       Size\n"
     ]
    },
    {
     "name": "stderr",
     "output_type": "stream",
     "text": [
      "     11/100      8.84G      2.815      4.051      2.978         16       1280: 100%|██████████| 11/11 [00:04<00:00,  2.41it/s]\n",
      "                 Class     Images  Instances      Box(P          R      mAP50  mAP50-95): 100%|██████████| 2/2 [00:01<00:00,  1.88it/s]"
     ]
    },
    {
     "name": "stdout",
     "output_type": "stream",
     "text": [
      "                   all         45         45     0.0115        0.4     0.0318    0.00705\n"
     ]
    },
    {
     "name": "stderr",
     "output_type": "stream",
     "text": [
      "\n"
     ]
    },
    {
     "name": "stdout",
     "output_type": "stream",
     "text": [
      "\n",
      "      Epoch    GPU_mem   box_loss   cls_loss   dfl_loss  Instances       Size\n"
     ]
    },
    {
     "name": "stderr",
     "output_type": "stream",
     "text": [
      "     12/100      8.84G      2.741      4.099      2.899         16       1280: 100%|██████████| 11/11 [00:04<00:00,  2.42it/s]\n",
      "                 Class     Images  Instances      Box(P          R      mAP50  mAP50-95): 100%|██████████| 2/2 [00:00<00:00,  2.45it/s]"
     ]
    },
    {
     "name": "stdout",
     "output_type": "stream",
     "text": [
      "                   all         45         45    0.00326      0.667     0.0687     0.0123\n"
     ]
    },
    {
     "name": "stderr",
     "output_type": "stream",
     "text": [
      "\n"
     ]
    },
    {
     "name": "stdout",
     "output_type": "stream",
     "text": [
      "\n",
      "      Epoch    GPU_mem   box_loss   cls_loss   dfl_loss  Instances       Size\n"
     ]
    },
    {
     "name": "stderr",
     "output_type": "stream",
     "text": [
      "     13/100      8.84G      2.772      4.055      2.911         15       1280: 100%|██████████| 11/11 [00:04<00:00,  2.42it/s]\n",
      "                 Class     Images  Instances      Box(P          R      mAP50  mAP50-95): 100%|██████████| 2/2 [00:01<00:00,  1.94it/s]"
     ]
    },
    {
     "name": "stdout",
     "output_type": "stream",
     "text": [
      "                   all         45         45    0.00328      0.711       0.04     0.0106\n"
     ]
    },
    {
     "name": "stderr",
     "output_type": "stream",
     "text": [
      "\n"
     ]
    },
    {
     "name": "stdout",
     "output_type": "stream",
     "text": [
      "\n",
      "      Epoch    GPU_mem   box_loss   cls_loss   dfl_loss  Instances       Size\n"
     ]
    },
    {
     "name": "stderr",
     "output_type": "stream",
     "text": [
      "     14/100      8.84G      2.691       3.98      2.886         16       1280: 100%|██████████| 11/11 [00:07<00:00,  1.44it/s]\n",
      "                 Class     Images  Instances      Box(P          R      mAP50  mAP50-95): 100%|██████████| 2/2 [00:01<00:00,  1.70it/s]"
     ]
    },
    {
     "name": "stdout",
     "output_type": "stream",
     "text": [
      "                   all         45         45    0.00303      0.778      0.049     0.0167\n"
     ]
    },
    {
     "name": "stderr",
     "output_type": "stream",
     "text": [
      "\n"
     ]
    },
    {
     "name": "stdout",
     "output_type": "stream",
     "text": [
      "\n",
      "      Epoch    GPU_mem   box_loss   cls_loss   dfl_loss  Instances       Size\n"
     ]
    },
    {
     "name": "stderr",
     "output_type": "stream",
     "text": [
      "     15/100      8.84G      2.533       3.88      2.835         14       1280: 100%|██████████| 11/11 [00:04<00:00,  2.39it/s]\n",
      "                 Class     Images  Instances      Box(P          R      mAP50  mAP50-95): 100%|██████████| 2/2 [00:01<00:00,  1.80it/s]"
     ]
    },
    {
     "name": "stdout",
     "output_type": "stream",
     "text": [
      "                   all         45         45     0.0202        0.6     0.0531     0.0169\n"
     ]
    },
    {
     "name": "stderr",
     "output_type": "stream",
     "text": [
      "\n"
     ]
    },
    {
     "name": "stdout",
     "output_type": "stream",
     "text": [
      "\n",
      "      Epoch    GPU_mem   box_loss   cls_loss   dfl_loss  Instances       Size\n"
     ]
    },
    {
     "name": "stderr",
     "output_type": "stream",
     "text": [
      "     16/100      8.84G      2.437      3.699        2.7         16       1280: 100%|██████████| 11/11 [00:04<00:00,  2.40it/s]\n",
      "                 Class     Images  Instances      Box(P          R      mAP50  mAP50-95): 100%|██████████| 2/2 [00:01<00:00,  1.75it/s]"
     ]
    },
    {
     "name": "stdout",
     "output_type": "stream",
     "text": [
      "                   all         45         45     0.0862      0.267     0.0681     0.0209\n"
     ]
    },
    {
     "name": "stderr",
     "output_type": "stream",
     "text": [
      "\n"
     ]
    },
    {
     "name": "stdout",
     "output_type": "stream",
     "text": [
      "\n",
      "      Epoch    GPU_mem   box_loss   cls_loss   dfl_loss  Instances       Size\n"
     ]
    },
    {
     "name": "stderr",
     "output_type": "stream",
     "text": [
      "     17/100      8.84G      2.511      3.629      2.686         16       1280: 100%|██████████| 11/11 [00:04<00:00,  2.43it/s]\n",
      "                 Class     Images  Instances      Box(P          R      mAP50  mAP50-95): 100%|██████████| 2/2 [00:01<00:00,  1.25it/s]"
     ]
    },
    {
     "name": "stdout",
     "output_type": "stream",
     "text": [
      "                   all         45         45     0.0501      0.333     0.0472     0.0151\n"
     ]
    },
    {
     "name": "stderr",
     "output_type": "stream",
     "text": [
      "\n"
     ]
    },
    {
     "name": "stdout",
     "output_type": "stream",
     "text": [
      "\n",
      "      Epoch    GPU_mem   box_loss   cls_loss   dfl_loss  Instances       Size\n"
     ]
    },
    {
     "name": "stderr",
     "output_type": "stream",
     "text": [
      "     18/100      8.84G       2.46      3.621      2.629         15       1280: 100%|██████████| 11/11 [00:04<00:00,  2.35it/s]\n",
      "                 Class     Images  Instances      Box(P          R      mAP50  mAP50-95): 100%|██████████| 2/2 [00:01<00:00,  1.26it/s]"
     ]
    },
    {
     "name": "stdout",
     "output_type": "stream",
     "text": [
      "                   all         45         45     0.0474      0.467     0.0416     0.0147\n"
     ]
    },
    {
     "name": "stderr",
     "output_type": "stream",
     "text": [
      "\n"
     ]
    },
    {
     "name": "stdout",
     "output_type": "stream",
     "text": [
      "\n",
      "      Epoch    GPU_mem   box_loss   cls_loss   dfl_loss  Instances       Size\n"
     ]
    },
    {
     "name": "stderr",
     "output_type": "stream",
     "text": [
      "     19/100      8.84G      2.461      3.597      2.691         16       1280: 100%|██████████| 11/11 [00:04<00:00,  2.40it/s]\n",
      "                 Class     Images  Instances      Box(P          R      mAP50  mAP50-95): 100%|██████████| 2/2 [00:01<00:00,  1.26it/s]"
     ]
    },
    {
     "name": "stdout",
     "output_type": "stream",
     "text": [
      "                   all         45         45      0.111      0.289     0.0753     0.0219\n"
     ]
    },
    {
     "name": "stderr",
     "output_type": "stream",
     "text": [
      "\n"
     ]
    },
    {
     "name": "stdout",
     "output_type": "stream",
     "text": [
      "\n",
      "      Epoch    GPU_mem   box_loss   cls_loss   dfl_loss  Instances       Size\n"
     ]
    },
    {
     "name": "stderr",
     "output_type": "stream",
     "text": [
      "     20/100      8.84G      2.379      3.512      2.536         16       1280: 100%|██████████| 11/11 [00:04<00:00,  2.41it/s]\n",
      "                 Class     Images  Instances      Box(P          R      mAP50  mAP50-95): 100%|██████████| 2/2 [00:01<00:00,  1.36it/s]"
     ]
    },
    {
     "name": "stdout",
     "output_type": "stream",
     "text": [
      "                   all         45         45     0.0612      0.378     0.0713     0.0272\n"
     ]
    },
    {
     "name": "stderr",
     "output_type": "stream",
     "text": [
      "\n"
     ]
    },
    {
     "name": "stdout",
     "output_type": "stream",
     "text": [
      "\n",
      "      Epoch    GPU_mem   box_loss   cls_loss   dfl_loss  Instances       Size\n"
     ]
    },
    {
     "name": "stderr",
     "output_type": "stream",
     "text": [
      "     21/100      8.84G      2.373      3.463      2.571         16       1280: 100%|██████████| 11/11 [00:04<00:00,  2.43it/s]\n",
      "                 Class     Images  Instances      Box(P          R      mAP50  mAP50-95): 100%|██████████| 2/2 [00:01<00:00,  1.30it/s]"
     ]
    },
    {
     "name": "stdout",
     "output_type": "stream",
     "text": [
      "                   all         45         45     0.0558      0.289     0.0629     0.0221\n"
     ]
    },
    {
     "name": "stderr",
     "output_type": "stream",
     "text": [
      "\n"
     ]
    },
    {
     "name": "stdout",
     "output_type": "stream",
     "text": [
      "\n",
      "      Epoch    GPU_mem   box_loss   cls_loss   dfl_loss  Instances       Size\n"
     ]
    },
    {
     "name": "stderr",
     "output_type": "stream",
     "text": [
      "     22/100      8.84G      2.264      3.523      2.504         16       1280: 100%|██████████| 11/11 [00:04<00:00,  2.43it/s]\n",
      "                 Class     Images  Instances      Box(P          R      mAP50  mAP50-95): 100%|██████████| 2/2 [00:01<00:00,  1.34it/s]"
     ]
    },
    {
     "name": "stdout",
     "output_type": "stream",
     "text": [
      "                   all         45         45     0.0302      0.556     0.0532      0.019\n"
     ]
    },
    {
     "name": "stderr",
     "output_type": "stream",
     "text": [
      "\n"
     ]
    },
    {
     "name": "stdout",
     "output_type": "stream",
     "text": [
      "\n",
      "      Epoch    GPU_mem   box_loss   cls_loss   dfl_loss  Instances       Size\n"
     ]
    },
    {
     "name": "stderr",
     "output_type": "stream",
     "text": [
      "     23/100      8.84G      2.259      3.529      2.521         16       1280: 100%|██████████| 11/11 [00:04<00:00,  2.40it/s]\n",
      "                 Class     Images  Instances      Box(P          R      mAP50  mAP50-95): 100%|██████████| 2/2 [00:01<00:00,  1.39it/s]"
     ]
    },
    {
     "name": "stdout",
     "output_type": "stream",
     "text": [
      "                   all         45         45     0.0241      0.467     0.0455     0.0194\n"
     ]
    },
    {
     "name": "stderr",
     "output_type": "stream",
     "text": [
      "\n"
     ]
    },
    {
     "name": "stdout",
     "output_type": "stream",
     "text": [
      "\n",
      "      Epoch    GPU_mem   box_loss   cls_loss   dfl_loss  Instances       Size\n"
     ]
    },
    {
     "name": "stderr",
     "output_type": "stream",
     "text": [
      "     24/100      8.84G      2.278      3.398      2.498         16       1280: 100%|██████████| 11/11 [00:04<00:00,  2.40it/s]\n",
      "                 Class     Images  Instances      Box(P          R      mAP50  mAP50-95): 100%|██████████| 2/2 [00:01<00:00,  1.54it/s]"
     ]
    },
    {
     "name": "stdout",
     "output_type": "stream",
     "text": [
      "                   all         45         45     0.0307      0.644     0.0964     0.0302\n"
     ]
    },
    {
     "name": "stderr",
     "output_type": "stream",
     "text": [
      "\n"
     ]
    },
    {
     "name": "stdout",
     "output_type": "stream",
     "text": [
      "\n",
      "      Epoch    GPU_mem   box_loss   cls_loss   dfl_loss  Instances       Size\n"
     ]
    },
    {
     "name": "stderr",
     "output_type": "stream",
     "text": [
      "     25/100      8.84G      2.124      3.293      2.366         16       1280: 100%|██████████| 11/11 [00:04<00:00,  2.40it/s]\n",
      "                 Class     Images  Instances      Box(P          R      mAP50  mAP50-95): 100%|██████████| 2/2 [00:01<00:00,  1.84it/s]"
     ]
    },
    {
     "name": "stdout",
     "output_type": "stream",
     "text": [
      "                   all         45         45     0.0697      0.533      0.133     0.0507\n"
     ]
    },
    {
     "name": "stderr",
     "output_type": "stream",
     "text": [
      "\n"
     ]
    },
    {
     "name": "stdout",
     "output_type": "stream",
     "text": [
      "\n",
      "      Epoch    GPU_mem   box_loss   cls_loss   dfl_loss  Instances       Size\n"
     ]
    },
    {
     "name": "stderr",
     "output_type": "stream",
     "text": [
      "     26/100      8.84G      2.224      3.263      2.475         16       1280: 100%|██████████| 11/11 [00:04<00:00,  2.38it/s]\n",
      "                 Class     Images  Instances      Box(P          R      mAP50  mAP50-95): 100%|██████████| 2/2 [00:00<00:00,  2.39it/s]\n"
     ]
    },
    {
     "name": "stdout",
     "output_type": "stream",
     "text": [
      "                   all         45         45      0.156      0.289      0.109     0.0466\n",
      "\n",
      "      Epoch    GPU_mem   box_loss   cls_loss   dfl_loss  Instances       Size\n"
     ]
    },
    {
     "name": "stderr",
     "output_type": "stream",
     "text": [
      "     27/100      8.84G      2.245      3.152      2.411         16       1280: 100%|██████████| 11/11 [00:04<00:00,  2.39it/s]\n",
      "                 Class     Images  Instances      Box(P          R      mAP50  mAP50-95): 100%|██████████| 2/2 [00:00<00:00,  2.89it/s]\n"
     ]
    },
    {
     "name": "stdout",
     "output_type": "stream",
     "text": [
      "                   all         45         45      0.126        0.2      0.104     0.0349\n",
      "\n",
      "      Epoch    GPU_mem   box_loss   cls_loss   dfl_loss  Instances       Size\n"
     ]
    },
    {
     "name": "stderr",
     "output_type": "stream",
     "text": [
      "     28/100      8.84G      2.121      3.091       2.34         16       1280: 100%|██████████| 11/11 [00:04<00:00,  2.39it/s]\n",
      "                 Class     Images  Instances      Box(P          R      mAP50  mAP50-95): 100%|██████████| 2/2 [00:00<00:00,  3.22it/s]"
     ]
    },
    {
     "name": "stdout",
     "output_type": "stream",
     "text": [
      "                   all         45         45     0.0841     0.0889      0.059     0.0176\n"
     ]
    },
    {
     "name": "stderr",
     "output_type": "stream",
     "text": [
      "\n"
     ]
    },
    {
     "name": "stdout",
     "output_type": "stream",
     "text": [
      "\n",
      "      Epoch    GPU_mem   box_loss   cls_loss   dfl_loss  Instances       Size\n"
     ]
    },
    {
     "name": "stderr",
     "output_type": "stream",
     "text": [
      "     29/100      8.84G       2.05      2.999      2.286         16       1280: 100%|██████████| 11/11 [00:04<00:00,  2.46it/s]\n",
      "                 Class     Images  Instances      Box(P          R      mAP50  mAP50-95): 100%|██████████| 2/2 [00:00<00:00,  3.66it/s]"
     ]
    },
    {
     "name": "stdout",
     "output_type": "stream",
     "text": [
      "                   all         45         45      0.282      0.227      0.117      0.037\n"
     ]
    },
    {
     "name": "stderr",
     "output_type": "stream",
     "text": [
      "\n"
     ]
    },
    {
     "name": "stdout",
     "output_type": "stream",
     "text": [
      "\n",
      "      Epoch    GPU_mem   box_loss   cls_loss   dfl_loss  Instances       Size\n"
     ]
    },
    {
     "name": "stderr",
     "output_type": "stream",
     "text": [
      "     30/100      8.84G      2.126      3.074      2.344         16       1280: 100%|██████████| 11/11 [00:04<00:00,  2.45it/s]\n",
      "                 Class     Images  Instances      Box(P          R      mAP50  mAP50-95): 100%|██████████| 2/2 [00:00<00:00,  3.62it/s]"
     ]
    },
    {
     "name": "stdout",
     "output_type": "stream",
     "text": [
      "                   all         45         45      0.267      0.178      0.139     0.0607\n"
     ]
    },
    {
     "name": "stderr",
     "output_type": "stream",
     "text": [
      "\n"
     ]
    },
    {
     "name": "stdout",
     "output_type": "stream",
     "text": [
      "\n",
      "      Epoch    GPU_mem   box_loss   cls_loss   dfl_loss  Instances       Size\n"
     ]
    },
    {
     "name": "stderr",
     "output_type": "stream",
     "text": [
      "     31/100      8.84G      2.005      3.042      2.266         16       1280: 100%|██████████| 11/11 [00:04<00:00,  2.37it/s]\n",
      "                 Class     Images  Instances      Box(P          R      mAP50  mAP50-95): 100%|██████████| 2/2 [00:00<00:00,  2.85it/s]"
     ]
    },
    {
     "name": "stdout",
     "output_type": "stream",
     "text": [
      "                   all         45         45      0.388      0.289      0.219     0.0776\n"
     ]
    },
    {
     "name": "stderr",
     "output_type": "stream",
     "text": [
      "\n"
     ]
    },
    {
     "name": "stdout",
     "output_type": "stream",
     "text": [
      "\n",
      "      Epoch    GPU_mem   box_loss   cls_loss   dfl_loss  Instances       Size\n"
     ]
    },
    {
     "name": "stderr",
     "output_type": "stream",
     "text": [
      "     32/100      8.84G      1.999      3.072      2.246         16       1280: 100%|██████████| 11/11 [00:04<00:00,  2.37it/s]\n",
      "                 Class     Images  Instances      Box(P          R      mAP50  mAP50-95): 100%|██████████| 2/2 [00:00<00:00,  2.87it/s]\n"
     ]
    },
    {
     "name": "stdout",
     "output_type": "stream",
     "text": [
      "                   all         45         45      0.142      0.222      0.115     0.0498\n",
      "\n",
      "      Epoch    GPU_mem   box_loss   cls_loss   dfl_loss  Instances       Size\n"
     ]
    },
    {
     "name": "stderr",
     "output_type": "stream",
     "text": [
      "     33/100      8.84G      2.018      3.011      2.267         16       1280: 100%|██████████| 11/11 [00:04<00:00,  2.39it/s]\n",
      "                 Class     Images  Instances      Box(P          R      mAP50  mAP50-95): 100%|██████████| 2/2 [00:00<00:00,  2.98it/s]\n"
     ]
    },
    {
     "name": "stdout",
     "output_type": "stream",
     "text": [
      "                   all         45         45      0.265      0.289      0.168      0.074\n",
      "\n",
      "      Epoch    GPU_mem   box_loss   cls_loss   dfl_loss  Instances       Size\n"
     ]
    },
    {
     "name": "stderr",
     "output_type": "stream",
     "text": [
      "     34/100      8.84G      1.963      3.047      2.226         15       1280: 100%|██████████| 11/11 [00:04<00:00,  2.40it/s]\n",
      "                 Class     Images  Instances      Box(P          R      mAP50  mAP50-95): 100%|██████████| 2/2 [00:00<00:00,  2.83it/s]\n"
     ]
    },
    {
     "name": "stdout",
     "output_type": "stream",
     "text": [
      "                   all         45         45      0.291      0.356      0.185      0.087\n",
      "\n",
      "      Epoch    GPU_mem   box_loss   cls_loss   dfl_loss  Instances       Size\n"
     ]
    },
    {
     "name": "stderr",
     "output_type": "stream",
     "text": [
      "     35/100      8.84G      1.854       2.94      2.112         15       1280: 100%|██████████| 11/11 [00:04<00:00,  2.40it/s]\n",
      "                 Class     Images  Instances      Box(P          R      mAP50  mAP50-95): 100%|██████████| 2/2 [00:00<00:00,  3.30it/s]"
     ]
    },
    {
     "name": "stdout",
     "output_type": "stream",
     "text": [
      "                   all         45         45      0.264        0.2      0.214      0.086\n"
     ]
    },
    {
     "name": "stderr",
     "output_type": "stream",
     "text": [
      "\n"
     ]
    },
    {
     "name": "stdout",
     "output_type": "stream",
     "text": [
      "\n",
      "      Epoch    GPU_mem   box_loss   cls_loss   dfl_loss  Instances       Size\n"
     ]
    },
    {
     "name": "stderr",
     "output_type": "stream",
     "text": [
      "     36/100      8.84G      1.877      2.867      2.092         16       1280: 100%|██████████| 11/11 [00:04<00:00,  2.40it/s]\n",
      "                 Class     Images  Instances      Box(P          R      mAP50  mAP50-95): 100%|██████████| 2/2 [00:00<00:00,  3.21it/s]\n"
     ]
    },
    {
     "name": "stdout",
     "output_type": "stream",
     "text": [
      "                   all         45         45      0.268      0.267      0.185     0.0569\n",
      "\n",
      "      Epoch    GPU_mem   box_loss   cls_loss   dfl_loss  Instances       Size\n"
     ]
    },
    {
     "name": "stderr",
     "output_type": "stream",
     "text": [
      "     37/100      8.84G      1.828      2.881      2.045         15       1280: 100%|██████████| 11/11 [00:04<00:00,  2.41it/s]\n",
      "                 Class     Images  Instances      Box(P          R      mAP50  mAP50-95): 100%|██████████| 2/2 [00:00<00:00,  3.02it/s]\n"
     ]
    },
    {
     "name": "stdout",
     "output_type": "stream",
     "text": [
      "                   all         45         45      0.366      0.267      0.281      0.083\n",
      "\n",
      "      Epoch    GPU_mem   box_loss   cls_loss   dfl_loss  Instances       Size\n"
     ]
    },
    {
     "name": "stderr",
     "output_type": "stream",
     "text": [
      "     38/100      8.84G      1.881      2.858      2.097         16       1280: 100%|██████████| 11/11 [00:04<00:00,  2.38it/s]\n",
      "                 Class     Images  Instances      Box(P          R      mAP50  mAP50-95): 100%|██████████| 2/2 [00:00<00:00,  2.87it/s]"
     ]
    },
    {
     "name": "stdout",
     "output_type": "stream",
     "text": [
      "                   all         45         45      0.381      0.333      0.286      0.113\n"
     ]
    },
    {
     "name": "stderr",
     "output_type": "stream",
     "text": [
      "\n"
     ]
    },
    {
     "name": "stdout",
     "output_type": "stream",
     "text": [
      "\n",
      "      Epoch    GPU_mem   box_loss   cls_loss   dfl_loss  Instances       Size\n"
     ]
    },
    {
     "name": "stderr",
     "output_type": "stream",
     "text": [
      "     39/100      8.84G      1.869      2.727      2.072         15       1280: 100%|██████████| 11/11 [00:04<00:00,  2.40it/s]\n",
      "                 Class     Images  Instances      Box(P          R      mAP50  mAP50-95): 100%|██████████| 2/2 [00:00<00:00,  3.34it/s]"
     ]
    },
    {
     "name": "stdout",
     "output_type": "stream",
     "text": [
      "                   all         45         45      0.403      0.222      0.209     0.0953\n"
     ]
    },
    {
     "name": "stderr",
     "output_type": "stream",
     "text": [
      "\n"
     ]
    },
    {
     "name": "stdout",
     "output_type": "stream",
     "text": [
      "\n",
      "      Epoch    GPU_mem   box_loss   cls_loss   dfl_loss  Instances       Size\n"
     ]
    },
    {
     "name": "stderr",
     "output_type": "stream",
     "text": [
      "     40/100      8.84G      1.879      2.764      2.052         16       1280: 100%|██████████| 11/11 [00:04<00:00,  2.40it/s]\n",
      "                 Class     Images  Instances      Box(P          R      mAP50  mAP50-95): 100%|██████████| 2/2 [00:00<00:00,  3.30it/s]"
     ]
    },
    {
     "name": "stdout",
     "output_type": "stream",
     "text": [
      "                   all         45         45      0.413      0.156      0.199     0.0922\n"
     ]
    },
    {
     "name": "stderr",
     "output_type": "stream",
     "text": [
      "\n"
     ]
    },
    {
     "name": "stdout",
     "output_type": "stream",
     "text": [
      "\n",
      "      Epoch    GPU_mem   box_loss   cls_loss   dfl_loss  Instances       Size\n"
     ]
    },
    {
     "name": "stderr",
     "output_type": "stream",
     "text": [
      "     41/100      8.84G      1.863      2.728      2.079         15       1280: 100%|██████████| 11/11 [00:04<00:00,  2.40it/s]\n",
      "                 Class     Images  Instances      Box(P          R      mAP50  mAP50-95): 100%|██████████| 2/2 [00:00<00:00,  3.34it/s]"
     ]
    },
    {
     "name": "stdout",
     "output_type": "stream",
     "text": [
      "                   all         45         45      0.425      0.181      0.201     0.0865\n"
     ]
    },
    {
     "name": "stderr",
     "output_type": "stream",
     "text": [
      "\n"
     ]
    },
    {
     "name": "stdout",
     "output_type": "stream",
     "text": [
      "\n",
      "      Epoch    GPU_mem   box_loss   cls_loss   dfl_loss  Instances       Size\n"
     ]
    },
    {
     "name": "stderr",
     "output_type": "stream",
     "text": [
      "     42/100      8.84G      1.796      2.675      2.001         15       1280: 100%|██████████| 11/11 [00:04<00:00,  2.37it/s]\n",
      "                 Class     Images  Instances      Box(P          R      mAP50  mAP50-95): 100%|██████████| 2/2 [00:00<00:00,  3.26it/s]"
     ]
    },
    {
     "name": "stdout",
     "output_type": "stream",
     "text": [
      "                   all         45         45      0.386      0.333      0.256      0.101\n"
     ]
    },
    {
     "name": "stderr",
     "output_type": "stream",
     "text": [
      "\n"
     ]
    },
    {
     "name": "stdout",
     "output_type": "stream",
     "text": [
      "\n",
      "      Epoch    GPU_mem   box_loss   cls_loss   dfl_loss  Instances       Size\n"
     ]
    },
    {
     "name": "stderr",
     "output_type": "stream",
     "text": [
      "     43/100      8.84G      1.797      2.718      2.061         16       1280: 100%|██████████| 11/11 [00:04<00:00,  2.40it/s]\n",
      "                 Class     Images  Instances      Box(P          R      mAP50  mAP50-95): 100%|██████████| 2/2 [00:00<00:00,  3.26it/s]\n"
     ]
    },
    {
     "name": "stdout",
     "output_type": "stream",
     "text": [
      "                   all         45         45      0.512      0.356      0.282      0.112\n",
      "\n",
      "      Epoch    GPU_mem   box_loss   cls_loss   dfl_loss  Instances       Size\n"
     ]
    },
    {
     "name": "stderr",
     "output_type": "stream",
     "text": [
      "     44/100      8.84G       1.79      2.729      2.017         15       1280: 100%|██████████| 11/11 [00:04<00:00,  2.39it/s]\n",
      "                 Class     Images  Instances      Box(P          R      mAP50  mAP50-95): 100%|██████████| 2/2 [00:00<00:00,  3.30it/s]\n"
     ]
    },
    {
     "name": "stdout",
     "output_type": "stream",
     "text": [
      "                   all         45         45      0.493      0.324      0.313      0.126\n",
      "\n",
      "      Epoch    GPU_mem   box_loss   cls_loss   dfl_loss  Instances       Size\n"
     ]
    },
    {
     "name": "stderr",
     "output_type": "stream",
     "text": [
      "     45/100      8.84G      1.791      2.689      2.029         15       1280: 100%|██████████| 11/11 [00:04<00:00,  2.39it/s]\n",
      "                 Class     Images  Instances      Box(P          R      mAP50  mAP50-95): 100%|██████████| 2/2 [00:00<00:00,  3.60it/s]"
     ]
    },
    {
     "name": "stdout",
     "output_type": "stream",
     "text": [
      "                   all         45         45      0.409      0.354      0.283      0.126\n"
     ]
    },
    {
     "name": "stderr",
     "output_type": "stream",
     "text": [
      "\n"
     ]
    },
    {
     "name": "stdout",
     "output_type": "stream",
     "text": [
      "\n",
      "      Epoch    GPU_mem   box_loss   cls_loss   dfl_loss  Instances       Size\n"
     ]
    },
    {
     "name": "stderr",
     "output_type": "stream",
     "text": [
      "     46/100      8.84G       1.77      2.598      1.965         16       1280: 100%|██████████| 11/11 [00:04<00:00,  2.38it/s]\n",
      "                 Class     Images  Instances      Box(P          R      mAP50  mAP50-95): 100%|██████████| 2/2 [00:00<00:00,  3.13it/s]"
     ]
    },
    {
     "name": "stdout",
     "output_type": "stream",
     "text": [
      "                   all         45         45      0.546      0.267      0.289      0.138\n"
     ]
    },
    {
     "name": "stderr",
     "output_type": "stream",
     "text": [
      "\n"
     ]
    },
    {
     "name": "stdout",
     "output_type": "stream",
     "text": [
      "\n",
      "      Epoch    GPU_mem   box_loss   cls_loss   dfl_loss  Instances       Size\n"
     ]
    },
    {
     "name": "stderr",
     "output_type": "stream",
     "text": [
      "     47/100      8.84G      1.822      2.596      2.028         16       1280: 100%|██████████| 11/11 [00:04<00:00,  2.38it/s]\n",
      "                 Class     Images  Instances      Box(P          R      mAP50  mAP50-95): 100%|██████████| 2/2 [00:00<00:00,  2.89it/s]"
     ]
    },
    {
     "name": "stdout",
     "output_type": "stream",
     "text": [
      "                   all         45         45      0.552      0.289      0.267      0.124\n"
     ]
    },
    {
     "name": "stderr",
     "output_type": "stream",
     "text": [
      "\n"
     ]
    },
    {
     "name": "stdout",
     "output_type": "stream",
     "text": [
      "\n",
      "      Epoch    GPU_mem   box_loss   cls_loss   dfl_loss  Instances       Size\n"
     ]
    },
    {
     "name": "stderr",
     "output_type": "stream",
     "text": [
      "     48/100      8.84G      1.747      2.509      1.954         15       1280: 100%|██████████| 11/11 [00:04<00:00,  2.37it/s]\n",
      "                 Class     Images  Instances      Box(P          R      mAP50  mAP50-95): 100%|██████████| 2/2 [00:00<00:00,  3.24it/s]\n"
     ]
    },
    {
     "name": "stdout",
     "output_type": "stream",
     "text": [
      "                   all         45         45      0.296      0.309      0.233     0.0981\n",
      "\n",
      "      Epoch    GPU_mem   box_loss   cls_loss   dfl_loss  Instances       Size\n"
     ]
    },
    {
     "name": "stderr",
     "output_type": "stream",
     "text": [
      "     49/100      8.84G      1.805      2.682       2.02         16       1280: 100%|██████████| 11/11 [00:04<00:00,  2.41it/s]\n",
      "                 Class     Images  Instances      Box(P          R      mAP50  mAP50-95): 100%|██████████| 2/2 [00:00<00:00,  3.31it/s]"
     ]
    },
    {
     "name": "stdout",
     "output_type": "stream",
     "text": [
      "                   all         45         45      0.164      0.378      0.107     0.0525\n"
     ]
    },
    {
     "name": "stderr",
     "output_type": "stream",
     "text": [
      "\n"
     ]
    },
    {
     "name": "stdout",
     "output_type": "stream",
     "text": [
      "\n",
      "      Epoch    GPU_mem   box_loss   cls_loss   dfl_loss  Instances       Size\n"
     ]
    },
    {
     "name": "stderr",
     "output_type": "stream",
     "text": [
      "     50/100      8.84G      1.704      2.548      1.912         16       1280: 100%|██████████| 11/11 [00:04<00:00,  2.35it/s]\n",
      "                 Class     Images  Instances      Box(P          R      mAP50  mAP50-95): 100%|██████████| 2/2 [00:00<00:00,  3.24it/s]"
     ]
    },
    {
     "name": "stdout",
     "output_type": "stream",
     "text": [
      "                   all         45         45      0.292      0.357      0.185     0.0838\n"
     ]
    },
    {
     "name": "stderr",
     "output_type": "stream",
     "text": [
      "\n"
     ]
    },
    {
     "name": "stdout",
     "output_type": "stream",
     "text": [
      "\n",
      "      Epoch    GPU_mem   box_loss   cls_loss   dfl_loss  Instances       Size\n"
     ]
    },
    {
     "name": "stderr",
     "output_type": "stream",
     "text": [
      "     51/100      8.84G      1.726      2.511      1.913         16       1280: 100%|██████████| 11/11 [00:04<00:00,  2.38it/s]\n",
      "                 Class     Images  Instances      Box(P          R      mAP50  mAP50-95): 100%|██████████| 2/2 [00:00<00:00,  3.30it/s]"
     ]
    },
    {
     "name": "stdout",
     "output_type": "stream",
     "text": [
      "                   all         45         45      0.117      0.311     0.0926     0.0434\n"
     ]
    },
    {
     "name": "stderr",
     "output_type": "stream",
     "text": [
      "\n"
     ]
    },
    {
     "name": "stdout",
     "output_type": "stream",
     "text": [
      "\n",
      "      Epoch    GPU_mem   box_loss   cls_loss   dfl_loss  Instances       Size\n"
     ]
    },
    {
     "name": "stderr",
     "output_type": "stream",
     "text": [
      "     52/100      8.84G      1.658      2.385      1.887         16       1280: 100%|██████████| 11/11 [00:04<00:00,  2.37it/s]\n",
      "                 Class     Images  Instances      Box(P          R      mAP50  mAP50-95): 100%|██████████| 2/2 [00:00<00:00,  3.31it/s]"
     ]
    },
    {
     "name": "stdout",
     "output_type": "stream",
     "text": [
      "                   all         45         45     0.0964      0.311     0.0743     0.0326\n"
     ]
    },
    {
     "name": "stderr",
     "output_type": "stream",
     "text": [
      "\n"
     ]
    },
    {
     "name": "stdout",
     "output_type": "stream",
     "text": [
      "\n",
      "      Epoch    GPU_mem   box_loss   cls_loss   dfl_loss  Instances       Size\n"
     ]
    },
    {
     "name": "stderr",
     "output_type": "stream",
     "text": [
      "     53/100      8.84G       1.58      2.323      1.845         16       1280: 100%|██████████| 11/11 [00:04<00:00,  2.39it/s]\n",
      "                 Class     Images  Instances      Box(P          R      mAP50  mAP50-95): 100%|██████████| 2/2 [00:00<00:00,  3.29it/s]"
     ]
    },
    {
     "name": "stdout",
     "output_type": "stream",
     "text": [
      "                   all         45         45      0.257      0.311      0.143     0.0675\n"
     ]
    },
    {
     "name": "stderr",
     "output_type": "stream",
     "text": [
      "\n"
     ]
    },
    {
     "name": "stdout",
     "output_type": "stream",
     "text": [
      "\n",
      "      Epoch    GPU_mem   box_loss   cls_loss   dfl_loss  Instances       Size\n"
     ]
    },
    {
     "name": "stderr",
     "output_type": "stream",
     "text": [
      "     54/100      8.84G      1.591      2.338      1.808         15       1280: 100%|██████████| 11/11 [00:04<00:00,  2.38it/s]\n",
      "                 Class     Images  Instances      Box(P          R      mAP50  mAP50-95): 100%|██████████| 2/2 [00:00<00:00,  3.37it/s]"
     ]
    },
    {
     "name": "stdout",
     "output_type": "stream",
     "text": [
      "                   all         45         45      0.185      0.244      0.157     0.0816\n"
     ]
    },
    {
     "name": "stderr",
     "output_type": "stream",
     "text": [
      "\n"
     ]
    },
    {
     "name": "stdout",
     "output_type": "stream",
     "text": [
      "\n",
      "      Epoch    GPU_mem   box_loss   cls_loss   dfl_loss  Instances       Size\n"
     ]
    },
    {
     "name": "stderr",
     "output_type": "stream",
     "text": [
      "     55/100      8.84G      1.684      2.377      1.863         15       1280: 100%|██████████| 11/11 [00:04<00:00,  2.40it/s]\n",
      "                 Class     Images  Instances      Box(P          R      mAP50  mAP50-95): 100%|██████████| 2/2 [00:00<00:00,  3.30it/s]"
     ]
    },
    {
     "name": "stdout",
     "output_type": "stream",
     "text": [
      "                   all         45         45      0.175        0.2      0.167     0.0885\n"
     ]
    },
    {
     "name": "stderr",
     "output_type": "stream",
     "text": [
      "\n"
     ]
    },
    {
     "name": "stdout",
     "output_type": "stream",
     "text": [
      "\n",
      "      Epoch    GPU_mem   box_loss   cls_loss   dfl_loss  Instances       Size\n"
     ]
    },
    {
     "name": "stderr",
     "output_type": "stream",
     "text": [
      "     56/100      8.84G      1.596      2.294      1.798         16       1280: 100%|██████████| 11/11 [00:04<00:00,  2.37it/s]\n",
      "                 Class     Images  Instances      Box(P          R      mAP50  mAP50-95): 100%|██████████| 2/2 [00:00<00:00,  3.24it/s]"
     ]
    },
    {
     "name": "stdout",
     "output_type": "stream",
     "text": [
      "                   all         45         45      0.402      0.222      0.198     0.0919\n"
     ]
    },
    {
     "name": "stderr",
     "output_type": "stream",
     "text": [
      "\n"
     ]
    },
    {
     "name": "stdout",
     "output_type": "stream",
     "text": [
      "\n",
      "      Epoch    GPU_mem   box_loss   cls_loss   dfl_loss  Instances       Size\n"
     ]
    },
    {
     "name": "stderr",
     "output_type": "stream",
     "text": [
      "     57/100      8.84G      1.632      2.309      1.836         16       1280: 100%|██████████| 11/11 [00:04<00:00,  2.39it/s]\n",
      "                 Class     Images  Instances      Box(P          R      mAP50  mAP50-95): 100%|██████████| 2/2 [00:00<00:00,  3.25it/s]"
     ]
    },
    {
     "name": "stdout",
     "output_type": "stream",
     "text": [
      "                   all         45         45      0.185      0.311      0.137     0.0566\n"
     ]
    },
    {
     "name": "stderr",
     "output_type": "stream",
     "text": [
      "\n"
     ]
    },
    {
     "name": "stdout",
     "output_type": "stream",
     "text": [
      "\n",
      "      Epoch    GPU_mem   box_loss   cls_loss   dfl_loss  Instances       Size\n"
     ]
    },
    {
     "name": "stderr",
     "output_type": "stream",
     "text": [
      "     58/100      8.84G      1.692      2.395      1.852         15       1280: 100%|██████████| 11/11 [00:04<00:00,  2.39it/s]\n",
      "                 Class     Images  Instances      Box(P          R      mAP50  mAP50-95): 100%|██████████| 2/2 [00:00<00:00,  3.26it/s]"
     ]
    },
    {
     "name": "stdout",
     "output_type": "stream",
     "text": [
      "                   all         45         45      0.295      0.333      0.202     0.0972\n"
     ]
    },
    {
     "name": "stderr",
     "output_type": "stream",
     "text": [
      "\n"
     ]
    },
    {
     "name": "stdout",
     "output_type": "stream",
     "text": [
      "\n",
      "      Epoch    GPU_mem   box_loss   cls_loss   dfl_loss  Instances       Size\n"
     ]
    },
    {
     "name": "stderr",
     "output_type": "stream",
     "text": [
      "     59/100      8.84G      1.602      2.321      1.773         16       1280: 100%|██████████| 11/11 [00:04<00:00,  2.39it/s]\n",
      "                 Class     Images  Instances      Box(P          R      mAP50  mAP50-95): 100%|██████████| 2/2 [00:00<00:00,  3.30it/s]\n"
     ]
    },
    {
     "name": "stdout",
     "output_type": "stream",
     "text": [
      "                   all         45         45      0.437      0.356      0.278       0.12\n",
      "\n",
      "      Epoch    GPU_mem   box_loss   cls_loss   dfl_loss  Instances       Size\n"
     ]
    },
    {
     "name": "stderr",
     "output_type": "stream",
     "text": [
      "     60/100      8.84G       1.58      2.225      1.811         16       1280: 100%|██████████| 11/11 [00:04<00:00,  2.37it/s]\n",
      "                 Class     Images  Instances      Box(P          R      mAP50  mAP50-95): 100%|██████████| 2/2 [00:00<00:00,  3.24it/s]"
     ]
    },
    {
     "name": "stdout",
     "output_type": "stream",
     "text": [
      "                   all         45         45      0.228      0.356      0.236      0.126\n"
     ]
    },
    {
     "name": "stderr",
     "output_type": "stream",
     "text": [
      "\n"
     ]
    },
    {
     "name": "stdout",
     "output_type": "stream",
     "text": [
      "\n",
      "      Epoch    GPU_mem   box_loss   cls_loss   dfl_loss  Instances       Size\n"
     ]
    },
    {
     "name": "stderr",
     "output_type": "stream",
     "text": [
      "     61/100      8.84G      1.627       2.33      1.886         14       1280: 100%|██████████| 11/11 [00:04<00:00,  2.40it/s]\n",
      "                 Class     Images  Instances      Box(P          R      mAP50  mAP50-95): 100%|██████████| 2/2 [00:00<00:00,  3.27it/s]"
     ]
    },
    {
     "name": "stdout",
     "output_type": "stream",
     "text": [
      "                   all         45         45      0.281      0.378      0.247      0.128\n"
     ]
    },
    {
     "name": "stderr",
     "output_type": "stream",
     "text": [
      "\n"
     ]
    },
    {
     "name": "stdout",
     "output_type": "stream",
     "text": [
      "\n",
      "      Epoch    GPU_mem   box_loss   cls_loss   dfl_loss  Instances       Size\n"
     ]
    },
    {
     "name": "stderr",
     "output_type": "stream",
     "text": [
      "     62/100      8.84G      1.554       2.25      1.852         16       1280: 100%|██████████| 11/11 [00:04<00:00,  2.37it/s]\n",
      "                 Class     Images  Instances      Box(P          R      mAP50  mAP50-95): 100%|██████████| 2/2 [00:00<00:00,  3.23it/s]"
     ]
    },
    {
     "name": "stdout",
     "output_type": "stream",
     "text": [
      "                   all         45         45      0.495      0.356      0.311       0.14\n"
     ]
    },
    {
     "name": "stderr",
     "output_type": "stream",
     "text": [
      "\n"
     ]
    },
    {
     "name": "stdout",
     "output_type": "stream",
     "text": [
      "\n",
      "      Epoch    GPU_mem   box_loss   cls_loss   dfl_loss  Instances       Size\n"
     ]
    },
    {
     "name": "stderr",
     "output_type": "stream",
     "text": [
      "     63/100      8.84G      1.634      2.234      1.865         16       1280: 100%|██████████| 11/11 [00:04<00:00,  2.38it/s]\n",
      "                 Class     Images  Instances      Box(P          R      mAP50  mAP50-95): 100%|██████████| 2/2 [00:00<00:00,  3.19it/s]"
     ]
    },
    {
     "name": "stdout",
     "output_type": "stream",
     "text": [
      "                   all         45         45      0.395      0.364      0.312      0.133\n"
     ]
    },
    {
     "name": "stderr",
     "output_type": "stream",
     "text": [
      "\n"
     ]
    },
    {
     "name": "stdout",
     "output_type": "stream",
     "text": [
      "\n",
      "      Epoch    GPU_mem   box_loss   cls_loss   dfl_loss  Instances       Size\n"
     ]
    },
    {
     "name": "stderr",
     "output_type": "stream",
     "text": [
      "     64/100      8.84G      1.542      2.161      1.783         16       1280: 100%|██████████| 11/11 [00:04<00:00,  2.36it/s]\n",
      "                 Class     Images  Instances      Box(P          R      mAP50  mAP50-95): 100%|██████████| 2/2 [00:00<00:00,  3.24it/s]"
     ]
    },
    {
     "name": "stdout",
     "output_type": "stream",
     "text": [
      "                   all         45         45       0.38      0.311      0.227     0.0953\n"
     ]
    },
    {
     "name": "stderr",
     "output_type": "stream",
     "text": [
      "\n"
     ]
    },
    {
     "name": "stdout",
     "output_type": "stream",
     "text": [
      "\n",
      "      Epoch    GPU_mem   box_loss   cls_loss   dfl_loss  Instances       Size\n"
     ]
    },
    {
     "name": "stderr",
     "output_type": "stream",
     "text": [
      "     65/100      8.84G      1.576      2.254      1.824         16       1280: 100%|██████████| 11/11 [00:04<00:00,  2.39it/s]\n",
      "                 Class     Images  Instances      Box(P          R      mAP50  mAP50-95): 100%|██████████| 2/2 [00:00<00:00,  3.29it/s]"
     ]
    },
    {
     "name": "stdout",
     "output_type": "stream",
     "text": [
      "                   all         45         45      0.455      0.311      0.261      0.114\n"
     ]
    },
    {
     "name": "stderr",
     "output_type": "stream",
     "text": [
      "\n"
     ]
    },
    {
     "name": "stdout",
     "output_type": "stream",
     "text": [
      "\n",
      "      Epoch    GPU_mem   box_loss   cls_loss   dfl_loss  Instances       Size\n"
     ]
    },
    {
     "name": "stderr",
     "output_type": "stream",
     "text": [
      "     66/100      8.84G      1.568      2.171      1.831         16       1280: 100%|██████████| 11/11 [00:04<00:00,  2.38it/s]\n",
      "                 Class     Images  Instances      Box(P          R      mAP50  mAP50-95): 100%|██████████| 2/2 [00:00<00:00,  3.27it/s]"
     ]
    },
    {
     "name": "stdout",
     "output_type": "stream",
     "text": [
      "                   all         45         45      0.446      0.311      0.255       0.12\n"
     ]
    },
    {
     "name": "stderr",
     "output_type": "stream",
     "text": [
      "\n"
     ]
    },
    {
     "name": "stdout",
     "output_type": "stream",
     "text": [
      "\n",
      "      Epoch    GPU_mem   box_loss   cls_loss   dfl_loss  Instances       Size\n"
     ]
    },
    {
     "name": "stderr",
     "output_type": "stream",
     "text": [
      "     67/100      8.84G      1.578      2.133      1.825         16       1280: 100%|██████████| 11/11 [00:04<00:00,  2.38it/s]\n",
      "                 Class     Images  Instances      Box(P          R      mAP50  mAP50-95): 100%|██████████| 2/2 [00:00<00:00,  3.29it/s]"
     ]
    },
    {
     "name": "stdout",
     "output_type": "stream",
     "text": [
      "                   all         45         45      0.272        0.4      0.201     0.0908\n"
     ]
    },
    {
     "name": "stderr",
     "output_type": "stream",
     "text": [
      "\n"
     ]
    },
    {
     "name": "stdout",
     "output_type": "stream",
     "text": [
      "\n",
      "      Epoch    GPU_mem   box_loss   cls_loss   dfl_loss  Instances       Size\n"
     ]
    },
    {
     "name": "stderr",
     "output_type": "stream",
     "text": [
      "     68/100      8.84G      1.494      2.082      1.721         16       1280: 100%|██████████| 11/11 [00:04<00:00,  2.38it/s]\n",
      "                 Class     Images  Instances      Box(P          R      mAP50  mAP50-95): 100%|██████████| 2/2 [00:00<00:00,  3.29it/s]"
     ]
    },
    {
     "name": "stdout",
     "output_type": "stream",
     "text": [
      "                   all         45         45      0.248      0.389       0.18     0.0817\n"
     ]
    },
    {
     "name": "stderr",
     "output_type": "stream",
     "text": [
      "\n"
     ]
    },
    {
     "name": "stdout",
     "output_type": "stream",
     "text": [
      "\n",
      "      Epoch    GPU_mem   box_loss   cls_loss   dfl_loss  Instances       Size\n"
     ]
    },
    {
     "name": "stderr",
     "output_type": "stream",
     "text": [
      "     69/100      8.84G      1.543      2.225      1.787         16       1280: 100%|██████████| 11/11 [00:04<00:00,  2.39it/s]\n",
      "                 Class     Images  Instances      Box(P          R      mAP50  mAP50-95): 100%|██████████| 2/2 [00:00<00:00,  3.32it/s]"
     ]
    },
    {
     "name": "stdout",
     "output_type": "stream",
     "text": [
      "                   all         45         45      0.268      0.378      0.199      0.103\n"
     ]
    },
    {
     "name": "stderr",
     "output_type": "stream",
     "text": [
      "\n"
     ]
    },
    {
     "name": "stdout",
     "output_type": "stream",
     "text": [
      "\n",
      "      Epoch    GPU_mem   box_loss   cls_loss   dfl_loss  Instances       Size\n"
     ]
    },
    {
     "name": "stderr",
     "output_type": "stream",
     "text": [
      "     70/100      8.84G      1.497      2.156      1.758         15       1280: 100%|██████████| 11/11 [00:04<00:00,  2.38it/s]\n",
      "                 Class     Images  Instances      Box(P          R      mAP50  mAP50-95): 100%|██████████| 2/2 [00:00<00:00,  3.24it/s]"
     ]
    },
    {
     "name": "stdout",
     "output_type": "stream",
     "text": [
      "                   all         45         45      0.264      0.378      0.201     0.0945\n"
     ]
    },
    {
     "name": "stderr",
     "output_type": "stream",
     "text": [
      "\n"
     ]
    },
    {
     "name": "stdout",
     "output_type": "stream",
     "text": [
      "\n",
      "      Epoch    GPU_mem   box_loss   cls_loss   dfl_loss  Instances       Size\n"
     ]
    },
    {
     "name": "stderr",
     "output_type": "stream",
     "text": [
      "     71/100      8.84G      1.494      2.094      1.715         15       1280: 100%|██████████| 11/11 [00:04<00:00,  2.37it/s]\n",
      "                 Class     Images  Instances      Box(P          R      mAP50  mAP50-95): 100%|██████████| 2/2 [00:00<00:00,  3.34it/s]"
     ]
    },
    {
     "name": "stdout",
     "output_type": "stream",
     "text": [
      "                   all         45         45      0.262      0.422      0.239     0.0971\n"
     ]
    },
    {
     "name": "stderr",
     "output_type": "stream",
     "text": [
      "\n"
     ]
    },
    {
     "name": "stdout",
     "output_type": "stream",
     "text": [
      "\n",
      "      Epoch    GPU_mem   box_loss   cls_loss   dfl_loss  Instances       Size\n"
     ]
    },
    {
     "name": "stderr",
     "output_type": "stream",
     "text": [
      "     72/100      8.84G      1.464      1.996      1.712         16       1280: 100%|██████████| 11/11 [00:04<00:00,  2.38it/s]\n",
      "                 Class     Images  Instances      Box(P          R      mAP50  mAP50-95): 100%|██████████| 2/2 [00:00<00:00,  3.30it/s]"
     ]
    },
    {
     "name": "stdout",
     "output_type": "stream",
     "text": [
      "                   all         45         45      0.285      0.267       0.22      0.107\n"
     ]
    },
    {
     "name": "stderr",
     "output_type": "stream",
     "text": [
      "\n"
     ]
    },
    {
     "name": "stdout",
     "output_type": "stream",
     "text": [
      "\n",
      "      Epoch    GPU_mem   box_loss   cls_loss   dfl_loss  Instances       Size\n"
     ]
    },
    {
     "name": "stderr",
     "output_type": "stream",
     "text": [
      "     73/100      8.84G      1.502      2.038       1.71         16       1280: 100%|██████████| 11/11 [00:04<00:00,  2.38it/s]\n",
      "                 Class     Images  Instances      Box(P          R      mAP50  mAP50-95): 100%|██████████| 2/2 [00:00<00:00,  3.21it/s]"
     ]
    },
    {
     "name": "stdout",
     "output_type": "stream",
     "text": [
      "                   all         45         45      0.235      0.511      0.222     0.0994\n"
     ]
    },
    {
     "name": "stderr",
     "output_type": "stream",
     "text": [
      "\n"
     ]
    },
    {
     "name": "stdout",
     "output_type": "stream",
     "text": [
      "\n",
      "      Epoch    GPU_mem   box_loss   cls_loss   dfl_loss  Instances       Size\n"
     ]
    },
    {
     "name": "stderr",
     "output_type": "stream",
     "text": [
      "     74/100      8.84G      1.474      2.082      1.684         14       1280: 100%|██████████| 11/11 [00:04<00:00,  2.37it/s]\n",
      "                 Class     Images  Instances      Box(P          R      mAP50  mAP50-95): 100%|██████████| 2/2 [00:00<00:00,  3.25it/s]"
     ]
    },
    {
     "name": "stdout",
     "output_type": "stream",
     "text": [
      "                   all         45         45      0.273      0.311      0.204     0.0861\n"
     ]
    },
    {
     "name": "stderr",
     "output_type": "stream",
     "text": [
      "\n"
     ]
    },
    {
     "name": "stdout",
     "output_type": "stream",
     "text": [
      "\n",
      "      Epoch    GPU_mem   box_loss   cls_loss   dfl_loss  Instances       Size\n"
     ]
    },
    {
     "name": "stderr",
     "output_type": "stream",
     "text": [
      "     75/100      8.84G      1.419      2.027      1.658         16       1280: 100%|██████████| 11/11 [00:04<00:00,  2.37it/s]\n",
      "                 Class     Images  Instances      Box(P          R      mAP50  mAP50-95): 100%|██████████| 2/2 [00:00<00:00,  3.22it/s]\n"
     ]
    },
    {
     "name": "stdout",
     "output_type": "stream",
     "text": [
      "                   all         45         45      0.361      0.377      0.244      0.112\n",
      "\n",
      "      Epoch    GPU_mem   box_loss   cls_loss   dfl_loss  Instances       Size\n"
     ]
    },
    {
     "name": "stderr",
     "output_type": "stream",
     "text": [
      "     76/100      8.84G      1.437      2.011      1.673         16       1280: 100%|██████████| 11/11 [00:04<00:00,  2.39it/s]\n",
      "                 Class     Images  Instances      Box(P          R      mAP50  mAP50-95): 100%|██████████| 2/2 [00:00<00:00,  3.32it/s]"
     ]
    },
    {
     "name": "stdout",
     "output_type": "stream",
     "text": [
      "                   all         45         45       0.24      0.378      0.182     0.0905\n"
     ]
    },
    {
     "name": "stderr",
     "output_type": "stream",
     "text": [
      "\n"
     ]
    },
    {
     "name": "stdout",
     "output_type": "stream",
     "text": [
      "\n",
      "      Epoch    GPU_mem   box_loss   cls_loss   dfl_loss  Instances       Size\n"
     ]
    },
    {
     "name": "stderr",
     "output_type": "stream",
     "text": [
      "     77/100      8.84G      1.467       1.99      1.701         16       1280: 100%|██████████| 11/11 [00:04<00:00,  2.39it/s]\n",
      "                 Class     Images  Instances      Box(P          R      mAP50  mAP50-95): 100%|██████████| 2/2 [00:00<00:00,  3.34it/s]"
     ]
    },
    {
     "name": "stdout",
     "output_type": "stream",
     "text": [
      "                   all         45         45      0.202        0.4      0.179     0.0866\n"
     ]
    },
    {
     "name": "stderr",
     "output_type": "stream",
     "text": [
      "\n"
     ]
    },
    {
     "name": "stdout",
     "output_type": "stream",
     "text": [
      "\n",
      "      Epoch    GPU_mem   box_loss   cls_loss   dfl_loss  Instances       Size\n"
     ]
    },
    {
     "name": "stderr",
     "output_type": "stream",
     "text": [
      "     78/100      8.84G      1.473      1.914      1.748         15       1280: 100%|██████████| 11/11 [00:04<00:00,  2.38it/s]\n",
      "                 Class     Images  Instances      Box(P          R      mAP50  mAP50-95): 100%|██████████| 2/2 [00:00<00:00,  3.27it/s]"
     ]
    },
    {
     "name": "stdout",
     "output_type": "stream",
     "text": [
      "                   all         45         45      0.214      0.467      0.154     0.0725\n"
     ]
    },
    {
     "name": "stderr",
     "output_type": "stream",
     "text": [
      "\n"
     ]
    },
    {
     "name": "stdout",
     "output_type": "stream",
     "text": [
      "\n",
      "      Epoch    GPU_mem   box_loss   cls_loss   dfl_loss  Instances       Size\n"
     ]
    },
    {
     "name": "stderr",
     "output_type": "stream",
     "text": [
      "     79/100      8.84G      1.464      2.092      1.712         16       1280: 100%|██████████| 11/11 [00:04<00:00,  2.38it/s]\n",
      "                 Class     Images  Instances      Box(P          R      mAP50  mAP50-95): 100%|██████████| 2/2 [00:00<00:00,  3.24it/s]"
     ]
    },
    {
     "name": "stdout",
     "output_type": "stream",
     "text": [
      "                   all         45         45      0.178        0.4      0.119     0.0573\n"
     ]
    },
    {
     "name": "stderr",
     "output_type": "stream",
     "text": [
      "\n"
     ]
    },
    {
     "name": "stdout",
     "output_type": "stream",
     "text": [
      "\n",
      "      Epoch    GPU_mem   box_loss   cls_loss   dfl_loss  Instances       Size\n"
     ]
    },
    {
     "name": "stderr",
     "output_type": "stream",
     "text": [
      "     80/100      8.84G      1.434      1.952       1.68         16       1280: 100%|██████████| 11/11 [00:04<00:00,  2.37it/s]\n",
      "                 Class     Images  Instances      Box(P          R      mAP50  mAP50-95): 100%|██████████| 2/2 [00:00<00:00,  3.24it/s]"
     ]
    },
    {
     "name": "stdout",
     "output_type": "stream",
     "text": [
      "                   all         45         45      0.145      0.333      0.106     0.0489\n"
     ]
    },
    {
     "name": "stderr",
     "output_type": "stream",
     "text": [
      "\n"
     ]
    },
    {
     "name": "stdout",
     "output_type": "stream",
     "text": [
      "\n",
      "      Epoch    GPU_mem   box_loss   cls_loss   dfl_loss  Instances       Size\n"
     ]
    },
    {
     "name": "stderr",
     "output_type": "stream",
     "text": [
      "     81/100      8.84G      1.498      1.992      1.728         16       1280: 100%|██████████| 11/11 [00:04<00:00,  2.39it/s]\n",
      "                 Class     Images  Instances      Box(P          R      mAP50  mAP50-95): 100%|██████████| 2/2 [00:00<00:00,  3.23it/s]"
     ]
    },
    {
     "name": "stdout",
     "output_type": "stream",
     "text": [
      "                   all         45         45      0.181      0.311      0.111     0.0521\n"
     ]
    },
    {
     "name": "stderr",
     "output_type": "stream",
     "text": [
      "\n"
     ]
    },
    {
     "name": "stdout",
     "output_type": "stream",
     "text": [
      "\n",
      "      Epoch    GPU_mem   box_loss   cls_loss   dfl_loss  Instances       Size\n"
     ]
    },
    {
     "name": "stderr",
     "output_type": "stream",
     "text": [
      "     82/100      8.84G      1.426      1.966      1.664         16       1280: 100%|██████████| 11/11 [00:04<00:00,  2.36it/s]\n",
      "                 Class     Images  Instances      Box(P          R      mAP50  mAP50-95): 100%|██████████| 2/2 [00:00<00:00,  3.24it/s]"
     ]
    },
    {
     "name": "stdout",
     "output_type": "stream",
     "text": [
      "                   all         45         45      0.212      0.378      0.146     0.0645\n"
     ]
    },
    {
     "name": "stderr",
     "output_type": "stream",
     "text": [
      "\n"
     ]
    },
    {
     "name": "stdout",
     "output_type": "stream",
     "text": [
      "\n",
      "      Epoch    GPU_mem   box_loss   cls_loss   dfl_loss  Instances       Size\n"
     ]
    },
    {
     "name": "stderr",
     "output_type": "stream",
     "text": [
      "     83/100      8.84G      1.416      1.847      1.658         16       1280: 100%|██████████| 11/11 [00:04<00:00,  2.36it/s]\n",
      "                 Class     Images  Instances      Box(P          R      mAP50  mAP50-95): 100%|██████████| 2/2 [00:00<00:00,  3.30it/s]"
     ]
    },
    {
     "name": "stdout",
     "output_type": "stream",
     "text": [
      "                   all         45         45      0.206      0.378      0.134     0.0627\n"
     ]
    },
    {
     "name": "stderr",
     "output_type": "stream",
     "text": [
      "\n"
     ]
    },
    {
     "name": "stdout",
     "output_type": "stream",
     "text": [
      "\n",
      "      Epoch    GPU_mem   box_loss   cls_loss   dfl_loss  Instances       Size\n"
     ]
    },
    {
     "name": "stderr",
     "output_type": "stream",
     "text": [
      "     84/100      8.84G      1.376      1.913      1.604         15       1280: 100%|██████████| 11/11 [00:04<00:00,  2.37it/s]\n",
      "                 Class     Images  Instances      Box(P          R      mAP50  mAP50-95): 100%|██████████| 2/2 [00:00<00:00,  3.27it/s]"
     ]
    },
    {
     "name": "stdout",
     "output_type": "stream",
     "text": [
      "                   all         45         45      0.156      0.311      0.124     0.0593\n"
     ]
    },
    {
     "name": "stderr",
     "output_type": "stream",
     "text": [
      "\n"
     ]
    },
    {
     "name": "stdout",
     "output_type": "stream",
     "text": [
      "\n",
      "      Epoch    GPU_mem   box_loss   cls_loss   dfl_loss  Instances       Size\n"
     ]
    },
    {
     "name": "stderr",
     "output_type": "stream",
     "text": [
      "     85/100      8.84G      1.373      1.853      1.622         15       1280: 100%|██████████| 11/11 [00:04<00:00,  2.38it/s]\n",
      "                 Class     Images  Instances      Box(P          R      mAP50  mAP50-95): 100%|██████████| 2/2 [00:00<00:00,  3.20it/s]"
     ]
    },
    {
     "name": "stdout",
     "output_type": "stream",
     "text": [
      "                   all         45         45      0.172      0.311      0.104     0.0507\n"
     ]
    },
    {
     "name": "stderr",
     "output_type": "stream",
     "text": [
      "\n"
     ]
    },
    {
     "name": "stdout",
     "output_type": "stream",
     "text": [
      "\n",
      "      Epoch    GPU_mem   box_loss   cls_loss   dfl_loss  Instances       Size\n"
     ]
    },
    {
     "name": "stderr",
     "output_type": "stream",
     "text": [
      "     86/100      8.84G      1.407      1.846      1.643         16       1280: 100%|██████████| 11/11 [00:04<00:00,  2.41it/s]\n",
      "                 Class     Images  Instances      Box(P          R      mAP50  mAP50-95): 100%|██████████| 2/2 [00:00<00:00,  3.73it/s]"
     ]
    },
    {
     "name": "stdout",
     "output_type": "stream",
     "text": [
      "                   all         45         45      0.224      0.378      0.156     0.0651\n"
     ]
    },
    {
     "name": "stderr",
     "output_type": "stream",
     "text": [
      "\n"
     ]
    },
    {
     "name": "stdout",
     "output_type": "stream",
     "text": [
      "\n",
      "      Epoch    GPU_mem   box_loss   cls_loss   dfl_loss  Instances       Size\n"
     ]
    },
    {
     "name": "stderr",
     "output_type": "stream",
     "text": [
      "     87/100      8.84G      1.417      1.802      1.661         16       1280: 100%|██████████| 11/11 [00:04<00:00,  2.42it/s]\n",
      "                 Class     Images  Instances      Box(P          R      mAP50  mAP50-95): 100%|██████████| 2/2 [00:00<00:00,  3.70it/s]"
     ]
    },
    {
     "name": "stdout",
     "output_type": "stream",
     "text": [
      "                   all         45         45      0.256      0.378      0.181     0.0792\n"
     ]
    },
    {
     "name": "stderr",
     "output_type": "stream",
     "text": [
      "\n"
     ]
    },
    {
     "name": "stdout",
     "output_type": "stream",
     "text": [
      "\n",
      "      Epoch    GPU_mem   box_loss   cls_loss   dfl_loss  Instances       Size\n"
     ]
    },
    {
     "name": "stderr",
     "output_type": "stream",
     "text": [
      "     88/100      8.84G      1.328      1.798      1.587         15       1280: 100%|██████████| 11/11 [00:04<00:00,  2.42it/s]\n",
      "                 Class     Images  Instances      Box(P          R      mAP50  mAP50-95): 100%|██████████| 2/2 [00:00<00:00,  3.70it/s]"
     ]
    },
    {
     "name": "stdout",
     "output_type": "stream",
     "text": [
      "                   all         45         45      0.193      0.393      0.143      0.066\n"
     ]
    },
    {
     "name": "stderr",
     "output_type": "stream",
     "text": [
      "\n"
     ]
    },
    {
     "name": "stdout",
     "output_type": "stream",
     "text": [
      "\n",
      "      Epoch    GPU_mem   box_loss   cls_loss   dfl_loss  Instances       Size\n"
     ]
    },
    {
     "name": "stderr",
     "output_type": "stream",
     "text": [
      "     89/100      8.84G      1.356      1.856       1.62         16       1280: 100%|██████████| 11/11 [00:04<00:00,  2.43it/s]\n",
      "                 Class     Images  Instances      Box(P          R      mAP50  mAP50-95): 100%|██████████| 2/2 [00:00<00:00,  3.69it/s]"
     ]
    },
    {
     "name": "stdout",
     "output_type": "stream",
     "text": [
      "                   all         45         45      0.151      0.356      0.121     0.0551\n"
     ]
    },
    {
     "name": "stderr",
     "output_type": "stream",
     "text": [
      "\n"
     ]
    },
    {
     "name": "stdout",
     "output_type": "stream",
     "text": [
      "\n",
      "      Epoch    GPU_mem   box_loss   cls_loss   dfl_loss  Instances       Size\n"
     ]
    },
    {
     "name": "stderr",
     "output_type": "stream",
     "text": [
      "     90/100      8.84G      1.294      1.834       1.55         16       1280: 100%|██████████| 11/11 [00:04<00:00,  2.43it/s]\n",
      "                 Class     Images  Instances      Box(P          R      mAP50  mAP50-95): 100%|██████████| 2/2 [00:00<00:00,  3.72it/s]"
     ]
    },
    {
     "name": "stdout",
     "output_type": "stream",
     "text": [
      "                   all         45         45      0.208      0.311      0.141     0.0649\n"
     ]
    },
    {
     "name": "stderr",
     "output_type": "stream",
     "text": [
      "\n"
     ]
    },
    {
     "name": "stdout",
     "output_type": "stream",
     "text": [
      "Closing dataloader mosaic\n",
      "\n",
      "      Epoch    GPU_mem   box_loss   cls_loss   dfl_loss  Instances       Size\n"
     ]
    },
    {
     "name": "stderr",
     "output_type": "stream",
     "text": [
      "     91/100      9.58G      1.337      1.744       1.59         16       1280: 100%|██████████| 11/11 [00:06<00:00,  1.73it/s]\n",
      "                 Class     Images  Instances      Box(P          R      mAP50  mAP50-95): 100%|██████████| 2/2 [00:00<00:00,  3.68it/s]"
     ]
    },
    {
     "name": "stdout",
     "output_type": "stream",
     "text": [
      "                   all         45         45      0.219      0.311      0.181     0.0851\n"
     ]
    },
    {
     "name": "stderr",
     "output_type": "stream",
     "text": [
      "\n"
     ]
    },
    {
     "name": "stdout",
     "output_type": "stream",
     "text": [
      "\n",
      "      Epoch    GPU_mem   box_loss   cls_loss   dfl_loss  Instances       Size\n"
     ]
    },
    {
     "name": "stderr",
     "output_type": "stream",
     "text": [
      "     92/100      8.84G      1.357      1.854      1.604         16       1280: 100%|██████████| 11/11 [00:04<00:00,  2.43it/s]\n",
      "                 Class     Images  Instances      Box(P          R      mAP50  mAP50-95): 100%|██████████| 2/2 [00:00<00:00,  3.71it/s]"
     ]
    },
    {
     "name": "stdout",
     "output_type": "stream",
     "text": [
      "                   all         45         45      0.197      0.288      0.166     0.0772\n"
     ]
    },
    {
     "name": "stderr",
     "output_type": "stream",
     "text": [
      "\n"
     ]
    },
    {
     "name": "stdout",
     "output_type": "stream",
     "text": [
      "\n",
      "      Epoch    GPU_mem   box_loss   cls_loss   dfl_loss  Instances       Size\n"
     ]
    },
    {
     "name": "stderr",
     "output_type": "stream",
     "text": [
      "     93/100      8.84G      1.315      1.827      1.606         16       1280: 100%|██████████| 11/11 [00:04<00:00,  2.42it/s]\n",
      "                 Class     Images  Instances      Box(P          R      mAP50  mAP50-95): 100%|██████████| 2/2 [00:00<00:00,  3.35it/s]"
     ]
    },
    {
     "name": "stdout",
     "output_type": "stream",
     "text": [
      "                   all         45         45       0.18      0.422      0.167     0.0853\n"
     ]
    },
    {
     "name": "stderr",
     "output_type": "stream",
     "text": [
      "\n"
     ]
    },
    {
     "name": "stdout",
     "output_type": "stream",
     "text": [
      "\n",
      "      Epoch    GPU_mem   box_loss   cls_loss   dfl_loss  Instances       Size\n"
     ]
    },
    {
     "name": "stderr",
     "output_type": "stream",
     "text": [
      "     94/100      8.84G      1.335      1.811      1.603         16       1280: 100%|██████████| 11/11 [00:04<00:00,  2.34it/s]\n",
      "                 Class     Images  Instances      Box(P          R      mAP50  mAP50-95): 100%|██████████| 2/2 [00:01<00:00,  1.76it/s]"
     ]
    },
    {
     "name": "stdout",
     "output_type": "stream",
     "text": [
      "                   all         45         45        0.2      0.422      0.176     0.0818\n"
     ]
    },
    {
     "name": "stderr",
     "output_type": "stream",
     "text": [
      "\n"
     ]
    },
    {
     "name": "stdout",
     "output_type": "stream",
     "text": [
      "\n",
      "      Epoch    GPU_mem   box_loss   cls_loss   dfl_loss  Instances       Size\n"
     ]
    },
    {
     "name": "stderr",
     "output_type": "stream",
     "text": [
      "     95/100      8.84G      1.273      1.758      1.573         16       1280: 100%|██████████| 11/11 [00:06<00:00,  1.73it/s]\n",
      "                 Class     Images  Instances      Box(P          R      mAP50  mAP50-95): 100%|██████████| 2/2 [00:01<00:00,  1.78it/s]"
     ]
    },
    {
     "name": "stdout",
     "output_type": "stream",
     "text": [
      "                   all         45         45      0.186      0.395      0.149     0.0696\n"
     ]
    },
    {
     "name": "stderr",
     "output_type": "stream",
     "text": [
      "\n"
     ]
    },
    {
     "name": "stdout",
     "output_type": "stream",
     "text": [
      "\n",
      "      Epoch    GPU_mem   box_loss   cls_loss   dfl_loss  Instances       Size\n"
     ]
    },
    {
     "name": "stderr",
     "output_type": "stream",
     "text": [
      "     96/100      8.84G      1.308      1.705      1.556         15       1280: 100%|██████████| 11/11 [00:46<00:00,  4.20s/it]\n",
      "                 Class     Images  Instances      Box(P          R      mAP50  mAP50-95): 100%|██████████| 2/2 [00:00<00:00,  3.51it/s]"
     ]
    },
    {
     "name": "stdout",
     "output_type": "stream",
     "text": [
      "                   all         45         45      0.212      0.333      0.149     0.0639\n"
     ]
    },
    {
     "name": "stderr",
     "output_type": "stream",
     "text": [
      "\n"
     ]
    },
    {
     "name": "stdout",
     "output_type": "stream",
     "text": [
      "\n",
      "      Epoch    GPU_mem   box_loss   cls_loss   dfl_loss  Instances       Size\n"
     ]
    },
    {
     "name": "stderr",
     "output_type": "stream",
     "text": [
      "     97/100      8.84G      1.287      1.694      1.551         16       1280: 100%|██████████| 11/11 [00:04<00:00,  2.46it/s]\n",
      "                 Class     Images  Instances      Box(P          R      mAP50  mAP50-95): 100%|██████████| 2/2 [00:00<00:00,  3.74it/s]"
     ]
    },
    {
     "name": "stdout",
     "output_type": "stream",
     "text": [
      "                   all         45         45       0.22      0.333      0.151      0.065\n"
     ]
    },
    {
     "name": "stderr",
     "output_type": "stream",
     "text": [
      "\n"
     ]
    },
    {
     "name": "stdout",
     "output_type": "stream",
     "text": [
      "\n",
      "      Epoch    GPU_mem   box_loss   cls_loss   dfl_loss  Instances       Size\n"
     ]
    },
    {
     "name": "stderr",
     "output_type": "stream",
     "text": [
      "     98/100      8.84G      1.257      1.697      1.518         16       1280: 100%|██████████| 11/11 [00:04<00:00,  2.40it/s]\n",
      "                 Class     Images  Instances      Box(P          R      mAP50  mAP50-95): 100%|██████████| 2/2 [00:00<00:00,  3.36it/s]"
     ]
    },
    {
     "name": "stdout",
     "output_type": "stream",
     "text": [
      "                   all         45         45      0.211      0.311      0.157     0.0679\n"
     ]
    },
    {
     "name": "stderr",
     "output_type": "stream",
     "text": [
      "\n"
     ]
    },
    {
     "name": "stdout",
     "output_type": "stream",
     "text": [
      "\n",
      "      Epoch    GPU_mem   box_loss   cls_loss   dfl_loss  Instances       Size\n"
     ]
    },
    {
     "name": "stderr",
     "output_type": "stream",
     "text": [
      "     99/100      8.84G      1.274      1.784      1.542         16       1280: 100%|██████████| 11/11 [00:04<00:00,  2.41it/s]\n",
      "                 Class     Images  Instances      Box(P          R      mAP50  mAP50-95): 100%|██████████| 2/2 [00:00<00:00,  3.35it/s]"
     ]
    },
    {
     "name": "stdout",
     "output_type": "stream",
     "text": [
      "                   all         45         45      0.206      0.422      0.144     0.0661\n"
     ]
    },
    {
     "name": "stderr",
     "output_type": "stream",
     "text": [
      "\n"
     ]
    },
    {
     "name": "stdout",
     "output_type": "stream",
     "text": [
      "\n",
      "      Epoch    GPU_mem   box_loss   cls_loss   dfl_loss  Instances       Size\n"
     ]
    },
    {
     "name": "stderr",
     "output_type": "stream",
     "text": [
      "    100/100      8.84G      1.302      1.717      1.574         16       1280: 100%|██████████| 11/11 [00:04<00:00,  2.39it/s]\n",
      "                 Class     Images  Instances      Box(P          R      mAP50  mAP50-95): 100%|██████████| 2/2 [00:00<00:00,  3.23it/s]"
     ]
    },
    {
     "name": "stdout",
     "output_type": "stream",
     "text": [
      "                   all         45         45      0.195        0.4      0.126      0.059\n"
     ]
    },
    {
     "name": "stderr",
     "output_type": "stream",
     "text": [
      "\n"
     ]
    },
    {
     "name": "stdout",
     "output_type": "stream",
     "text": [
      "\n",
      "100 epochs completed in 0.188 hours.\n",
      "Optimizer stripped from runs/detect/train32334/weights/last.pt, 6.4MB\n",
      "Optimizer stripped from runs/detect/train32334/weights/best.pt, 6.4MB\n",
      "\n",
      "Validating runs/detect/train32334/weights/best.pt...\n",
      "Ultralytics YOLOv8.0.221 🚀 Python-3.11.5 torch-2.1.1+cu121 CUDA:0 (Tesla T4, 15948MiB)\n",
      "YOLOv8n summary (fused): 168 layers, 3005843 parameters, 0 gradients, 8.1 GFLOPs\n"
     ]
    },
    {
     "name": "stderr",
     "output_type": "stream",
     "text": [
      "                 Class     Images  Instances      Box(P          R      mAP50  mAP50-95): 100%|██████████| 2/2 [00:00<00:00,  3.42it/s]\n"
     ]
    },
    {
     "name": "stdout",
     "output_type": "stream",
     "text": [
      "                   all         45         45      0.494      0.356      0.311       0.14\n",
      "Speed: 0.6ms preprocess, 7.3ms inference, 0.0ms loss, 0.9ms postprocess per image\n",
      "Results saved to \u001b[1mruns/detect/train32334\u001b[0m\n",
      "Ultralytics YOLOv8.0.221 🚀 Python-3.11.5 torch-2.1.1+cu121 CUDA:0 (Tesla T4, 15948MiB)\n",
      "YOLOv8n summary (fused): 168 layers, 3005843 parameters, 0 gradients, 8.1 GFLOPs\n"
     ]
    },
    {
     "name": "stderr",
     "output_type": "stream",
     "text": [
      "\u001b[34m\u001b[1mval: \u001b[0mScanning /home/azureuser/Alpine-Aster/data/postprocessed2/val/labels.cache... 45 images, 0 backgrounds, 0 corrupt: 100%|██████████| 45/45 [00:00<?, ?it/s]\n",
      "                 Class     Images  Instances      Box(P          R      mAP50  mAP50-95): 100%|██████████| 3/3 [02:05<00:00, 41.97s/it]\n"
     ]
    },
    {
     "name": "stdout",
     "output_type": "stream",
     "text": [
      "                   all         45         45      0.495      0.356      0.315      0.141\n",
      "Speed: 0.8ms preprocess, 1396.0ms inference, 0.0ms loss, 1.8ms postprocess per image\n",
      "Results saved to \u001b[1mruns/detect/train323342\u001b[0m\n"
     ]
    },
    {
     "ename": "",
     "evalue": "",
     "output_type": "error",
     "traceback": [
      "\u001b[1;31mThe Kernel crashed while executing code in the the current cell or a previous cell. Please review the code in the cell(s) to identify a possible cause of the failure. Click <a href='https://aka.ms/vscodeJupyterKernelCrash'>here</a> for more info. View Jupyter <a href='command:jupyter.viewOutput'>log</a> for further details."
     ]
    },
    {
     "ename": "",
     "evalue": "",
     "output_type": "error",
     "traceback": [
      "\u001b[1;31mThe Kernel crashed while executing code in the the current cell or a previous cell. Please review the code in the cell(s) to identify a possible cause of the failure. Click <a href='https://aka.ms/vscodeJupyterKernelCrash'>here</a> for more info. View Jupyter <a href='command:jupyter.viewOutput'>log</a> for further details."
     ]
    }
   ],
   "source": [
    "mydata='/home/azureuser/Alpine-Aster/data/postprocessed2/yolo_data.yaml'\n",
    "\n",
    "# Train the model using the 'coco128.yaml' dataset for 3 epochs\n",
    "results = model.train(data=mydata, imgsz=1280,epochs=100)\n",
    "\n",
    "# Evaluate the model's performance on the validation set\n",
    "results = model.val()"
   ]
  }
 ],
 "metadata": {
  "kernelspec": {
   "display_name": "hackathon",
   "language": "python",
   "name": "python3"
  },
  "language_info": {
   "codemirror_mode": {
    "name": "ipython",
    "version": 3
   },
   "file_extension": ".py",
   "mimetype": "text/x-python",
   "name": "python",
   "nbconvert_exporter": "python",
   "pygments_lexer": "ipython3",
   "version": "3.11.5"
  }
 },
 "nbformat": 4,
 "nbformat_minor": 2
}
