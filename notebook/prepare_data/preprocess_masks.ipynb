{
 "cells": [
  {
   "cell_type": "code",
   "execution_count": 2,
   "id": "4408865f-dcef-4084-b40e-9c4e2d38c97d",
   "metadata": {},
   "outputs": [
    {
     "name": "stdout",
     "output_type": "stream",
     "text": [
      "Images resized and saved to the output directory.\n"
     ]
    }
   ],
   "source": [
    "from PIL import Image\n",
    "import os\n",
    "\n",
    "target_size = (128, 128)\n",
    "\n",
    "DATA_ROOT = '/home/naro/images_hackaton/'\n",
    "\n",
    "input_dir = os.path.join(DATA_ROOT, 'bildacher/masks')\n",
    "output_dir = os.path.join(DATA_ROOT, 'bildacher/masks_centered_128')\n",
    "\n",
    "if not os.path.exists(output_dir):\n",
    "    os.makedirs(output_dir)\n",
    "\n",
    "input_files = [f for f in os.listdir(input_dir) if f.endswith('.png')]\n",
    "\n",
    "for file_name in input_files:\n",
    "    original_image = Image.open(os.path.join(input_dir, file_name))\n",
    "\n",
    "    new_image = Image.new('RGB', target_size, (0, 0, 0))\n",
    "\n",
    "    left = (target_size[0] - original_image.width) // 2\n",
    "    top = (target_size[1] - original_image.height) // 2\n",
    "    right = left + original_image.width\n",
    "    bottom = top + original_image.height\n",
    "\n",
    "    new_image.paste(original_image, (left, top))\n",
    "\n",
    "    new_image.save(os.path.join(output_dir, file_name))\n",
    "\n",
    "print(\"Images resized and saved to the output directory.\")\n"
   ]
  }
 ],
 "metadata": {
  "kernelspec": {
   "display_name": "Python 3 (ipykernel)",
   "language": "python",
   "name": "python3"
  },
  "language_info": {
   "codemirror_mode": {
    "name": "ipython",
    "version": 3
   },
   "file_extension": ".py",
   "mimetype": "text/x-python",
   "name": "python",
   "nbconvert_exporter": "python",
   "pygments_lexer": "ipython3",
   "version": "3.8.18"
  }
 },
 "nbformat": 4,
 "nbformat_minor": 5
}
