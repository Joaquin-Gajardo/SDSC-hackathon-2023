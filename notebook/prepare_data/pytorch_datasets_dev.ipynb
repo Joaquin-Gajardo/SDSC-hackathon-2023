{
 "cells": [
  {
   "cell_type": "code",
   "execution_count": 1,
   "metadata": {},
   "outputs": [
    {
     "name": "stderr",
     "output_type": "stream",
     "text": [
      "/home/azureuser/miniconda3/envs/hackathon/lib/python3.11/site-packages/tqdm/auto.py:21: TqdmWarning: IProgress not found. Please update jupyter and ipywidgets. See https://ipywidgets.readthedocs.io/en/stable/user_install.html\n",
      "  from .autonotebook import tqdm as notebook_tqdm\n"
     ]
    }
   ],
   "source": [
    "from pathlib import Path\n",
    "\n",
    "import numpy as np\n",
    "import matplotlib.pyplot as plt\n",
    "from torchvision.transforms.functional import pil_to_tensor, to_pil_image\n",
    "from tqdm import tqdm\n",
    "from sklearn.model_selection import train_test_split\n",
    "\n",
    "from src import ROOT_DIR\n",
    "from src.datasets import MixedDatasetPreprocessing, BildacherBackgroundDataset, OUT_IMAGE_RES, TRAIN_VAL_SPLIT, SEED, DATA_DIR\n",
    "from src.utils import (\n",
    "    is_bbox_outside_crop,\n",
    "    get_patch_label,\n",
    "    plot_tensor,\n",
    "    unpack_yolo_label,\n",
    "    yolo_bbox_relative_to_absolute_coords,\n",
    "    )\n",
    "\n",
    "%load_ext autoreload\n",
    "%autoreload 2"
   ]
  },
  {
   "cell_type": "markdown",
   "metadata": {},
   "source": [
    "## Mixed dataset"
   ]
  },
  {
   "cell_type": "code",
   "execution_count": null,
   "metadata": {},
   "outputs": [],
   "source": [
    "dataset = MixedDatasetPreprocessing(center_crop=False)"
   ]
  },
  {
   "cell_type": "code",
   "execution_count": null,
   "metadata": {},
   "outputs": [],
   "source": [
    "dataset.transforms.transforms"
   ]
  },
  {
   "cell_type": "code",
   "execution_count": null,
   "metadata": {},
   "outputs": [],
   "source": [
    "image, label, patch = dataset[1]\n",
    "image.shape, label, patch"
   ]
  },
  {
   "cell_type": "markdown",
   "metadata": {},
   "source": [
    "### Check patches"
   ]
  },
  {
   "cell_type": "code",
   "execution_count": null,
   "metadata": {},
   "outputs": [],
   "source": [
    "label, label.shape "
   ]
  },
  {
   "cell_type": "code",
   "execution_count": null,
   "metadata": {},
   "outputs": [],
   "source": [
    "x, y, w, h = unpack_yolo_label(label[1])\n",
    "x, y, w, h"
   ]
  },
  {
   "cell_type": "code",
   "execution_count": null,
   "metadata": {},
   "outputs": [],
   "source": [
    "plot_tensor(image)\n",
    "H = image.shape[1]\n",
    "W = image.shape[2]"
   ]
  },
  {
   "cell_type": "code",
   "execution_count": null,
   "metadata": {},
   "outputs": [],
   "source": [
    "patch_height = round(h * H)\n",
    "patch_width = round(w * W)\n",
    "patch_height, patch_width"
   ]
  },
  {
   "cell_type": "code",
   "execution_count": null,
   "metadata": {},
   "outputs": [],
   "source": [
    "x_center = round(x * W)\n",
    "y_center = round(y * H)\n",
    "_patch = image[:, y_center - patch_height//2 : y_center + patch_height//2, x_center - patch_width//2 : x_center + patch_width//2]"
   ]
  },
  {
   "cell_type": "code",
   "execution_count": null,
   "metadata": {},
   "outputs": [],
   "source": [
    "print(_patch.shape)\n",
    "plot_tensor(_patch)"
   ]
  },
  {
   "cell_type": "code",
   "execution_count": null,
   "metadata": {},
   "outputs": [],
   "source": [
    "print(pil_to_tensor(patch).shape)\n",
    "patch"
   ]
  },
  {
   "cell_type": "markdown",
   "metadata": {},
   "source": [
    "**Patch extracted from labels match! (before doing CenterCrop)**"
   ]
  },
  {
   "cell_type": "markdown",
   "metadata": {},
   "source": [
    "### Discard labels, patches and images when any part of the BBox is outside CenterCrop"
   ]
  },
  {
   "cell_type": "code",
   "execution_count": 2,
   "metadata": {},
   "outputs": [],
   "source": [
    "dataset = MixedDatasetPreprocessing(center_crop=True)"
   ]
  },
  {
   "cell_type": "code",
   "execution_count": null,
   "metadata": {},
   "outputs": [],
   "source": [
    "len(dataset.images) == len(dataset.labels) == len(dataset.patches)"
   ]
  },
  {
   "cell_type": "code",
   "execution_count": null,
   "metadata": {},
   "outputs": [],
   "source": [
    "len(dataset.patches_idxs_to_discard)"
   ]
  },
  {
   "cell_type": "code",
   "execution_count": null,
   "metadata": {},
   "outputs": [],
   "source": [
    "len(dataset.images)"
   ]
  },
  {
   "cell_type": "code",
   "execution_count": null,
   "metadata": {},
   "outputs": [],
   "source": [
    "image, label, patch = dataset[1]\n",
    "label"
   ]
  },
  {
   "cell_type": "code",
   "execution_count": null,
   "metadata": {},
   "outputs": [],
   "source": [
    "# ## Test -> seems to work\n",
    "# for i in range(len(dataset)):\n",
    "#     image, label, patch = dataset[i]\n",
    "#     patch_height, patch_width = pil_to_tensor(patch).shape[1:]\n",
    "#     H, W = image.shape[1], image.shape[2]\n",
    "#     label_match = get_patch_label(image, label, patch)\n",
    "#     x, y, w, h = unpack_yolo_label(label_match)\n",
    "#     x, y, w, h = yolo_bbox_relative_to_absolute_coords(x, y, w, h, W, H)\n",
    "#     print(h, w)\n",
    "#     print(patch_height, patch_width)    "
   ]
  },
  {
   "cell_type": "code",
   "execution_count": null,
   "metadata": {},
   "outputs": [],
   "source": [
    "# patches_to_discard = []\n",
    "# labels = []\n",
    "# for i in tqdm(range(len(dataset))):\n",
    "#     image, label, patch = dataset[i]\n",
    "    \n",
    "#     # There are more than one bbox per image, we need to find which one is the one that we see in the patch\n",
    "#     # Finding closest match by patch size:  \n",
    "#     patch_height, patch_width = pil_to_tensor(patch).shape[1:]\n",
    "#     H, W = image.shape[1], image.shape[2]\n",
    "#     label_match = get_patch_label(image, label, patch)\n",
    "#     labels.append(label_match)\n",
    "    \n",
    "#     ## BBox coordinates\n",
    "#     x, y, w, h = unpack_yolo_label(label_match)\n",
    "#     x, y, w, h = yolo_bbox_relative_to_absolute_coords(x, y, w, h, W, H)\n",
    "#     if is_bbox_outside_crop(x, y, w, h, W, H, OUT_IMAGE_RES):\n",
    "#         patches_to_discard.append(i)\n",
    "        \n",
    "# patches_to_discard"
   ]
  },
  {
   "cell_type": "markdown",
   "metadata": {},
   "source": [
    "### Make splits"
   ]
  },
  {
   "cell_type": "code",
   "execution_count": 3,
   "metadata": {},
   "outputs": [
    {
     "name": "stdout",
     "output_type": "stream",
     "text": [
      "584\n"
     ]
    },
    {
     "data": {
      "text/plain": [
       "(array([218, 113, 140, 122, 162, 216,  38,  24, 185, 137,  29,  19,  69,\n",
       "        205,  60,  68,   5, 139,  56, 156, 176, 163,  65, 112, 186, 155,\n",
       "         31,  12,  35,  28,  42,  84, 104, 150,  51, 124, 177,  76,  41,\n",
       "        135,  78, 178,  26, 146, 173, 206,   0,   2,  77,  46, 153, 118,\n",
       "         90,  85, 147,  98,  36, 125,  61,  22, 144, 117,  33,  11, 215,\n",
       "        183,   6,  27, 136, 212, 203,   4,  32, 119, 159, 126, 158, 114,\n",
       "         10,  62, 164, 194, 181, 128, 198, 167,  70, 170,  64,  44, 143,\n",
       "         40, 123,  23, 165, 161,  81,  39, 184,  47,  94, 168,  43, 145,\n",
       "        152,   3, 105,  53, 133, 199, 171, 204,  49,  80,  34,   7, 110,\n",
       "         91,  83, 195, 200,  89,   8,  13,  59, 214, 131,  17, 166,  72,\n",
       "        192, 134, 182, 208,  63,  54, 107,  50, 174, 217, 169,  58,  48,\n",
       "         88,  21,  57, 160, 213, 187, 191, 129,  37, 157, 207,   1,  52,\n",
       "        149, 130, 151, 103,  99, 116,  87, 202,  74, 210, 121, 220,  20,\n",
       "        188,  71, 106,  14,  92, 179, 102]),\n",
       " array([132, 148,  93, 180,  15, 115, 172, 209,  75, 142, 100,  30, 190,\n",
       "          9,  67, 219, 175,  18, 197,  66, 189,  96, 211,  25, 127, 201,\n",
       "         97,  16,  45, 154, 111,  55, 108, 196,  73, 109,  82, 138, 141,\n",
       "        101,  86, 193, 120,  95,  79]))"
      ]
     },
     "execution_count": 3,
     "metadata": {},
     "output_type": "execute_result"
    }
   ],
   "source": [
    "indices = np.arange(len(dataset))\n",
    "train, val = train_test_split(indices, train_size=TRAIN_VAL_SPLIT, random_state=SEED)\n",
    "print(len(train) + len(val) + len(dataset.patches_idxs_to_discard))\n",
    "train, val"
   ]
  },
  {
   "cell_type": "code",
   "execution_count": 4,
   "metadata": {},
   "outputs": [
    {
     "data": {
      "text/plain": [
       "[None, None, None]"
      ]
     },
     "execution_count": 4,
     "metadata": {},
     "output_type": "execute_result"
    }
   ],
   "source": [
    "[(DATA_DIR.parent / 'postprocessed' / split).mkdir(parents=True, exist_ok=True) for split in [\"train\", \"val\", \"free_patches\"]]"
   ]
  },
  {
   "cell_type": "code",
   "execution_count": 12,
   "metadata": {},
   "outputs": [],
   "source": [
    "# Get paths from train and val sets from self.images, self.labels and self.patches\n",
    "train_folder = DATA_DIR.parent / 'postprocessed' / 'train'\n",
    "val_folder = DATA_DIR.parent / 'postprocessed' / 'val'\n",
    "\n",
    "for folder in [train_folder, val_folder]:\n",
    "    (folder / 'images').mkdir(parents=True, exist_ok=True)\n",
    "    (folder / 'labels').mkdir(parents=True, exist_ok=True)\n",
    "    (folder / 'patches').mkdir(parents=True, exist_ok=True)\n",
    "\n",
    "for i in range(len(dataset)):\n",
    "    image, label, patch = dataset[i]\n",
    "    if i in train:\n",
    "        to_pil_image(image).save(train_folder / \"images\" / f\"{str(dataset.images[i].name)}\")\n",
    "        label_path = train_folder / \"labels\" / f\"{str(dataset.labels[i].name)}\"\n",
    "        with open(label_path, 'wb'):\n",
    "            np.savetxt(label_path, label, delimiter=' ', newline='\\n')        \n",
    "        patch.save(train_folder / \"patches\" / f\"{str(dataset.patches[i].name)}\")        \n",
    "    elif i in val:\n",
    "        to_pil_image(image).save(val_folder / \"images\" / f\"{str(dataset.images[i].name)}\")\n",
    "        label_path = val_folder / \"labels\" / f\"{str(dataset.labels[i].name)}\"\n",
    "        with open(label_path, 'wb'):\n",
    "            np.savetxt(label_path, label, delimiter=' ', newline='\\n')        \n",
    "        patch.save(val_folder / \"patches\" / f\"{str(dataset.patches[i].name)}\")        "
   ]
  },
  {
   "cell_type": "code",
   "execution_count": 13,
   "metadata": {},
   "outputs": [
    {
     "ename": "ValueError",
     "evalue": "[0, 4, 5, 6, 7, 8, 11, 13, 19, 20, 21, 22, 23, 26, 27, 28, 30, 31, 33, 34, 36, 37, 38, 40, 42, 43, 44, 46, 48, 49, 50, 51, 52, 56, 57, 58, 59, 61, 64, 65, 66, 70, 71, 72, 73, 76, 77, 80, 81, 82, 83, 84, 88, 90, 92, 93, 94, 97, 98, 99, 100, 104, 107, 110, 114, 115, 116, 117, 121, 122, 124, 125, 126, 128, 130, 131, 133, 134, 135, 136, 137, 139, 140, 142, 143, 145, 147, 148, 151, 152, 153, 155, 156, 157, 158, 159, 160, 161, 169, 170, 171, 172, 173, 174, 175, 177, 180, 181, 184, 185, 186, 188, 189, 190, 191, 194, 195, 196, 197, 199, 200, 201, 203, 204, 205, 206, 207, 208, 210, 211, 213, 215, 219, 221, 223, 224, 225, 226, 229, 233, 235, 237, 239, 240, 243, 245, 246, 250, 251, 252, 253, 254, 255, 256, 258, 262, 264, 270, 271, 273, 275, 276, 277, 281, 284, 285, 286, 287, 289, 292, 293, 294, 296, 297, 298, 300, 301, 302, 303, 304, 305, 307, 308, 310, 312, 313, 314, 316, 318, 322, 324, 325, 326, 329, 331, 333, 335, 337, 338, 339, 340, 341, 343, 345, 346, 347, 349, 350, 351, 353, 354, 356, 359, 360, 361, 362, 363, 364, 365, 366, 367, 368, 371, 372, 373, 374, 376, 377, 378, 379, 380, 381, 382, 384, 385, 386, 389, 390, 394, 397, 399, 401, 404, 407, 408, 411, 412, 413, 414, 415, 416, 417, 418, 419, 420, 422, 423, 424, 425, 426, 427, 428, 429, 430, 431, 432, 433, 434, 436, 437, 441, 442, 445, 446, 447, 449, 450, 454, 456, 457, 459, 460, 461, 462, 463, 465, 466, 467, 468, 469, 472, 473, 474, 477, 482, 483, 486, 489, 490, 492, 494, 495, 496, 497, 498, 499, 500, 501, 502, 503, 504, 509, 510, 511, 512, 513, 514, 515, 516, 517, 518, 519, 520, 521, 522, 523, 524, 525, 527, 530, 532, 533, 534, 535, 536, 539, 540, 541, 545, 546, 547, 548, 549, 550, 552, 554, 556, 558, 560, 561, 562, 563, 564, 565, 570, 572, 574, 575, 577, 578, 579, 581, 583] is not in list",
     "output_type": "error",
     "traceback": [
      "\u001b[0;31m---------------------------------------------------------------------------\u001b[0m",
      "\u001b[0;31mValueError\u001b[0m                                Traceback (most recent call last)",
      "\u001b[1;32m/home/azureuser/Alpine-Aster/notebook/prepare_data/pytorch_datasets_dev.ipynb Cell 27\u001b[0m line \u001b[0;36m4\n\u001b[1;32m      <a href='vscode-notebook-cell://ssh-remote%2B20.234.237.142/home/azureuser/Alpine-Aster/notebook/prepare_data/pytorch_datasets_dev.ipynb#X66sdnNjb2RlLXJlbW90ZQ%3D%3D?line=0'>1</a>\u001b[0m \u001b[39m# Get paths for free_patches from patches to discard and a self._patches attribute \u001b[39;00m\n\u001b[1;32m      <a href='vscode-notebook-cell://ssh-remote%2B20.234.237.142/home/azureuser/Alpine-Aster/notebook/prepare_data/pytorch_datasets_dev.ipynb#X66sdnNjb2RlLXJlbW90ZQ%3D%3D?line=1'>2</a>\u001b[0m \u001b[39m#for file in dataset.patches_idxs_to_discard:\u001b[39;00m\n\u001b[0;32m----> <a href='vscode-notebook-cell://ssh-remote%2B20.234.237.142/home/azureuser/Alpine-Aster/notebook/prepare_data/pytorch_datasets_dev.ipynb#X66sdnNjb2RlLXJlbW90ZQ%3D%3D?line=3'>4</a>\u001b[0m dataset\u001b[39m.\u001b[39;49m_patches\u001b[39m.\u001b[39;49mindex(dataset\u001b[39m.\u001b[39;49mpatches_idxs_to_discard)\n\u001b[1;32m      <a href='vscode-notebook-cell://ssh-remote%2B20.234.237.142/home/azureuser/Alpine-Aster/notebook/prepare_data/pytorch_datasets_dev.ipynb#X66sdnNjb2RlLXJlbW90ZQ%3D%3D?line=6'>7</a>\u001b[0m \u001b[39m#patch.save(DATA_DIR.parent / 'postprocessed' / 'free_patches' / f\"{str(patch.name)}\")\u001b[39;00m\n",
      "\u001b[0;31mValueError\u001b[0m: [0, 4, 5, 6, 7, 8, 11, 13, 19, 20, 21, 22, 23, 26, 27, 28, 30, 31, 33, 34, 36, 37, 38, 40, 42, 43, 44, 46, 48, 49, 50, 51, 52, 56, 57, 58, 59, 61, 64, 65, 66, 70, 71, 72, 73, 76, 77, 80, 81, 82, 83, 84, 88, 90, 92, 93, 94, 97, 98, 99, 100, 104, 107, 110, 114, 115, 116, 117, 121, 122, 124, 125, 126, 128, 130, 131, 133, 134, 135, 136, 137, 139, 140, 142, 143, 145, 147, 148, 151, 152, 153, 155, 156, 157, 158, 159, 160, 161, 169, 170, 171, 172, 173, 174, 175, 177, 180, 181, 184, 185, 186, 188, 189, 190, 191, 194, 195, 196, 197, 199, 200, 201, 203, 204, 205, 206, 207, 208, 210, 211, 213, 215, 219, 221, 223, 224, 225, 226, 229, 233, 235, 237, 239, 240, 243, 245, 246, 250, 251, 252, 253, 254, 255, 256, 258, 262, 264, 270, 271, 273, 275, 276, 277, 281, 284, 285, 286, 287, 289, 292, 293, 294, 296, 297, 298, 300, 301, 302, 303, 304, 305, 307, 308, 310, 312, 313, 314, 316, 318, 322, 324, 325, 326, 329, 331, 333, 335, 337, 338, 339, 340, 341, 343, 345, 346, 347, 349, 350, 351, 353, 354, 356, 359, 360, 361, 362, 363, 364, 365, 366, 367, 368, 371, 372, 373, 374, 376, 377, 378, 379, 380, 381, 382, 384, 385, 386, 389, 390, 394, 397, 399, 401, 404, 407, 408, 411, 412, 413, 414, 415, 416, 417, 418, 419, 420, 422, 423, 424, 425, 426, 427, 428, 429, 430, 431, 432, 433, 434, 436, 437, 441, 442, 445, 446, 447, 449, 450, 454, 456, 457, 459, 460, 461, 462, 463, 465, 466, 467, 468, 469, 472, 473, 474, 477, 482, 483, 486, 489, 490, 492, 494, 495, 496, 497, 498, 499, 500, 501, 502, 503, 504, 509, 510, 511, 512, 513, 514, 515, 516, 517, 518, 519, 520, 521, 522, 523, 524, 525, 527, 530, 532, 533, 534, 535, 536, 539, 540, 541, 545, 546, 547, 548, 549, 550, 552, 554, 556, 558, 560, 561, 562, 563, 564, 565, 570, 572, 574, 575, 577, 578, 579, 581, 583] is not in list"
     ]
    }
   ],
   "source": [
    "# Get paths for free_patches from patches to discard and a self._patches attribute \n",
    "#for file in dataset.patches_idxs_to_discard:\n",
    "\n",
    "dataset._patches.index(dataset.patches_idxs_to_discard)\n",
    "    \n",
    "    \n",
    "#patch.save(DATA_DIR.parent / 'postprocessed' / 'free_patches' / f\"{str(patch.name)}\")"
   ]
  },
  {
   "cell_type": "code",
   "execution_count": null,
   "metadata": {},
   "outputs": [],
   "source": [
    "# Save to disk"
   ]
  },
  {
   "cell_type": "markdown",
   "metadata": {},
   "source": [
    "## Bildacher backgrounds dataset"
   ]
  },
  {
   "cell_type": "code",
   "execution_count": null,
   "metadata": {},
   "outputs": [],
   "source": [
    "bildacher = BildacherBackgroundDataset()\n",
    "image = bildacher[0]\n",
    "print(image.shape)\n",
    "plot_tensor(image)"
   ]
  }
 ],
 "metadata": {
  "kernelspec": {
   "display_name": "hackathon",
   "language": "python",
   "name": "python3"
  },
  "language_info": {
   "codemirror_mode": {
    "name": "ipython",
    "version": 3
   },
   "file_extension": ".py",
   "mimetype": "text/x-python",
   "name": "python",
   "nbconvert_exporter": "python",
   "pygments_lexer": "ipython3",
   "version": "3.11.5"
  }
 },
 "nbformat": 4,
 "nbformat_minor": 2
}
