{
 "cells": [
  {
   "cell_type": "code",
   "execution_count": null,
   "id": "e4ef161c-2695-4923-a954-60d5842eb554",
   "metadata": {},
   "outputs": [],
   "source": [
    "from pycocotools.coco import COCO\n",
    "import numpy as np\n",
    "import cv2\n",
    "import os\n",
    "import matplotlib.pyplot as plt\n",
    "\n",
    "# Change this according to your data path\n",
    "DATA_ROOT = '/home/naro/images_hackaton/'\n",
    "data_dir = os.path.join(DATA_ROOT, 'bildacher/images')\n",
    "ann_file= os.path.join(DATA_ROOT, 'bildacher/coco/output.json')\n",
    "\n",
    "seg_output_path = os.path.join(DATA_ROOT, 'bildacher/masks')\n",
    "coco = COCO(ann_file)\n",
    "catIds = coco.getCatIds(catNms=['rumex_leaf'])\n",
    "imgIds = coco.getImgIds(catIds=catIds )\n",
    "if not os.path.exists(seg_output_path):\n",
    "    os.mkdir(seg_output_path)\n"
   ]
  },
  {
   "cell_type": "markdown",
   "id": "0e341577-1dc4-433c-a4a8-353a13776cfc",
   "metadata": {},
   "source": [
    "# A loop that run over all images and extract the masks"
   ]
  },
  {
   "cell_type": "code",
   "execution_count": null,
   "id": "7a948f3d-f53a-435e-85b5-3b17cc7df04f",
   "metadata": {},
   "outputs": [],
   "source": [
    "for i in range(len(imgIds)):\n",
    "    img = coco.loadImgs(imgIds[i])[0]\n",
    "    annIds = coco.getAnnIds(imgIds=img['id'], catIds=catIds, iscrowd=0)\n",
    "    anns = coco.loadAnns(annIds)\n",
    "    mask = coco.annToMask(anns[0])\n",
    "    for i in range(len(anns)):\n",
    "        mask = coco.annToMask(anns[i])\n",
    "        file_name = os.path.join(data_dir,img['file_name'])\n",
    "        try:\n",
    "            im = cv2.imread(file_name)\n",
    "            original_img = cv2.cvtColor(im, cv2.COLOR_BGR2RGB)\n",
    "            mask = mask.astype(np.uint8)\n",
    "            result = cv2.bitwise_and(original_img, original_img, mask=mask)\n",
    "        except:\n",
    "            print('Image {} unable to be loaded'.format(img['file_name']))\n",
    "\n",
    "        try:\n",
    "            first_non_zero_row = np.where(np.any(mask != 0, axis=1))[0][0]\n",
    "            last_non_zero_row = np.where(np.any(mask != 0, axis=1))[0][-1]\n",
    "            first_non_zero_col = np.where(np.any(mask != 0, axis=0))[0][0]\n",
    "            last_non_zero_col = np.where(np.any(mask != 0, axis=0))[0][-1]\n",
    "            cropped_image = original_img[first_non_zero_row:last_non_zero_row + 1, first_non_zero_col:last_non_zero_col + 1]\n",
    "            path_name = img['file_name'].split('.')[0] + '_' + str(i) + '.png'\n",
    "            cv2.imwrite(os.path.join(seg_output_path,path_name),cropped_image)\n",
    "            print(\"processing...\")\n",
    "\n",
    "        except:\n",
    "            print('Non sucessful extraction {}'.format(img['file_name']))\n"
   ]
  },
  {
   "cell_type": "markdown",
   "id": "1ccb44a1-daab-4a14-b3ce-7c37767d4f83",
   "metadata": {},
   "source": [
    "# A go through Example on one image"
   ]
  },
  {
   "cell_type": "code",
   "execution_count": null,
   "id": "453531d7-f9fa-4761-beb3-fcb363a636a4",
   "metadata": {},
   "outputs": [],
   "source": [
    "i = 5\n",
    "img = coco.loadImgs(imgIds[i])[0]\n",
    "annIds = coco.getAnnIds(imgIds=img['id'], catIds=catIds, iscrowd=0)\n",
    "anns = coco.loadAnns(annIds)\n",
    "mask = coco.annToMask(anns[0])\n",
    "file_name = os.path.join(data_dir,img['file_name'])\n",
    "im = cv2.imread(file_name)\n",
    "original_img = cv2.cvtColor(im, cv2.COLOR_BGR2RGB)\n",
    "plt.imshow(original_img)"
   ]
  },
  {
   "cell_type": "code",
   "execution_count": null,
   "id": "198d7a73-611b-411b-b6c7-f58186e33f3c",
   "metadata": {},
   "outputs": [],
   "source": [
    "plt.imshow(mask)"
   ]
  },
  {
   "cell_type": "code",
   "execution_count": null,
   "id": "196a7187-2577-4946-9ae7-d1c9fb541bd7",
   "metadata": {},
   "outputs": [],
   "source": [
    "mask = mask.astype(np.uint8)\n",
    "result = cv2.bitwise_and(original_img, original_img, mask=mask)\n",
    "plt.imshow(result)"
   ]
  },
  {
   "cell_type": "code",
   "execution_count": null,
   "id": "0308c70f-9a68-4ef1-8795-b2263aa5a906",
   "metadata": {},
   "outputs": [],
   "source": [
    "first_non_zero_row = np.where(np.any(mask != 0, axis=1))[0][0]\n",
    "last_non_zero_row = np.where(np.any(mask != 0, axis=1))[0][-1]\n",
    "first_non_zero_col = np.where(np.any(mask != 0, axis=0))[0][0]\n",
    "last_non_zero_col = np.where(np.any(mask != 0, axis=0))[0][-1]"
   ]
  },
  {
   "cell_type": "code",
   "execution_count": null,
   "id": "2c292a63-5f5c-430c-9358-825a243fff5d",
   "metadata": {},
   "outputs": [],
   "source": [
    "cropped_image = original_img[first_non_zero_row:last_non_zero_row + 1, first_non_zero_col:last_non_zero_col + 1]"
   ]
  },
  {
   "cell_type": "code",
   "execution_count": null,
   "id": "5bbcecc4-2d46-4725-a3cb-f3d349f4ea8d",
   "metadata": {},
   "outputs": [],
   "source": [
    "plt.imshow(cropped_image)"
   ]
  }
 ],
 "metadata": {
  "kernelspec": {
   "display_name": "Python 3 (ipykernel)",
   "language": "python",
   "name": "python3"
  },
  "language_info": {
   "codemirror_mode": {
    "name": "ipython",
    "version": 3
   },
   "file_extension": ".py",
   "mimetype": "text/x-python",
   "name": "python",
   "nbconvert_exporter": "python",
   "pygments_lexer": "ipython3",
   "version": "3.8.18"
  }
 },
 "nbformat": 4,
 "nbformat_minor": 5
}
