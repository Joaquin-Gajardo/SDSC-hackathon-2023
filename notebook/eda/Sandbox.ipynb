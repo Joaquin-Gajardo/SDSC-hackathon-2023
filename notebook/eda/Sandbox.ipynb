{
 "cells": [
  {
   "cell_type": "markdown",
   "metadata": {},
   "source": [
    "# Environment"
   ]
  },
  {
   "cell_type": "code",
   "execution_count": null,
   "metadata": {},
   "outputs": [],
   "source": [
    "import os\n",
    "\n",
    "import cv2 as cv\n",
    "import matplotlib.pylab as plt\n",
    "import numpy as np\n",
    "from PIL import Image\n",
    "from diffusers import StableDiffusionInpaintPipeline"
   ]
  },
  {
   "cell_type": "code",
   "execution_count": null,
   "metadata": {},
   "outputs": [],
   "source": [
    "pipe = StableDiffusionInpaintPipeline.from_pretrained(\n",
    "    \"runwayml/stable-diffusion-inpainting\",\n",
    "    # revision=\"fp16\",\n",
    "    # torch_dtype depends on CPU (float32) vs GPU (float16)\n",
    "    # https://stackoverflow.com/questions/75641074/i-run-stable-diffusion-its-wrong-runtimeerror-layernormkernelimpl-not-implem\n",
    "    # torch_dtype=torch.float16,\n",
    ").to(\"cuda\")"
   ]
  },
  {
   "cell_type": "code",
   "execution_count": null,
   "metadata": {},
   "outputs": [],
   "source": [
    "def show_result(\n",
    "    patch: np.array, \n",
    "    background: np.array, \n",
    "    output: np.array,\n",
    "    zoom: tuple[tuple[int, int]],\n",
    "    method_name: str\n",
    "):\n",
    "    fig, axes = plt.subplots(2, 2, figsize=(15, 10))\n",
    "    axes = axes.flatten()\n",
    "    axes[0].imshow(patch)\n",
    "    axes[0].set_title(\"Patch\")\n",
    "    axes[1].imshow(background)\n",
    "    axes[1].set_title(\"Background\")\n",
    "    axes[2].imshow(output)\n",
    "    axes[2].set_title(\"Merged images\")\n",
    "    axes[3].imshow(output[\n",
    "        zoom[1][0]:zoom[1][1],\n",
    "        zoom[0][0]:zoom[0][1],\n",
    "        :\n",
    "    ])\n",
    "    axes[3].set_title(\"Zoomed\")\n",
    "    # axes[3].set_xlim(zoom[0])\n",
    "    # axes[3].set_ylim(zoom[1])\n",
    "    plt.suptitle(method_name)"
   ]
  },
  {
   "cell_type": "markdown",
   "metadata": {},
   "source": [
    "# Analysis"
   ]
  },
  {
   "cell_type": "code",
   "execution_count": null,
   "metadata": {},
   "outputs": [],
   "source": [
    "DATA_DIR = \"../../data/postprocessed\"\n",
    "\n",
    "BORDER = 20 # in pixel"
   ]
  },
  {
   "cell_type": "code",
   "execution_count": null,
   "metadata": {},
   "outputs": [],
   "source": [
    "patch_path = os.path.join(\n",
    "    DATA_DIR,\n",
    "    \"train\",\n",
    "    \"patches\",\n",
    "    \"20220816_TaenikonWiese_S_xx_F_xx_O_sama_ID2_DJI_20220816121514_0132.0_2_rumex.png\"\n",
    ")\n",
    "easy_background_path = os.path.join(\n",
    "    DATA_DIR,\n",
    "    \"train\",\n",
    "    \"images\",\n",
    "    \"20230615_SchildDotnachtZaelgli_S_20_F_60_H_12_O_krma_ID1_DJI_20230615145252_0193.1_3.png\"\n",
    ")\n",
    "difficult_background_path = os.path.join(\n",
    "    DATA_DIR,\n",
    "    \"train\",\n",
    "    \"images\",\n",
    "    \"20230609_HerrenpuentSuedost_S_20_F_60_H_12_O_krma_ID1_DJI_20230609151113_0028.1_3.png\"\n",
    ")"
   ]
  },
  {
   "cell_type": "code",
   "execution_count": null,
   "metadata": {},
   "outputs": [],
   "source": [
    "background_path = difficult_background_path"
   ]
  },
  {
   "cell_type": "code",
   "execution_count": null,
   "metadata": {},
   "outputs": [],
   "source": [
    "patch = cv.imread(patch_path)\n",
    "patch = cv.cvtColor(patch, cv.COLOR_RGB2BGR)\n",
    "background = cv.imread(background_path)\n",
    "background = cv.cvtColor(background, cv.COLOR_RGB2BGR)\n",
    "# Background must be a square for some of the methods we are trying\n",
    "background = background[:512, :512, :]"
   ]
  },
  {
   "cell_type": "code",
   "execution_count": null,
   "metadata": {},
   "outputs": [],
   "source": [
    "# Simulate a mask\n",
    "p_x, p_y, _ = patch.shape\n",
    "x, y = 50, 50\n",
    "x_min, x_max = x, x+p_x\n",
    "y_min, y_max = y, y+p_y\n",
    "bg_patch = background[x_min:x_max, y_min:y_max, :]\n",
    "bounding_box_mask = np.zeros(background.shape[:-1])\n",
    "bounding_box_mask[x_min:x_max, y_min:y_max] = 1"
   ]
  },
  {
   "cell_type": "code",
   "execution_count": null,
   "metadata": {},
   "outputs": [],
   "source": [
    "def get_inpainting_mask(background, patch, bounding_box_mask, border: int = 10):\n",
    "    \n",
    "    p_x, p_y = patch.shape[:-1]\n",
    "    bg_x, bg_y = background.shape[:-1]\n",
    "    \n",
    "    x_pos, y_pos = np.where(bounding_box_mask == 1)\n",
    "    # Top left corner of bounding box\n",
    "    x = x_pos[0]\n",
    "    y = y_pos[0]\n",
    "    \n",
    "    # Mask is the border around the patch\n",
    "    mask = np.zeros((p_x + 2 * border, p_y + 2 * border))\n",
    "    mask[:2*border, :] = 1\n",
    "    mask[-2*border:, :] = 1\n",
    "    mask[:, -2*border:] = 1\n",
    "    mask[:, :2*border] = 1\n",
    "\n",
    "    tmp = np.zeros((bg_y, bg_x))\n",
    "    tmp[x-border:x+p_x+border, y-border:y+p_y+border] = mask\n",
    "    mask = tmp\n",
    "    \n",
    "    mask_3d = np.dstack((mask, mask, mask))\n",
    "    \n",
    "    inpainting_mask = (mask_3d * 255).astype(np.uint8)\n",
    "    \n",
    "    return inpainting_mask\n"
   ]
  },
  {
   "cell_type": "code",
   "execution_count": null,
   "metadata": {},
   "outputs": [],
   "source": [
    "border = 10\n",
    "inpainting_mask = get_inpainting_mask(background, patch, bounding_box_mask, border=border)"
   ]
  },
  {
   "cell_type": "code",
   "execution_count": null,
   "metadata": {},
   "outputs": [],
   "source": [
    "# The y axis of the inpainting_mask should extent by the amount of border\n",
    "(\n",
    "    np.where(inpainting_mask[:, :, 0] == 255)[0].max() - \n",
    "    np.where(bounding_box_mask[:, :] == 1)[0].max()\n",
    ") == border\n"
   ]
  },
  {
   "cell_type": "code",
   "execution_count": null,
   "metadata": {},
   "outputs": [],
   "source": [
    "fig, ax = plt.subplots(1, 2)\n",
    "ax[0].imshow(bounding_box_mask, cmap=\"Greys_r\")\n",
    "ax[1].imshow(inpainting_mask);"
   ]
  },
  {
   "cell_type": "code",
   "execution_count": null,
   "metadata": {},
   "outputs": [],
   "source": [
    "def perform_overlay_inpainting(\n",
    "    background, \n",
    "    patch, \n",
    "    bounding_box_mask, \n",
    "    output_filepath: str,\n",
    "    border: int = 1\n",
    "):\n",
    "    \n",
    "    # Mask is RGB (actually B&W) [0, 255] with content to be inpainted denoted by the white part\n",
    "    inpainting_mask_image = get_inpainting_mask(background, patch, bounding_box_mask, border)\n",
    "    \n",
    "    # Image and mask_image should be PIL images.\n",
    "    # The mask structure is white for in-painting and black for keeping as is\n",
    "    image = pipe(\n",
    "        # Default performs content aware filling\n",
    "        prompt=\"\", \n",
    "        image=Image.fromarray(background),\n",
    "        mask_image=Image.fromarray(inpainting_mask_image)\n",
    "    ).images[0]\n",
    "    \n",
    "    image.save(output_filepath)\n",
    "    \n",
    "    return image\n",
    "\n",
    "    "
   ]
  },
  {
   "cell_type": "code",
   "execution_count": null,
   "metadata": {},
   "outputs": [],
   "source": [
    "image = perform_overlay_inpainting(background, patch, bounding_box_mask, border=border, output_filepath=\"test.jpg\")"
   ]
  },
  {
   "cell_type": "code",
   "execution_count": null,
   "metadata": {},
   "outputs": [],
   "source": [
    "image"
   ]
  },
  {
   "cell_type": "code",
   "execution_count": null,
   "metadata": {},
   "outputs": [],
   "source": []
  }
 ],
 "metadata": {
  "kernelspec": {
   "display_name": "hackathon",
   "language": "python",
   "name": "python3"
  },
  "language_info": {
   "codemirror_mode": {
    "name": "ipython",
    "version": 3
   },
   "file_extension": ".py",
   "mimetype": "text/x-python",
   "name": "python",
   "nbconvert_exporter": "python",
   "pygments_lexer": "ipython3",
   "version": "3.11.5"
  }
 },
 "nbformat": 4,
 "nbformat_minor": 2
}
