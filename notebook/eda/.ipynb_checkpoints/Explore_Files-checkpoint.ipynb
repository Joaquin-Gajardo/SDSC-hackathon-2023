{
 "cells": [
  {
   "cell_type": "markdown",
   "id": "3b87f1ac-3cd4-4c59-8ee9-fb3945637fc9",
   "metadata": {},
   "source": [
    "# About this notebook\n",
    "\n",
    "Explore Azure blob storage and the images available to us"
   ]
  },
  {
   "cell_type": "markdown",
   "id": "dd2202a9-9df6-4511-8827-63c1485fa9cf",
   "metadata": {},
   "source": [
    "# Environment"
   ]
  },
  {
   "cell_type": "code",
   "execution_count": 3,
   "id": "41b66ff4-b8d5-455d-b04a-bcc1ee31da94",
   "metadata": {},
   "outputs": [],
   "source": [
    "import glob\n",
    "import os"
   ]
  },
  {
   "cell_type": "markdown",
   "id": "da6416b1-94ae-496f-a3df-3489166fc435",
   "metadata": {},
   "source": [
    "# Data"
   ]
  },
  {
   "cell_type": "code",
   "execution_count": null,
   "id": "518dfb1e-182e-40d9-b388-1710556144fe",
   "metadata": {},
   "outputs": [],
   "source": []
  }
 ],
 "metadata": {
  "kernelspec": {
   "display_name": "Python 3 (ipykernel)",
   "language": "python",
   "name": "python3"
  },
  "language_info": {
   "codemirror_mode": {
    "name": "ipython",
    "version": 3
   },
   "file_extension": ".py",
   "mimetype": "text/x-python",
   "name": "python",
   "nbconvert_exporter": "python",
   "pygments_lexer": "ipython3",
   "version": "3.11.5"
  }
 },
 "nbformat": 4,
 "nbformat_minor": 5
}
